{
 "cells": [
  {
   "cell_type": "markdown",
   "id": "e710b334",
   "metadata": {},
   "source": [
    "# 로지스틱 회귀 (Logistic Regression)"
   ]
  },
  {
   "cell_type": "markdown",
   "id": "3279fa77",
   "metadata": {},
   "source": [
    "bream 도미\n",
    "roach 잉어\n",
    "whitefish 송어\n",
    "parkki ..."
   ]
  },
  {
   "cell_type": "code",
   "execution_count": 1,
   "id": "dec38787",
   "metadata": {},
   "outputs": [],
   "source": [
    "import pandas as pd\n",
    "import numpy as np\n",
    "import warnings\n",
    "warnings.filterwarnings('ignore')"
   ]
  },
  {
   "cell_type": "code",
   "execution_count": 6,
   "id": "de93fb91",
   "metadata": {},
   "outputs": [
    {
     "data": {
      "text/plain": [
       "(  Species  Weight  Length  Diagonal   Height   Width\n",
       " 0   Bream   242.0    25.4      30.0  11.5200  4.0200\n",
       " 1   Bream   290.0    26.3      31.2  12.4800  4.3056\n",
       " 2   Bream   340.0    26.5      31.1  12.3778  4.6961\n",
       " 3   Bream   363.0    29.0      33.5  12.7300  4.4555\n",
       " 4   Bream   430.0    29.0      34.0  12.4440  5.1340,\n",
       " array(['Bream', 'Roach', 'Whitefish', 'Parkki', 'Perch', 'Pike', 'Smelt'],\n",
       "       dtype=object))"
      ]
     },
     "execution_count": 6,
     "metadata": {},
     "output_type": "execute_result"
    }
   ],
   "source": [
    "fish_df = pd.read_csv('./fish_data.csv')\n",
    "fish_df.head(), pd.unique(fish_df['Species'])"
   ]
  },
  {
   "cell_type": "code",
   "execution_count": null,
   "id": "16d1cbda",
   "metadata": {},
   "outputs": [
    {
     "data": {
      "text/plain": [
       "119"
      ]
     },
     "execution_count": 10,
     "metadata": {},
     "output_type": "execute_result"
    }
   ],
   "source": [
    "# 데이터셋 분리\n",
    "# 보통 데이터가 많아질수록 np(array)로 변환함 (기능 적지만 가벼워서)\n",
    "# pd는 아무래도 표로 만들다보니 무가와요...\n",
    "\n",
    "X = fish_df[['Weight', 'Length', 'Diagonal', 'Height', 'Width']].to_numpy()\n",
    "y = fish_df['Species'].to_numpy()\n",
    "\n",
    "from sklearn.model_selection import train_test_split\n",
    "X_train, X_test, y_train, y_test = train_test_split(X, y, random_state=42)\n",
    "\n",
    "len(X_train)"
   ]
  },
  {
   "cell_type": "code",
   "execution_count": null,
   "id": "bc18ee65",
   "metadata": {},
   "outputs": [],
   "source": [
    "# 스케일링 (훈련 셋에서 사용한 기준으로 테스트셋을 스케일링 해야 함)\n",
    "from sklearn.preprocessing import StandardScaler\n",
    "\n",
    "ss = StandardScaler()\n",
    "\n",
    "# 훈련 셋 기준으로 학습\n",
    "ss.fit(X_train)\n",
    "\n",
    "# 그 규칙으로 모두 변환\n",
    "X_train = ss.transform(X_train)\n",
    "X_test = ss.transform(X_test)\n",
    "\n",
    "# 중요한 점은, 테스트 데이터도 훈련 데이터 기준으로 변환한다는 거.\n",
    "# 테스트 데이터의 평균·표준편차를 새로 구하는 게 아니라,\n",
    "# 훈련 데이터에서 구한 평균·표준편차를 그대로 적용"
   ]
  },
  {
   "cell_type": "code",
   "execution_count": 14,
   "id": "4a09146a",
   "metadata": {},
   "outputs": [
    {
     "data": {
      "text/plain": [
       "(0.8907563025210085, 0.85)"
      ]
     },
     "execution_count": 14,
     "metadata": {},
     "output_type": "execute_result"
    }
   ],
   "source": [
    "from sklearn.neighbors import KNeighborsClassifier\n",
    "\n",
    "# 주변 3개의 생선을 보고 확률을 계산하자\n",
    "kn = KNeighborsClassifier(n_neighbors=3)\n",
    "kn.fit(X_train, y_train)\n",
    "\n",
    "kn.score(X_train, y_train), kn.score(X_test, y_test)"
   ]
  },
  {
   "cell_type": "code",
   "execution_count": 17,
   "id": "c8e07e41",
   "metadata": {},
   "outputs": [
    {
     "name": "stdout",
     "output_type": "stream",
     "text": [
      "['Bream' 'Parkki' 'Perch' 'Pike' 'Roach' 'Smelt' 'Whitefish']\n",
      "['Perch' 'Smelt' 'Pike' 'Perch' 'Perch']\n"
     ]
    }
   ],
   "source": [
    "# KN분류기가 분류해내는 항목들(클래스)\n",
    "print(kn.classes_)\n",
    "\n",
    "# 테스트셋에서 앞 5개 데이터를 예측해라\n",
    "print(kn.predict(X_test[:5]))"
   ]
  },
  {
   "cell_type": "code",
   "execution_count": null,
   "id": "b0cb868b",
   "metadata": {},
   "outputs": [
    {
     "data": {
      "text/plain": [
       "array([[0.        , 0.        , 1.        , 0.        , 0.        ,\n",
       "        0.        , 0.        ],\n",
       "       [0.        , 0.        , 0.        , 0.        , 0.        ,\n",
       "        1.        , 0.        ],\n",
       "       [0.        , 0.        , 0.        , 1.        , 0.        ,\n",
       "        0.        , 0.        ],\n",
       "       [0.        , 0.        , 0.66666667, 0.        , 0.33333333,\n",
       "        0.        , 0.        ],\n",
       "       [0.        , 0.        , 0.66666667, 0.        , 0.33333333,\n",
       "        0.        , 0.        ]])"
      ]
     },
     "execution_count": 18,
     "metadata": {},
     "output_type": "execute_result"
    }
   ],
   "source": [
    "# 테스트 데이터 5개가 특정 생선일 확률을 알려줘\n",
    "kn.predict_proba(X_test[:5])\n"
   ]
  }
 ],
 "metadata": {
  "kernelspec": {
   "display_name": "Python 3",
   "language": "python",
   "name": "python3"
  },
  "language_info": {
   "codemirror_mode": {
    "name": "ipython",
    "version": 3
   },
   "file_extension": ".py",
   "mimetype": "text/x-python",
   "name": "python",
   "nbconvert_exporter": "python",
   "pygments_lexer": "ipython3",
   "version": "3.13.2"
  }
 },
 "nbformat": 4,
 "nbformat_minor": 5
}
