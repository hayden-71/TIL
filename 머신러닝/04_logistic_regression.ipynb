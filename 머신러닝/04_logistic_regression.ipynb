{
 "cells": [
  {
   "cell_type": "markdown",
   "id": "e710b334",
   "metadata": {},
   "source": [
    "# 로지스틱 회귀 (Logistic Regression)"
   ]
  },
  {
   "cell_type": "markdown",
   "id": "3279fa77",
   "metadata": {},
   "source": [
    "bream 도미\n",
    "roach 잉어\n",
    "whitefish 송어\n",
    "parkki ..."
   ]
  },
  {
   "cell_type": "code",
   "execution_count": 1,
   "id": "dec38787",
   "metadata": {},
   "outputs": [],
   "source": [
    "import pandas as pd\n",
    "import numpy as np\n",
    "import warnings\n",
    "warnings.filterwarnings('ignore')"
   ]
  },
  {
   "cell_type": "code",
   "execution_count": 6,
   "id": "de93fb91",
   "metadata": {},
   "outputs": [
    {
     "data": {
      "text/plain": [
       "(  Species  Weight  Length  Diagonal   Height   Width\n",
       " 0   Bream   242.0    25.4      30.0  11.5200  4.0200\n",
       " 1   Bream   290.0    26.3      31.2  12.4800  4.3056\n",
       " 2   Bream   340.0    26.5      31.1  12.3778  4.6961\n",
       " 3   Bream   363.0    29.0      33.5  12.7300  4.4555\n",
       " 4   Bream   430.0    29.0      34.0  12.4440  5.1340,\n",
       " array(['Bream', 'Roach', 'Whitefish', 'Parkki', 'Perch', 'Pike', 'Smelt'],\n",
       "       dtype=object))"
      ]
     },
     "execution_count": 6,
     "metadata": {},
     "output_type": "execute_result"
    }
   ],
   "source": [
    "fish_df = pd.read_csv('./fish_data.csv')\n",
    "fish_df.head(), pd.unique(fish_df['Species'])"
   ]
  },
  {
   "cell_type": "code",
   "execution_count": null,
   "id": "16d1cbda",
   "metadata": {},
   "outputs": [
    {
     "data": {
      "text/plain": [
       "119"
      ]
     },
     "execution_count": 10,
     "metadata": {},
     "output_type": "execute_result"
    }
   ],
   "source": [
    "# 데이터셋 분리\n",
    "# 보통 데이터가 많아질수록 np(array)로 변환함 (기능 적지만 가벼워서)\n",
    "# pd는 아무래도 표로 만들다보니 무가와요...\n",
    "\n",
    "X = fish_df[['Weight', 'Length', 'Diagonal', 'Height', 'Width']].to_numpy()\n",
    "y = fish_df['Species'].to_numpy()\n",
    "\n",
    "from sklearn.model_selection import train_test_split\n",
    "X_train, X_test, y_train, y_test = train_test_split(X, y, random_state=42)\n",
    "\n",
    "len(X_train)"
   ]
  },
  {
   "cell_type": "code",
   "execution_count": null,
   "id": "bc18ee65",
   "metadata": {},
   "outputs": [],
   "source": [
    "# 스케일링 (훈련 셋에서 사용한 기준으로 테스트셋을 스케일링 해야 함)\n",
    "from sklearn.preprocessing import StandardScaler\n",
    "\n",
    "ss = StandardScaler()\n",
    "\n",
    "# 훈련 셋 기준으로 학습\n",
    "ss.fit(X_train)\n",
    "\n",
    "# 그 규칙으로 모두 변환\n",
    "X_train = ss.transform(X_train)\n",
    "X_test = ss.transform(X_test)\n",
    "\n",
    "# 중요한 점은, 테스트 데이터도 훈련 데이터 기준으로 변환한다는 거.\n",
    "# 테스트 데이터의 평균·표준편차를 새로 구하는 게 아니라,\n",
    "# 훈련 데이터에서 구한 평균·표준편차를 그대로 적용"
   ]
  },
  {
   "cell_type": "markdown",
   "id": "92b6597e",
   "metadata": {},
   "source": [
    "### KN으로 보자"
   ]
  },
  {
   "cell_type": "code",
   "execution_count": 14,
   "id": "4a09146a",
   "metadata": {},
   "outputs": [
    {
     "data": {
      "text/plain": [
       "(0.8907563025210085, 0.85)"
      ]
     },
     "execution_count": 14,
     "metadata": {},
     "output_type": "execute_result"
    }
   ],
   "source": [
    "from sklearn.neighbors import KNeighborsClassifier\n",
    "\n",
    "# 주변 3개의 생선을 보고 확률을 계산하자\n",
    "kn = KNeighborsClassifier(n_neighbors=3)\n",
    "kn.fit(X_train, y_train)\n",
    "\n",
    "kn.score(X_train, y_train), kn.score(X_test, y_test)"
   ]
  },
  {
   "cell_type": "code",
   "execution_count": 17,
   "id": "c8e07e41",
   "metadata": {},
   "outputs": [
    {
     "name": "stdout",
     "output_type": "stream",
     "text": [
      "['Bream' 'Parkki' 'Perch' 'Pike' 'Roach' 'Smelt' 'Whitefish']\n",
      "['Perch' 'Smelt' 'Pike' 'Perch' 'Perch']\n"
     ]
    }
   ],
   "source": [
    "# KN분류기가 분류해내는 항목들(클래스)\n",
    "print(kn.classes_)\n",
    "\n",
    "# 테스트셋에서 앞 5개 데이터를 예측해라\n",
    "print(kn.predict(X_test[:5]))"
   ]
  },
  {
   "cell_type": "code",
   "execution_count": 19,
   "id": "b0cb868b",
   "metadata": {},
   "outputs": [
    {
     "data": {
      "text/plain": [
       "array([[0.        , 0.        , 1.        , 0.        , 0.        ,\n",
       "        0.        , 0.        ],\n",
       "       [0.        , 0.        , 0.        , 0.        , 0.        ,\n",
       "        1.        , 0.        ],\n",
       "       [0.        , 0.        , 0.        , 1.        , 0.        ,\n",
       "        0.        , 0.        ],\n",
       "       [0.        , 0.        , 0.66666667, 0.        , 0.33333333,\n",
       "        0.        , 0.        ],\n",
       "       [0.        , 0.        , 0.66666667, 0.        , 0.33333333,\n",
       "        0.        , 0.        ]])"
      ]
     },
     "execution_count": 19,
     "metadata": {},
     "output_type": "execute_result"
    }
   ],
   "source": [
    "# 테스트 데이터 5개가 특정 생선일 확률을 알려줘\n",
    "kn.predict_proba(X_test[:5])"
   ]
  },
  {
   "cell_type": "markdown",
   "id": "14fee4fb",
   "metadata": {},
   "source": [
    "### 로지스틱 회귀\n",
    "로지스틱 회귀는 분류(1기다, 0아니다)\n",
    "\n",
    "확률을 구할 때 시그모이드 함수를 사용해서 0~1로 변환\n",
    "\n",
    "Z = a*무게 + b*길이 + c*높이 + d*대각선 + e*두께 + f"
   ]
  },
  {
   "cell_type": "code",
   "execution_count": 32,
   "id": "91834474",
   "metadata": {},
   "outputs": [
    {
     "data": {
      "image/png": "[encoded data removed]",
      "text/plain": [
       "<Figure size 640x480 with 1 Axes>"
      ]
     },
     "metadata": {},
     "output_type": "display_data"
    }
   ],
   "source": [
    "import matplotlib.pyplot as plt\n",
    "\n",
    "# 시그모이드 함수(모든 x를 0 ~ 1 사이 값으로 변환)\n",
    "z = np.arange(-5, 5, 0.1)\n",
    "phi = 1 / (1 + np.exp(-z))\n",
    "plt.plot(z, phi)\n",
    "plt.show()"
   ]
  },
  {
   "cell_type": "markdown",
   "id": "423db5b3",
   "metadata": {},
   "source": [
    "### 로지스틱 회귀로 이진분류 (빙어, 도미)"
   ]
  },
  {
   "cell_type": "code",
   "execution_count": 20,
   "id": "8f2b104c",
   "metadata": {},
   "outputs": [],
   "source": [
    "X_train, X_test, y_train, y_test = train_test_split(X, y, random_state=42)\n",
    "\n",
    "ss = StandardScaler()\n",
    "ss.fit(X_train)\n",
    "X_train_s = ss.transform(X_train)\n",
    "X_test_s = ss.transform(X_test)\n",
    "\n",
    "\n",
    "index = (y_train == 'Bream') | (y_train == 'Smelt')\n",
    "\n",
    "X_bream_smelt_train = X_train_s[index]\n",
    "y_bream_smelt_train = y_train[index]"
   ]
  },
  {
   "cell_type": "code",
   "execution_count": 35,
   "id": "ec8c41d4",
   "metadata": {},
   "outputs": [
    {
     "name": "stdout",
     "output_type": "stream",
     "text": [
      "=== 방정식 기울기, 절편 결과 [[-0.40451732 -0.57582787 -0.66248158 -1.01329614 -0.73123131]] / [-2.16172774]===\n",
      "['Bream' 'Smelt']\n",
      "['Bream' 'Smelt' 'Bream' 'Bream' 'Bream' 'Smelt' 'Bream' 'Bream' 'Bream'\n",
      " 'Bream' 'Bream' 'Bream' 'Bream' 'Smelt' 'Bream' 'Smelt' 'Smelt' 'Bream'\n",
      " 'Bream' 'Bream' 'Bream' 'Bream' 'Bream' 'Bream' 'Bream' 'Smelt' 'Bream'\n",
      " 'Smelt' 'Smelt' 'Bream' 'Smelt' 'Bream' 'Bream']\n",
      "1.0\n",
      "[0.00239993 0.97262675 0.00513614 0.01414953 0.00232581]\n",
      "[[0.99760007 0.00239993]\n",
      " [0.02737325 0.97262675]\n",
      " [0.99486386 0.00513614]\n",
      " [0.98585047 0.01414953]\n",
      " [0.99767419 0.00232581]]\n"
     ]
    }
   ],
   "source": [
    "from sklearn.linear_model import LogisticRegression\n",
    "lr = LogisticRegression()\n",
    "\n",
    "# 로지스틱 회귀 학습 -> 방정식 만들기\n",
    "lr.fit(X_bream_smelt_train, y_bream_smelt_train)\n",
    "print(f'=== 방정식 기울기, 절편 결과 {lr.coef_} / {lr.intercept_}===')\n",
    "# -0.4무게 + -0.576길이 + ...\n",
    "\n",
    "# 분류 항목 확인\n",
    "print(lr.classes_)\n",
    "\n",
    "# 도미/빙어 예측 결과\n",
    "print(lr.predict(X_bream_smelt_train))\n",
    "\n",
    "# 점수\n",
    "print(lr.score(X_bream_smelt_train, y_bream_smelt_train))\n",
    "\n",
    "\n",
    "\n",
    "# 1. z점수 -> 이걸 시그모이드 함수에 넣으면 아래 값이 나옴!\n",
    "decisions = lr.decision_function(X_bream_smelt_train[:5])\n",
    "\n",
    "# 2-1. 직접 시그모이드 통과시키기\n",
    "from scipy.special import expit\n",
    "print(expit(decisions))\n",
    "\n",
    "# 2-2. 바로 계산된 결과 (확률)\n",
    "print(lr.predict_proba(X_bream_smelt_train[:5]))"
   ]
  },
  {
   "cell_type": "markdown",
   "id": "43a08054",
   "metadata": {},
   "source": [
    "### 로지스틱 회귀로 다중분류 (생선 7종)"
   ]
  },
  {
   "cell_type": "code",
   "execution_count": null,
   "id": "c491ecaf",
   "metadata": {},
   "outputs": [],
   "source": [
    "# 시그모이드 vs 소프트맥스 함수\n",
    "\n",
    "# 시그모이드(sigmoid): 0~1로 변환 → 이진 분류(binary classification)\n",
    "# 소프트맥스(softmax): 여러 클래스 확률 분포로 변환 → 다중 분류(multi-class classification)\n",
    "                    # 신경망이나 로지스틱 회귀는 최종적으로 \"점수(logit)\"를 뱉음\n",
    "                    # 이 점수는 그냥 크고 작은 실수 → 소프트맥스를 쓰면 이 값들을 \"확률 분포\"로 바꿔줌"
   ]
  },
  {
   "cell_type": "code",
   "execution_count": 38,
   "id": "a3dcf7d0",
   "metadata": {},
   "outputs": [
    {
     "name": "stdout",
     "output_type": "stream",
     "text": [
      "0.9327731092436975\n",
      "0.925\n"
     ]
    }
   ],
   "source": [
    "# 2진분류 vs 다중분류에 따라 내부 동작이 다름!\n",
    "\n",
    "# C = 규제, max_iter = 반복횟수의 제한 \n",
    "lr = LogisticRegression(C=20, max_iter=1000)\n",
    "\n",
    "lr.fit(X_train_s, y_train)\n",
    "\n",
    "# 훈련, 테스트 점수\n",
    "print(lr.score(X_train_s, y_train))\n",
    "print(lr.score(X_test_s, y_test))"
   ]
  },
  {
   "cell_type": "code",
   "execution_count": 43,
   "id": "5114f48b",
   "metadata": {},
   "outputs": [
    {
     "name": "stdout",
     "output_type": "stream",
     "text": [
      "['Perch' 'Smelt' 'Pike' 'Roach' 'Perch']\n",
      "['Bream' 'Parkki' 'Perch' 'Pike' 'Roach' 'Smelt' 'Whitefish']\n",
      "[[0.    0.014 0.842 0.    0.135 0.007 0.003]\n",
      " [0.    0.003 0.044 0.    0.007 0.946 0.   ]\n",
      " [0.    0.    0.034 0.934 0.015 0.016 0.   ]\n",
      " [0.011 0.034 0.305 0.006 0.567 0.    0.076]\n",
      " [0.    0.    0.904 0.002 0.089 0.002 0.001]]\n"
     ]
    }
   ],
   "source": [
    "print(lr.predict(X_test_s[:5]))\n",
    "\n",
    "# 분류의 근거 (확률)을 보자\n",
    "print(lr.classes_)\n",
    "print(np.round(lr.predict_proba(X_test_s[:5]), decimals=3))"
   ]
  },
  {
   "cell_type": "code",
   "execution_count": 44,
   "id": "5d393178",
   "metadata": {},
   "outputs": [
    {
     "data": {
      "text/plain": [
       "array([[ -6.51,   1.04,   5.17,  -2.76,   3.34,   0.35,  -0.63],\n",
       "       [-10.88,   1.94,   4.78,  -2.42,   2.99,   7.84,  -4.25],\n",
       "       [ -4.34,  -6.24,   3.17,   6.48,   2.36,   2.43,  -3.87],\n",
       "       [ -0.69,   0.45,   2.64,  -1.21,   3.26,  -5.7 ,   1.26],\n",
       "       [ -6.4 ,  -1.99,   5.82,  -0.13,   3.5 ,  -0.09,  -0.7 ]])"
      ]
     },
     "execution_count": 44,
     "metadata": {},
     "output_type": "execute_result"
    }
   ],
   "source": [
    "decisions = lr.decision_function(X_test_s[:5])\n",
    "np.round(decisions, decimals=2)"
   ]
  },
  {
   "cell_type": "markdown",
   "id": "9687c800",
   "metadata": {},
   "source": [
    "### with GPT....    "
   ]
  },
  {
   "cell_type": "code",
   "execution_count": null,
   "id": "81b85219",
   "metadata": {},
   "outputs": [
    {
     "name": "stdout",
     "output_type": "stream",
     "text": [
      "클래스별 확률: [[0.42094336 0.32248407 0.25657257]]\n",
      "예측 클래스: [0]\n"
     ]
    },
    {
     "name": "stderr",
     "output_type": "stream",
     "text": [
      "c:\\Users\\agnes\\AppData\\Local\\Programs\\Python\\Python313\\Lib\\site-packages\\sklearn\\linear_model\\_logistic.py:1272: FutureWarning: 'multi_class' was deprecated in version 1.5 and will be removed in 1.7. From then on, it will always use 'multinomial'. Leave it to its default value to avoid this warning.\n",
      "  warnings.warn(\n"
     ]
    }
   ],
   "source": [
    "from sklearn.linear_model import LogisticRegression\n",
    "\n",
    "X = [[1, 2], [2, 1], [3, 5], [5, 2]]\n",
    "y = [0, 0, 1, 2]\n",
    "\n",
    "                            # 다중분류를 할게~      최적화 알고리즘 (확률 계산을 위한 파라미터 찾기용)\n",
    "clf = LogisticRegression(multi_class='multinomial', solver='lbfgs')\n",
    "clf.fit(X, y)\n",
    "\n",
    "new_data = [[3, 3]]\n",
    "print(\"클래스별 확률:\", clf.predict_proba(new_data))\n",
    "print(\"예측 클래스:\", clf.predict(new_data))"
   ]
  },
  {
   "cell_type": "code",
   "execution_count": 4,
   "id": "0b870b8a",
   "metadata": {},
   "outputs": [
    {
     "name": "stderr",
     "output_type": "stream",
     "text": [
      "C:\\Users\\agnes\\AppData\\Roaming\\Python\\Python313\\site-packages\\IPython\\core\\pylabtools.py:170: UserWarning: Glyph 54869 (\\N{HANGUL SYLLABLE HWAG}) missing from font(s) DejaVu Sans.\n",
      "  fig.canvas.print_figure(bytes_io, **kw)\n",
      "C:\\Users\\agnes\\AppData\\Roaming\\Python\\Python313\\site-packages\\IPython\\core\\pylabtools.py:170: UserWarning: Glyph 47456 (\\N{HANGUL SYLLABLE RYUL}) missing from font(s) DejaVu Sans.\n",
      "  fig.canvas.print_figure(bytes_io, **kw)\n",
      "C:\\Users\\agnes\\AppData\\Roaming\\Python\\Python313\\site-packages\\IPython\\core\\pylabtools.py:170: UserWarning: Glyph 53364 (\\N{HANGUL SYLLABLE KEUL}) missing from font(s) DejaVu Sans.\n",
      "  fig.canvas.print_figure(bytes_io, **kw)\n",
      "C:\\Users\\agnes\\AppData\\Roaming\\Python\\Python313\\site-packages\\IPython\\core\\pylabtools.py:170: UserWarning: Glyph 47000 (\\N{HANGUL SYLLABLE RAE}) missing from font(s) DejaVu Sans.\n",
      "  fig.canvas.print_figure(bytes_io, **kw)\n",
      "C:\\Users\\agnes\\AppData\\Roaming\\Python\\Python313\\site-packages\\IPython\\core\\pylabtools.py:170: UserWarning: Glyph 49828 (\\N{HANGUL SYLLABLE SEU}) missing from font(s) DejaVu Sans.\n",
      "  fig.canvas.print_figure(bytes_io, **kw)\n",
      "C:\\Users\\agnes\\AppData\\Roaming\\Python\\Python313\\site-packages\\IPython\\core\\pylabtools.py:170: UserWarning: Glyph 48324 (\\N{HANGUL SYLLABLE BYEOL}) missing from font(s) DejaVu Sans.\n",
      "  fig.canvas.print_figure(bytes_io, **kw)\n",
      "C:\\Users\\agnes\\AppData\\Roaming\\Python\\Python313\\site-packages\\IPython\\core\\pylabtools.py:170: UserWarning: Glyph 49548 (\\N{HANGUL SYLLABLE SO}) missing from font(s) DejaVu Sans.\n",
      "  fig.canvas.print_figure(bytes_io, **kw)\n",
      "C:\\Users\\agnes\\AppData\\Roaming\\Python\\Python313\\site-packages\\IPython\\core\\pylabtools.py:170: UserWarning: Glyph 54532 (\\N{HANGUL SYLLABLE PEU}) missing from font(s) DejaVu Sans.\n",
      "  fig.canvas.print_figure(bytes_io, **kw)\n",
      "C:\\Users\\agnes\\AppData\\Roaming\\Python\\Python313\\site-packages\\IPython\\core\\pylabtools.py:170: UserWarning: Glyph 53944 (\\N{HANGUL SYLLABLE TEU}) missing from font(s) DejaVu Sans.\n",
      "  fig.canvas.print_figure(bytes_io, **kw)\n",
      "C:\\Users\\agnes\\AppData\\Roaming\\Python\\Python313\\site-packages\\IPython\\core\\pylabtools.py:170: UserWarning: Glyph 47589 (\\N{HANGUL SYLLABLE MAEG}) missing from font(s) DejaVu Sans.\n",
      "  fig.canvas.print_figure(bytes_io, **kw)\n"
     ]
    },
    {
     "data": {
      "image/png": "[encoded data removed]",
      "text/plain": [
       "<Figure size 640x480 with 1 Axes>"
      ]
     },
     "metadata": {},
     "output_type": "display_data"
    }
   ],
   "source": [
    "import matplotlib.pyplot as plt\n",
    "import numpy as np\n",
    "\n",
    "# 예측 확률 (predict_proba 결과)\n",
    "probs = np.array([0.42094336, 0.32248407, 0.25657257])\n",
    "\n",
    "# 클래스 이름 (0, 1, 2라고 가정)\n",
    "classes = np.arange(len(probs))\n",
    "\n",
    "# 막대그래프 그리기\n",
    "plt.bar(classes, probs, color=\"skyblue\")\n",
    "plt.xticks(classes, [f\"Class {c}\" for c in classes])\n",
    "plt.ylabel(\"확률\")\n",
    "plt.title(\"클래스별 소프트맥스 확률\")\n",
    "\n",
    "# 확률 값 표시\n",
    "for i, v in enumerate(probs):\n",
    "    plt.text(i, v + 0.01, f\"{v:.2f}\", ha=\"center\")\n",
    "\n",
    "plt.show()"
   ]
  },
  {
   "cell_type": "code",
   "execution_count": 7,
   "id": "4aae6a13",
   "metadata": {},
   "outputs": [
    {
     "name": "stdout",
     "output_type": "stream",
     "text": [
      "클래스별 확률: [[0.30440777 0.40994894 0.2856433 ]]\n",
      "예측 클래스: [1]\n"
     ]
    },
    {
     "name": "stderr",
     "output_type": "stream",
     "text": [
      "c:\\Users\\agnes\\AppData\\Local\\Programs\\Python\\Python313\\Lib\\site-packages\\sklearn\\linear_model\\_logistic.py:1272: FutureWarning: 'multi_class' was deprecated in version 1.5 and will be removed in 1.7. From then on, it will always use 'multinomial'. Leave it to its default value to avoid this warning.\n",
      "  warnings.warn(\n"
     ]
    }
   ],
   "source": [
    "# 위 코드는 데이터가 넘 적어서 0으로 쏠린거 아냐..? 싶어서 다시 만듦\n",
    "# 클래스 0 (왼쪽 아래 근처)\n",
    "X0 = [[1,2],[2,1],[2,2],[1,1]]\n",
    "y0 = [0]*len(X0)\n",
    "\n",
    "# 클래스 1 (위쪽)\n",
    "X1 = [[3,5],[3,4],[4,5],[2,5]]\n",
    "y1 = [1]*len(X1)\n",
    "\n",
    "# 클래스 2 (오른쪽 아래)\n",
    "X2 = [[5,2],[4,2],[5,3],[6,2]]\n",
    "y2 = [2]*len(X2)\n",
    "\n",
    "# 전체 합치기\n",
    "X = X0 + X1 + X2\n",
    "y = y0 + y1 + y2\n",
    "\n",
    "clf = LogisticRegression(multi_class='multinomial', solver='lbfgs')\n",
    "clf.fit(X, y)\n",
    "\n",
    "new_data = [[3, 3]]\n",
    "print(\"클래스별 확률:\", clf.predict_proba(new_data))\n",
    "print(\"예측 클래스:\", clf.predict(new_data))"
   ]
  }
 ],
 "metadata": {
  "kernelspec": {
   "display_name": "Python 3",
   "language": "python",
   "name": "python3"
  },
  "language_info": {
   "codemirror_mode": {
    "name": "ipython",
    "version": 3
   },
   "file_extension": ".py",
   "mimetype": "text/x-python",
   "name": "python",
   "nbconvert_exporter": "python",
   "pygments_lexer": "ipython3",
   "version": "3.13.2"
  }
 },
 "nbformat": 4,
 "nbformat_minor": 5
}
