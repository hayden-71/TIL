{
 "cells": [
  {
   "cell_type": "code",
   "execution_count": 6,
   "id": "0642f61b",
   "metadata": {},
   "outputs": [],
   "source": [
    "import random\n",
    "my_numbers = random.sample(range(1, 46), 6)"
   ]
  },
  {
   "cell_type": "code",
   "execution_count": 31,
   "id": "d2ee8323",
   "metadata": {},
   "outputs": [],
   "source": [
    "import requests\n",
    "URL = '''https://www.dhlottery.co.kr/common.do?method=getLottoNumber&drwNo=1181'''\n",
    "\n",
    "res = requests.get(URL)"
   ]
  },
  {
   "cell_type": "code",
   "execution_count": 32,
   "id": "77a92b83",
   "metadata": {},
   "outputs": [
    {
     "name": "stdout",
     "output_type": "stream",
     "text": [
      "{'totSellamnt': 113802682000, 'returnValue': 'success', 'drwNoDate': '2025-07-19', 'firstWinamnt': 1593643500, 'drwtNo6': 41, 'drwtNo4': 20, 'firstPrzwnerCo': 17, 'drwtNo5': 33, 'bnusNo': 28, 'firstAccumamnt': 27091939500, 'drwNo': 1181, 'drwtNo2': 10, 'drwtNo3': 14, 'drwtNo1': 8}\n"
     ]
    }
   ],
   "source": [
    "data = res.json()\n",
    "print(data)"
   ]
  },
  {
   "cell_type": "code",
   "execution_count": null,
   "id": "ca37ff54",
   "metadata": {},
   "outputs": [
    {
     "ename": "SyntaxError",
     "evalue": "invalid syntax (1824114017.py, line 74)",
     "output_type": "error",
     "traceback": [
      "  \u001b[36mCell\u001b[39m\u001b[36m \u001b[39m\u001b[32mIn[52]\u001b[39m\u001b[32m, line 74\u001b[39m\n\u001b[31m    \u001b[39m\u001b[31mresult False\u001b[39m\n           ^\n\u001b[31mSyntaxError\u001b[39m\u001b[31m:\u001b[39m invalid syntax\n"
     ]
    }
   ],
   "source": [
    "my_numbers\n",
    "# 1. data에서 real_numbers를 뽑는다\n",
    "# real_numbers = [\n",
    "#     data['drwtNo1'],\n",
    "#     data['drwtNo2'],\n",
    "#     data['drwtNo3']\n",
    "#     # 더 좋은 방법?]\n",
    "# bonus = data['bonusNo']\n",
    "\n",
    "real_numbers = []\n",
    "\n",
    "for key, value in data.items():\n",
    "    if key.startswith('drwt'):\n",
    "        real_numbers.append(value)\n",
    "\n",
    "bonus = data['bnusNo']\n",
    "print(real_numbers, bonus)\n",
    "\n",
    "\n",
    "# 2. real_numbers + 보너스 와 my_numbers 비교해서 등수 확인\n",
    "count = 0\n",
    "\n",
    "for num in real_numbers:\n",
    "    if num == my_numbers:\n",
    "        count += 1\n",
    "\n",
    "        if count == 6:\n",
    "                print('1등')\n",
    "        elif count == 5 and bonus:\n",
    "                print('2등')\n",
    "        elif count == 5:\n",
    "                print('3등')\n",
    "        elif count == 4:\n",
    "                print('4등')\n",
    "        elif count == 3:\n",
    "                print('3등')\n",
    "        else:\n",
    "                print('꽝')\n",
    "\n",
    "\n",
    "\n",
    "# 맞는 숫자의 개수\n",
    "match_cnt = set(real_numbers) & set(my_numbers)\n",
    "if match_cnt == 6:\n",
    "      print(1)\n",
    "elif match_cnt == 5 and bonus in my_numbers:\n",
    "      print(2)\n",
    "elif match_cnt == 5:\n",
    "      print(3)\n",
    "elif match_cnt == 4:\n",
    "      print(4)\n",
    "elif match_cnt == 3:\n",
    "      print(5)\n",
    "else:\n",
    "      print('다음 기회에')\n",
    "      \n",
    "\n"
   ]
  },
  {
   "cell_type": "code",
   "execution_count": 53,
   "id": "a54965ed",
   "metadata": {},
   "outputs": [],
   "source": [
    "#3. 등수를 뽑아주는 함수를 만들어 보자\n",
    "\n",
    "def lotto_rank(my_numbers, real_numbers, bonus):\n",
    "    match_cnt = set(real_numbers) & set(my_numbers)\n",
    "    if match_cnt == 6:\n",
    "        result = 1\n",
    "    elif match_cnt == 5 and bonus in my_numbers:\n",
    "        result = 2\n",
    "    elif match_cnt == 5:\n",
    "        result = 3\n",
    "    elif match_cnt == 4:\n",
    "        result = 4\n",
    "    elif match_cnt == 3:\n",
    "        result = 5\n",
    "    else:\n",
    "        result = False\n",
    "    return result\n",
    "\n"
   ]
  },
  {
   "cell_type": "code",
   "execution_count": null,
   "id": "29a0168d",
   "metadata": {},
   "outputs": [],
   "source": []
  },
  {
   "cell_type": "code",
   "execution_count": null,
   "id": "7eec883c",
   "metadata": {},
   "outputs": [],
   "source": []
  }
 ],
 "metadata": {
  "kernelspec": {
   "display_name": "Python 3",
   "language": "python",
   "name": "python3"
  },
  "language_info": {
   "codemirror_mode": {
    "name": "ipython",
    "version": 3
   },
   "file_extension": ".py",
   "mimetype": "text/x-python",
   "name": "python",
   "nbconvert_exporter": "python",
   "pygments_lexer": "ipython3",
   "version": "3.13.2"
  }
 },
 "nbformat": 4,
 "nbformat_minor": 5
}
