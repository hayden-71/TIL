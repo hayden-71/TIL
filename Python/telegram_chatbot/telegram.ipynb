{
 "cells": [
  {
   "cell_type": "code",
   "execution_count": 2,
   "id": "19f03d70",
   "metadata": {},
   "outputs": [],
   "source": [
    "from dotenv import load_dotenv\n",
    "import os\n",
    "\n",
    "load_dotenv()\n",
    "# Bot의 주민번호. 이게 있어야 어떤 봇을 컨트롤 하는지\n",
    "\n",
    "bot_token = os.getenv('TELEGRAM_BOT_TOKEN')"
   ]
  },
  {
   "cell_type": "code",
   "execution_count": null,
   "id": "ad66744d",
   "metadata": {},
   "outputs": [],
   "source": [
    "# 고정된 URL. 뒤에 붙는 말에 따라 다른 요청이 됨\n",
    "URL = f'https://api.telegram.org/bot{bot_token}'"
   ]
  },
  {
   "cell_type": "code",
   "execution_count": 12,
   "id": "70f3780a",
   "metadata": {},
   "outputs": [
    {
     "name": "stdout",
     "output_type": "stream",
     "text": [
      "https://api.telegram.org/bot8333130785:AAHktEFCulEJb2iBjru8YyJngYdKpY03q1U/getMe\n"
     ]
    }
   ],
   "source": [
    "# Bot에 대한 정보\n",
    "print(URL + '/getMe')"
   ]
  },
  {
   "cell_type": "code",
   "execution_count": 11,
   "id": "f0f7875c",
   "metadata": {},
   "outputs": [
    {
     "name": "stdout",
     "output_type": "stream",
     "text": [
      "https://api.telegram.org/bot8333130785:AAHktEFCulEJb2iBjru8YyJngYdKpY03q1U/getUpdates\n"
     ]
    }
   ],
   "source": [
    "# Bot의 모든 업데이트\n",
    "print(URL + '/getUpdates')"
   ]
  },
  {
   "cell_type": "code",
   "execution_count": 18,
   "id": "20b97b4b",
   "metadata": {},
   "outputs": [
    {
     "name": "stdout",
     "output_type": "stream",
     "text": [
      "https://api.telegram.org/bot8333130785:AAHktEFCulEJb2iBjru8YyJngYdKpY03q1U/sendMessage\n"
     ]
    }
   ],
   "source": [
    "# 답장을 위한 상대방 id\n",
    "my_id = '7878709991'\n",
    "\n",
    "#메세지\n",
    "message = '나도_메롱_바보씨'\n",
    "\n",
    "print(URL + '/sendMessage')"
   ]
  },
  {
   "cell_type": "code",
   "execution_count": null,
   "id": "226cc02a",
   "metadata": {},
   "outputs": [],
   "source": [
    "# ~~~~~~~~~~~request 프로그램을 이용해보자~~~~~~~~~~~~~~~~~~"
   ]
  },
  {
   "cell_type": "code",
   "execution_count": null,
   "id": "4672834d",
   "metadata": {},
   "outputs": [],
   "source": [
    "# json (스트링)형태로 이루어진 응답을, 딕셔너리 형태로 가져왓!\n",
    "# data.json()"
   ]
  },
  {
   "cell_type": "code",
   "execution_count": 97,
   "id": "a7fdcd3d",
   "metadata": {},
   "outputs": [
    {
     "name": "stdout",
     "output_type": "stream",
     "text": [
      "로또 가즈아 7878709991\n"
     ]
    }
   ],
   "source": [
    "## 봇 업데이트 받아서, 마지막 메시지&보낸 사람id 받아오기\n",
    "\n",
    "\n",
    "# 1. /getUpdates로 요청 보내고 -> 응답 json 받아서 저장 (실행할 때마다 갱신)!!!!!!!!!!!!!\n",
    "import requests\n",
    "data = requests.get(URL + '/getUpdates').json()\n",
    "\n",
    "\n",
    "# 2. 데이터 안에 마지막 메세지의 text를 뽑아라\n",
    "# list(data.values())[-1]['message']['text']\n",
    "input_msg = data['result'][-1]['message']['text']\n",
    "\n",
    "#마지막 메시지의 보낸사람 id 뽑기\n",
    "sender_id = data['result'][-1]['message']['from']['id']\n",
    "\n",
    "\n",
    "print(input_msg, sender_id)\n"
   ]
  },
  {
   "cell_type": "code",
   "execution_count": null,
   "id": "737c0cb9",
   "metadata": {},
   "outputs": [
    {
     "name": "stdout",
     "output_type": "stream",
     "text": [
      "[20, 2, 35, 18, 16, 44]\n"
     ]
    }
   ],
   "source": [
    "#메시지가 로또면, 로또번호 6개 만들어서 보내기\n",
    "import random\n",
    "\n",
    "\n",
    "if '로또' in input_msg or 'lotto' in input_msg or '가즈아' in input_msg:\n",
    "    output_msg = str(random.sample(range(1, 46), 6))\n",
    "elif input_msg == '안녕':\n",
    "    output_msg = '오냐'\n",
    "else:\n",
    "    output_msg = '아직 그런건 몰루'\n",
    "   \n",
    "print(output_msg) # 뭐라고 답변할지 미리보깅"
   ]
  },
  {
   "cell_type": "code",
   "execution_count": null,
   "id": "a5f4aee4",
   "metadata": {},
   "outputs": [
    {
     "data": {
      "text/plain": [
       "{'ok': True,\n",
       " 'result': {'message_id': 26,\n",
       "  'from': {'id': 8333130785,\n",
       "   'is_bot': True,\n",
       "   'first_name': 'vitamin',\n",
       "   'username': 'vitamin0520bot'},\n",
       "  'chat': {'id': 7878709991,\n",
       "   'first_name': 'Min Jung',\n",
       "   'last_name': 'Kim',\n",
       "   'type': 'private'},\n",
       "  'date': 1753336547,\n",
       "  'text': '[27, 36, 7, 9, 15, 21]'}}"
      ]
     },
     "execution_count": 95,
     "metadata": {},
     "output_type": "execute_result"
    }
   ],
   "source": [
    "#메시지 전송\n",
    "# body는 key(설명서에 정해진 이름), value(이건 바뀔 수 있는 데이터)\n",
    "body = {                        \n",
    "    # 누구한테\n",
    "    'chat_id': sender_id,\n",
    "    # 뭐라고 보낼지\n",
    "    'text': output_msg\n",
    "}\n",
    "\n",
    "requests.get(URL + '/sendMessage', body).json()"
   ]
  },
  {
   "cell_type": "code",
   "execution_count": null,
   "id": "dade70d4",
   "metadata": {},
   "outputs": [],
   "source": []
  }
 ],
 "metadata": {
  "kernelspec": {
   "display_name": "Python 3",
   "language": "python",
   "name": "python3"
  },
  "language_info": {
   "codemirror_mode": {
    "name": "ipython",
    "version": 3
   },
   "file_extension": ".py",
   "mimetype": "text/x-python",
   "name": "python",
   "nbconvert_exporter": "python",
   "pygments_lexer": "ipython3",
   "version": "3.13.2"
  }
 },
 "nbformat": 4,
 "nbformat_minor": 5
}
