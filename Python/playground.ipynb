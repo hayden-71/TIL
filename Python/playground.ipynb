{
 "cells": [
  {
   "cell_type": "code",
   "execution_count": null,
   "id": "89b801a2",
   "metadata": {},
   "outputs": [
    {
     "name": "stdout",
     "output_type": "stream",
     "text": [
      "엥엥\n"
     ]
    }
   ],
   "source": [
    "# 사용자로부터 입력받은 문자열을 두 번 출력하라.\n",
    "\n",
    "user = input()\n",
    "print(user * 2)"
   ]
  },
  {
   "cell_type": "code",
   "execution_count": null,
   "id": "b75aa0fa",
   "metadata": {},
   "outputs": [
    {
     "name": "stdout",
     "output_type": "stream",
     "text": [
      "30\n"
     ]
    }
   ],
   "source": [
    "# 사용자로부터 하나의 숫자를 입력받고, 입력 받은 숫자에 10을 더해 출력하라.\n",
    "\n",
    "user = input('숫자')\n",
    "print(int(user) + 10)"
   ]
  },
  {
   "cell_type": "code",
   "execution_count": null,
   "id": "92ac632b",
   "metadata": {},
   "outputs": [],
   "source": [
    "# 사용자로부터 하나의 숫자를 입력 받고 짝수/홀수를 판별하라.\n",
    "\n",
    "user = input('숫자')\n",
    "if int(user) % 2:\n",
    "    print('홀수')\n",
    "else:\n",
    "    print('짝수')"
   ]
  },
  {
   "cell_type": "code",
   "execution_count": null,
   "id": "da12dd65",
   "metadata": {},
   "outputs": [
    {
     "name": "stdout",
     "output_type": "stream",
     "text": [
      "255\n"
     ]
    }
   ],
   "source": [
    "# 사용자로부터 값을 입력받은 후 해당 값에 20을 더한 값을 출력하라. \n",
    "# 단 사용자가 입력한 값과 20을 더한 계산 값이 255를 초과하는 경우 255를 출력해야 한다.\n",
    "\n",
    "user = input('')\n",
    "num = int(user) + 20\n",
    "if num > 255:\n",
    "    print(255)\n",
    "else:\n",
    "    print(num)"
   ]
  },
  {
   "cell_type": "code",
   "execution_count": 59,
   "id": "d591834c",
   "metadata": {},
   "outputs": [
    {
     "name": "stdout",
     "output_type": "stream",
     "text": [
      "255\n"
     ]
    }
   ],
   "source": [
    "# 사용자로부터 하나의 값을 입력받은 후 해당 값에 20을 뺀 값을 출력하라. \n",
    "# 단 출력 값의 범위는 0~255이다. \n",
    "# 결괏값이 0보다 작은 값이되는 경우 0을 출력하고 255보다 큰 값이 되는 경우 255를 출력해야 한다.\n",
    "\n",
    "user = input('')\n",
    "num = int(user) - 20\n",
    "if num < 0:\n",
    "    print(0)\n",
    "elif num > 255:\n",
    "    print(255)\n",
    "else:\n",
    "    print(num)"
   ]
  },
  {
   "cell_type": "code",
   "execution_count": null,
   "id": "fcdb08cb",
   "metadata": {},
   "outputs": [
    {
     "name": "stdout",
     "output_type": "stream",
     "text": [
      "정각 아님\n"
     ]
    }
   ],
   "source": [
    "#사용자로부터 입력 받은 시간이 정각인지 판별하라. ??????????????????????\n",
    "\n",
    "time = input('시간 형식 12:05')\n",
    "if time[-2:] == '00': #-2자리부터 뒤 끝까지\n",
    "    print('정각')\n",
    "else:\n",
    "    print('정각 아님')"
   ]
  },
  {
   "cell_type": "code",
   "execution_count": null,
   "id": "f88027ca",
   "metadata": {},
   "outputs": [
    {
     "name": "stdout",
     "output_type": "stream",
     "text": [
      "오답\n"
     ]
    }
   ],
   "source": [
    "#사용자로 입력받은 단어가 아래 fruit 리스트에 포함되어 있는지를 확인하라. \n",
    "# 포함되었다면 \"정답입니다\"를 아닐 경우 \"오답입니다\" 출력하라.\n",
    "\n",
    "fruit = [\"사과\", \"포도\", \"홍시\"]\n",
    "user = input('과일 이름')\n",
    "if user in fruit:\n",
    "    print('정답')\n",
    "else:\n",
    "    print('오답')"
   ]
  },
  {
   "cell_type": "code",
   "execution_count": null,
   "id": "07d16289",
   "metadata": {},
   "outputs": [
    {
     "name": "stdout",
     "output_type": "stream",
     "text": [
      "투자 경고\n"
     ]
    }
   ],
   "source": [
    "# 투자 경고 종목 리스트가 있을 때 사용자로부터 종목명을 입력 받은 후 해당 종목이 투자 경고 종목이라면 \n",
    "# '투자 경고 종목입니다'를 아니면 \"투자 경고 종목이 아닙니다.\"를 출력하는 프로그램을 작성하라.\n",
    "\n",
    "warn_investment_list = [\"Microsoft\", \"Google\", \"Naver\", \"Kakao\", \"SAMSUNG\", \"LG\"]\n",
    "종목 = input('종목명')\n",
    "if 종목 in warn_investment_list:\n",
    "    print('투자 경고')\n",
    "else:\n",
    "    print('투자혀')"
   ]
  },
  {
   "cell_type": "code",
   "execution_count": 61,
   "id": "f52bd118",
   "metadata": {},
   "outputs": [
    {
     "name": "stdout",
     "output_type": "stream",
     "text": [
      "정답\n"
     ]
    }
   ],
   "source": [
    "#아래와 같이 fruit 딕셔너리가 정의되어 있다. \n",
    "# 사용자가 입력한 값이 딕셔너리 키 (key) 값에 포함되었다면 \"정답입니다\"를 아닐 경우 \"오답입니다\" 출력하라.\n",
    "\n",
    "fruit = {\"봄\" : \"딸기\", \"여름\" : \"토마토\", \"가을\" : \"사과\"}\n",
    "과일 = input('계절입력')\n",
    "if 과일 in fruit:\n",
    "    print('정답')\n",
    "else:\n",
    "    print('오답')"
   ]
  },
  {
   "cell_type": "code",
   "execution_count": 60,
   "id": "b6d5ee1c",
   "metadata": {},
   "outputs": [
    {
     "name": "stdout",
     "output_type": "stream",
     "text": [
      "정답\n"
     ]
    }
   ],
   "source": [
    "#아래와 같이 fruit 딕셔너리가 정의되어 있다. \n",
    "# 사용자가 입력한 값이 딕셔너리 값 (value)에 포함되었다면 \"정답입니다\"를 아닐 경우 \"오답입니다\" 출력하라.\n",
    "\n",
    "fruit = {\"봄\" : \"딸기\", \"여름\" : \"토마토\", \"가을\" : \"사과\"}\n",
    "user = input('과일 입력')\n",
    "if user in fruit.values():\n",
    "    print('정답')\n",
    "else:\n",
    "    print('오답')"
   ]
  },
  {
   "cell_type": "code",
   "execution_count": 63,
   "id": "59285f56",
   "metadata": {},
   "outputs": [
    {
     "name": "stdout",
     "output_type": "stream",
     "text": [
      "3\n"
     ]
    }
   ],
   "source": [
    "numbers = [1, 2, 3, 4, 5]\n",
    "total = 0\n",
    "\n",
    "for num in range(3):\n",
    "    total += num\n",
    "print(total)"
   ]
  },
  {
   "cell_type": "code",
   "execution_count": 73,
   "id": "a03009bd",
   "metadata": {},
   "outputs": [
    {
     "name": "stdout",
     "output_type": "stream",
     "text": [
      "a\n",
      "b\n",
      "c\n"
     ]
    }
   ],
   "source": [
    "for a in ['A', 'B', 'C']:\n",
    "    b = a.lower()\n",
    "    print(b)"
   ]
  },
  {
   "cell_type": "code",
   "execution_count": 76,
   "id": "b441b642",
   "metadata": {},
   "outputs": [
    {
     "name": "stdout",
     "output_type": "stream",
     "text": [
      "10\n",
      "-----\n",
      "20\n",
      "-----\n",
      "30\n",
      "-----\n"
     ]
    }
   ],
   "source": [
    "for x in [10, 20, 30]:\n",
    "    print(x)\n",
    "    print('-----')\n"
   ]
  },
  {
   "cell_type": "code",
   "execution_count": 78,
   "id": "8eae34e0",
   "metadata": {},
   "outputs": [
    {
     "name": "stdout",
     "output_type": "stream",
     "text": [
      "++++\n",
      "10\n",
      "20\n",
      "30\n"
     ]
    }
   ],
   "source": [
    "print('++++')\n",
    "for x in [10, 20, 30]:\n",
    "    print(x)"
   ]
  },
  {
   "cell_type": "code",
   "execution_count": null,
   "id": "ee7d8ce8",
   "metadata": {},
   "outputs": [
    {
     "name": "stdout",
     "output_type": "stream",
     "text": [
      "110.0\n",
      "220.0\n",
      "330.0\n"
     ]
    }
   ],
   "source": [
    "# 다음과 같이 판매가가 저장된 리스트가 있을 때 부가세가 포함된 가격을 for 문을 사용해서 화면에 출력하라. \n",
    "\n",
    "list = [100, 200, 300]\n",
    "for vat in list:\n",
    "    print(vat + (vat * 0.1))"
   ]
  },
  {
   "cell_type": "code",
   "execution_count": 88,
   "id": "014f2301",
   "metadata": {},
   "outputs": [
    {
     "name": "stdout",
     "output_type": "stream",
     "text": [
      "오늘의 메뉴:김밥\n",
      "오늘의 메뉴:라면\n",
      "오늘의 메뉴:튀김\n"
     ]
    }
   ],
   "source": [
    "list = [\"김밥\", \"라면\", \"튀김\"]\n",
    "for menu in list:\n",
    "    print(f'오늘의 메뉴:{menu}')"
   ]
  },
  {
   "cell_type": "code",
   "execution_count": 1,
   "id": "06c9c407",
   "metadata": {},
   "outputs": [
    {
     "name": "stdout",
     "output_type": "stream",
     "text": [
      "6\n",
      "4\n",
      "4\n"
     ]
    }
   ],
   "source": [
    "# 저장된 문자열의 길이를 다음과 같이 출력하라.\n",
    "\n",
    "co_list = [\"SK하이닉스\", \"삼성전자\", \"LG전자\"]\n",
    "\n",
    "for name in co_list:\n",
    "    print(len(name))"
   ]
  },
  {
   "cell_type": "code",
   "execution_count": 4,
   "id": "661eca2b",
   "metadata": {},
   "outputs": [
    {
     "name": "stdout",
     "output_type": "stream",
     "text": [
      "SK하이닉스 6\n",
      "삼성전자 4\n",
      "LG전자 4\n"
     ]
    }
   ],
   "source": [
    "co_list = [\"SK하이닉스\", \"삼성전자\", \"LG전자\"]\n",
    "\n",
    "for name in co_list:\n",
    "    print(name, (len(name)))"
   ]
  },
  {
   "cell_type": "code",
   "execution_count": 8,
   "id": "25187a4f",
   "metadata": {},
   "outputs": [
    {
     "name": "stdout",
     "output_type": "stream",
     "text": [
      "S\n",
      "삼\n",
      "L\n"
     ]
    }
   ],
   "source": [
    "# 첫번째 글자만 뽑기\n",
    "\n",
    "for name in co_list:\n",
    "    print(name[0])"
   ]
  },
  {
   "cell_type": "code",
   "execution_count": null,
   "id": "0e9d6499",
   "metadata": {},
   "outputs": [
    {
     "name": "stdout",
     "output_type": "stream",
     "text": [
      "3 x 1\n",
      "3 x 2\n",
      "3 x 3\n"
     ]
    }
   ],
   "source": [
    "# for문을 사용해서 다음과 같이 출력하라.\n",
    "# 3 x 1\n",
    "# 3 x 2\n",
    "# 3 x 3\n",
    "\n",
    "num_list = [1, 2, 3]\n",
    "# num_list = (num_list)[::-1]\n",
    "# for num in num_list:\n",
    "#     print(f'{num} x {num-1}')\n",
    "\n",
    "for num in num_list:\n",
    "    print('3 x', num)\n",
    "# 별 생쑈를 다 했는데.......... 이런 문제였다니....."
   ]
  },
  {
   "cell_type": "code",
   "execution_count": 37,
   "id": "4f150253",
   "metadata": {},
   "outputs": [
    {
     "name": "stdout",
     "output_type": "stream",
     "text": [
      "나\n",
      "다\n",
      "라\n",
      "나\n",
      "다\n",
      "라\n"
     ]
    }
   ],
   "source": [
    "# 가 빼고 출력하기\n",
    "\n",
    "hangles = ['가', '나', '다', '라']\n",
    "\n",
    "for hangle in hangles:\n",
    "    if hangle != '가':\n",
    "        print(hangle)\n",
    "\n",
    "# 1부터 뒤 전부\n",
    "for hangle in hangles[1:]:\n",
    "    print(hangle)"
   ]
  },
  {
   "cell_type": "code",
   "execution_count": null,
   "id": "16ca3763",
   "metadata": {},
   "outputs": [],
   "source": []
  }
 ],
 "metadata": {
  "kernelspec": {
   "display_name": "Python 3",
   "language": "python",
   "name": "python3"
  },
  "language_info": {
   "codemirror_mode": {
    "name": "ipython",
    "version": 3
   },
   "file_extension": ".py",
   "mimetype": "text/x-python",
   "name": "python",
   "nbconvert_exporter": "python",
   "pygments_lexer": "ipython3",
   "version": "3.13.2"
  }
 },
 "nbformat": 4,
 "nbformat_minor": 5
}
