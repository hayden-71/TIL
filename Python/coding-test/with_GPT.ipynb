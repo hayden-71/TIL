{
 "cells": [
  {
   "cell_type": "code",
   "execution_count": 8,
   "id": "d85bc5a3",
   "metadata": {},
   "outputs": [
    {
     "name": "stdout",
     "output_type": "stream",
     "text": [
      "포함됨\n"
     ]
    }
   ],
   "source": [
    "# 사용자로부터 문자열을 입력받고, 그 문자열에 'python'이 포함되어 있는지 확인하세요.\n",
    "\n",
    "# 포함되어 있다면 \"포함됨\"\n",
    "\n",
    "# 포함되어 있지 않다면 \"포함되지 않음\"을 출력하세요.\n",
    "# 힌트: .find() 또는 .in 사용 가능\n",
    "\n",
    "\n",
    "user = input()\n",
    "\n",
    "if 'python' in user:\n",
    "    print('포함됨')\n",
    "else:\n",
    "    print('포함x')"
   ]
  },
  {
   "cell_type": "code",
   "execution_count": 10,
   "id": "a3eafbd0",
   "metadata": {},
   "outputs": [
    {
     "name": "stdout",
     "output_type": "stream",
     "text": [
      "아님\n"
     ]
    }
   ],
   "source": [
    "# 사용자로부터 입력받은 문자열이 모두 숫자로만 이루어져 있는지 확인하세요.\n",
    "\n",
    "# 숫자라면 \"숫자입니다\"\n",
    "\n",
    "# 아니면 \"숫자가 아닙니다\" 출력\n",
    "# 힌트: .isdigit() 사용\n",
    "\n",
    "user = input()\n",
    "\n",
    "if user.isdigit():\n",
    "    print('숫자')\n",
    "else:\n",
    "    print('아님')"
   ]
  },
  {
   "cell_type": "code",
   "execution_count": 12,
   "id": "88cc47e2",
   "metadata": {},
   "outputs": [
    {
     "data": {
      "text/plain": [
       "['Hello,', 'Python', 'World!']"
      ]
     },
     "execution_count": 12,
     "metadata": {},
     "output_type": "execute_result"
    }
   ],
   "source": [
    "# 아래의 문자열에서 양쪽 공백을 제거하고, 단어들을 기준으로 나눠 리스트로 만들고 출력하세요.\n",
    "\n",
    "\n",
    "s = \"   Hello, Python World!   \"\n",
    "\n",
    "(s.strip()).split()"
   ]
  },
  {
   "cell_type": "code",
   "execution_count": 14,
   "id": "c0d1727f",
   "metadata": {},
   "outputs": [
    {
     "name": "stdout",
     "output_type": "stream",
     "text": [
      "I like Python, because Python is fast.\n"
     ]
    }
   ],
   "source": [
    "# 아래 문자열에서 모든 C++을 Python으로 바꾸고 출력하세요.\n",
    "\n",
    "\n",
    "text = \"I like C++, because C++ is fast.\"\n",
    "\n",
    "print(text.replace('C++', 'Python'))"
   ]
  },
  {
   "cell_type": "code",
   "execution_count": 18,
   "id": "ad0a75f2",
   "metadata": {},
   "outputs": [
    {
     "name": "stdout",
     "output_type": "stream",
     "text": [
      "Hello\n",
      "World\n"
     ]
    }
   ],
   "source": [
    "# 문제 5. 문자열 구성\n",
    "# 다음 문자열 중, 알파벳으로만 이루어진 문자열을 골라 출력하세요.\n",
    "\n",
    "\n",
    "lst = ['Hello', '123', 'Python3', 'World', ' ']\n",
    "\n",
    "for word in lst:\n",
    "    if word.isalpha():\n",
    "        print(word)"
   ]
  },
  {
   "cell_type": "code",
   "execution_count": null,
   "id": "a2c1f38a",
   "metadata": {},
   "outputs": [],
   "source": []
  }
 ],
 "metadata": {
  "kernelspec": {
   "display_name": "Python 3",
   "language": "python",
   "name": "python3"
  },
  "language_info": {
   "codemirror_mode": {
    "name": "ipython",
    "version": 3
   },
   "file_extension": ".py",
   "mimetype": "text/x-python",
   "name": "python",
   "nbconvert_exporter": "python",
   "pygments_lexer": "ipython3",
   "version": "3.13.2"
  }
 },
 "nbformat": 4,
 "nbformat_minor": 5
}
