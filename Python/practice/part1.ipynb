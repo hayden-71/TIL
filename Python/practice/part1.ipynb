{
 "cells": [
  {
   "cell_type": "markdown",
   "id": "f5169dd8",
   "metadata": {},
   "source": [
    "### 1번 문제\n",
    "사용자로부터 두 개의 숫자를 입력받아 더한 결과를 출력하는 프로그램을 작성하세요."
   ]
  },
  {
   "cell_type": "code",
   "execution_count": 17,
   "id": "548dcc86",
   "metadata": {},
   "outputs": [
    {
     "name": "stdout",
     "output_type": "stream",
     "text": [
      "5.34\n"
     ]
    }
   ],
   "source": [
    "num1 = float(input('숫자 입력하세용'))\n",
    "num2 = float(input('숫자 입력하세용'))\n",
    "result = num1 + num2\n",
    "print(result)"
   ]
  },
  {
   "cell_type": "markdown",
   "id": "6fe6a717",
   "metadata": {},
   "source": [
    "### 2번 문제\n",
    "다음 변수들의 타입을 출력하세요: a = 10, b = 3.14, c = \"hello\", d = True"
   ]
  },
  {
   "cell_type": "code",
   "execution_count": 11,
   "id": "663605e7",
   "metadata": {},
   "outputs": [
    {
     "name": "stdout",
     "output_type": "stream",
     "text": [
      "<class 'int'> <class 'float'> <class 'str'> <class 'bool'>\n"
     ]
    }
   ],
   "source": [
    "a = 10\n",
    "b = 3.14\n",
    "c = \"hello\"\n",
    "d = True\n",
    "\n",
    "print(type(a), type(b), type(c), type(d))"
   ]
  },
  {
   "cell_type": "markdown",
   "id": "3d54c52e",
   "metadata": {},
   "source": [
    "### 3번 문제\n",
    "두 문자열을 결합하고, 결합된 문자열의 길이를 출력하세요."
   ]
  },
  {
   "cell_type": "code",
   "execution_count": 14,
   "id": "b465aa3e",
   "metadata": {},
   "outputs": [
    {
     "data": {
      "text/plain": [
       "10"
      ]
     },
     "execution_count": 14,
     "metadata": {},
     "output_type": "execute_result"
    }
   ],
   "source": [
    "str1 = \"Hello\"\n",
    "str2 = \"World\"\n",
    "com_str = str1 + str2\n",
    "len(com_str)"
   ]
  },
  {
   "cell_type": "markdown",
   "id": "46d99a44",
   "metadata": {},
   "source": [
    "### 4번 문제\n",
    "10을 3으로 나눈 몫과 나머지를 각각 구하세요."
   ]
  },
  {
   "cell_type": "code",
   "execution_count": null,
   "id": "0de1751f",
   "metadata": {},
   "outputs": [
    {
     "name": "stdout",
     "output_type": "stream",
     "text": [
      "3 1\n"
     ]
    }
   ],
   "source": [
    "a = 10\n",
    "b = 3\n",
    "quotient = a // b\n",
    "remainder = a % b\n",
    "print(quotient, remainder)"
   ]
  },
  {
   "cell_type": "markdown",
   "id": "a4e7cdb2",
   "metadata": {},
   "source": [
    "### 5번 문제\n",
    "주어진 숫자가 짝수인지 홀수인지 판별하는 프로그램을 작성하세요."
   ]
  },
  {
   "cell_type": "code",
   "execution_count": 40,
   "id": "5e22ad9d",
   "metadata": {},
   "outputs": [
    {
     "name": "stdout",
     "output_type": "stream",
     "text": [
      "홀수\n"
     ]
    }
   ],
   "source": [
    "num = int(input(\"숫자를 입력하세요: \"))\n",
    "if num % 2 == 1:\n",
    "    print('홀수')\n",
    "else:\n",
    "    print('짝수')"
   ]
  },
  {
   "cell_type": "markdown",
   "id": "09c0ed1e",
   "metadata": {},
   "source": [
    "### 6번 문제\n",
    "문자열 \"Python Programming\"에서 \"Python\"만 추출하여 출력하세요."
   ]
  },
  {
   "cell_type": "code",
   "execution_count": 67,
   "id": "97ef8621",
   "metadata": {},
   "outputs": [
    {
     "name": "stdout",
     "output_type": "stream",
     "text": [
      "Python\n",
      "Python\n"
     ]
    }
   ],
   "source": [
    "text = \"Python Programming\"\n",
    "\n",
    "#split()\n",
    "\n",
    "split_txt = text.split(' ')\n",
    "print(split_txt[0])\n",
    "\n",
    "#find()\n",
    "slice_txt = text.find(' ')\n",
    "Python = text[:slice_txt]\n",
    "print(Python)"
   ]
  },
  {
   "cell_type": "markdown",
   "id": "993cd02d",
   "metadata": {},
   "source": [
    "### 7번 문제\n",
    "세 개의 숫자 중 가장 큰 수를 찾는 프로그램을 작성하세요."
   ]
  },
  {
   "cell_type": "code",
   "execution_count": 42,
   "id": "ef281b68",
   "metadata": {},
   "outputs": [
    {
     "name": "stdout",
     "output_type": "stream",
     "text": [
      "4321\n"
     ]
    }
   ],
   "source": [
    "a = int(input(\"첫 번째 숫자: \"))\n",
    "b = int(input(\"두 번째 숫자: \"))\n",
    "c = int(input(\"세 번째 숫자: \"))\n",
    "print(max(a, b, c))"
   ]
  },
  {
   "cell_type": "markdown",
   "id": "92223519",
   "metadata": {},
   "source": [
    "### 8번 문제\n",
    "사용자의 나이를 입력받아 미성년자/성인을 판별하는 프로그램을 작성하세요."
   ]
  },
  {
   "cell_type": "code",
   "execution_count": 68,
   "id": "8f868b3a",
   "metadata": {},
   "outputs": [
    {
     "name": "stdout",
     "output_type": "stream",
     "text": [
      "미자\n"
     ]
    }
   ],
   "source": [
    "age = int(input(\"나이를 입력하세요: \"))\n",
    "if age < 20:\n",
    "    print('미자')\n",
    "else:\n",
    "    print('성인')"
   ]
  },
  {
   "cell_type": "markdown",
   "id": "be3bbbc0",
   "metadata": {},
   "source": [
    "### 9번 문제\n",
    "문자열을 입력받아 모든 문자를 대문자로 변환하여 출력하세요."
   ]
  },
  {
   "cell_type": "code",
   "execution_count": null,
   "id": "baee4c0e",
   "metadata": {},
   "outputs": [],
   "source": [
    "text = input(\"문자열을 입력하세요: \")"
   ]
  },
  {
   "cell_type": "markdown",
   "id": "1ca09f2e",
   "metadata": {},
   "source": [
    "### 10번 문제\n",
    "두 숫자의 차이의 절댓값을 구하는 프로그램을 작성하세요."
   ]
  },
  {
   "cell_type": "code",
   "execution_count": null,
   "id": "c38a658e",
   "metadata": {},
   "outputs": [],
   "source": [
    "a = int(input(\"첫 번째 숫자: \"))\n",
    "b = int(input(\"두 번째 숫자: \"))\n"
   ]
  }
 ],
 "metadata": {
  "kernelspec": {
   "display_name": "Python 3",
   "language": "python",
   "name": "python3"
  },
  "language_info": {
   "codemirror_mode": {
    "name": "ipython",
    "version": 3
   },
   "file_extension": ".py",
   "mimetype": "text/x-python",
   "name": "python",
   "nbconvert_exporter": "python",
   "pygments_lexer": "ipython3",
   "version": "3.13.2"
  }
 },
 "nbformat": 4,
 "nbformat_minor": 5
}
