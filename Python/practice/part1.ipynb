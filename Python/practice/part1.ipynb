{
 "cells": [
  {
   "cell_type": "markdown",
   "id": "f5169dd8",
   "metadata": {},
   "source": [
    "### 1번 문제\n",
    "사용자로부터 두 개의 숫자를 입력받아 더한 결과를 출력하는 프로그램을 작성하세요."
   ]
  },
  {
   "cell_type": "code",
   "execution_count": null,
   "id": "548dcc86",
   "metadata": {},
   "outputs": [
    {
     "name": "stdout",
     "output_type": "stream",
     "text": [
      "5.34\n"
     ]
    }
   ],
   "source": [
    "num1 = float(input('숫자 입력하세용'))\n",
    "num2 = float(input('숫자 입력하세용'))\n",
    "result = num1 + num2\n",
    "print(result)"
   ]
  },
  {
   "cell_type": "markdown",
   "id": "6fe6a717",
   "metadata": {},
   "source": [
    "### 2번 문제\n",
    "다음 변수들의 타입을 출력하세요: a = 10, b = 3.14, c = \"hello\", d = True"
   ]
  },
  {
   "cell_type": "code",
   "execution_count": 4,
   "id": "663605e7",
   "metadata": {},
   "outputs": [
    {
     "name": "stdout",
     "output_type": "stream",
     "text": [
      "<class 'int'> <class 'float'> <class 'str'> <class 'bool'>\n",
      "-------\n",
      "<class 'int'>\n",
      "<class 'float'>\n",
      "<class 'str'>\n",
      "<class 'bool'>\n"
     ]
    }
   ],
   "source": [
    "a = 10\n",
    "b = 3.14\n",
    "c = \"hello\"\n",
    "d = True\n",
    "\n",
    "print(type(a), type(b), type(c), type(d))\n",
    "print('-------')\n",
    "\n",
    "for x in [a, b, c, d]: #계속 겹치니까, 반복문으로 이렇게 쓸 수도 있다\n",
    "    print(type(x))"
   ]
  },
  {
   "cell_type": "markdown",
   "id": "3d54c52e",
   "metadata": {},
   "source": [
    "### 3번 문제\n",
    "두 문자열을 결합하고, 결합된 문자열의 길이를 출력하세요."
   ]
  },
  {
   "cell_type": "code",
   "execution_count": null,
   "id": "b465aa3e",
   "metadata": {},
   "outputs": [
    {
     "data": {
      "text/plain": [
       "10"
      ]
     },
     "execution_count": 9,
     "metadata": {},
     "output_type": "execute_result"
    }
   ],
   "source": [
    "str1 = \"Hello\"\n",
    "str2 = \"World\"\n",
    "com_str = str1 + str2 #immutable이니까 com_str을 '새로' 만들어준거임\n",
    "len(com_str)"
   ]
  },
  {
   "cell_type": "code",
   "execution_count": null,
   "id": "4e970f28",
   "metadata": {},
   "outputs": [
    {
     "name": "stdout",
     "output_type": "stream",
     "text": [
      "29\n"
     ]
    }
   ],
   "source": [
    "# len 말고 길이 세는 방법. 도대체 이런 생각을 어떻게 하는거임?????????????\n",
    "# 하나씩 순회하면서 작업 수행하니까, 0으로 시작해서 끝까지 하나하나 세면 몇이야?의 결과물\n",
    "\n",
    "str3 = 'dgdsggawfsdsfdgsdgsgggdgsfgdh'\n",
    "result = 0\n",
    "for el in str3:\n",
    "    result += 1\n",
    "\n",
    "print(result)\n",
    "\n",
    "# d : 1\n",
    "# g : 2\n",
    "# d : 3"
   ]
  },
  {
   "cell_type": "markdown",
   "id": "46d99a44",
   "metadata": {},
   "source": [
    "### 4번 문제\n",
    "10을 3으로 나눈 몫과 나머지를 각각 구하세요."
   ]
  },
  {
   "cell_type": "code",
   "execution_count": null,
   "id": "0de1751f",
   "metadata": {},
   "outputs": [
    {
     "name": "stdout",
     "output_type": "stream",
     "text": [
      "3 1\n"
     ]
    }
   ],
   "source": [
    "a = 10\n",
    "b = 3\n",
    "quotient = a // b\n",
    "remainder = a % b\n",
    "print(quotient, remainder)"
   ]
  },
  {
   "cell_type": "markdown",
   "id": "a4e7cdb2",
   "metadata": {},
   "source": [
    "### 5번 문제\n",
    "주어진 숫자가 짝수인지 홀수인지 판별하는 프로그램을 작성하세요."
   ]
  },
  {
   "cell_type": "code",
   "execution_count": 40,
   "id": "5e22ad9d",
   "metadata": {},
   "outputs": [
    {
     "name": "stdout",
     "output_type": "stream",
     "text": [
      "홀수\n"
     ]
    }
   ],
   "source": [
    "num = int(input(\"숫자를 입력하세요: \"))\n",
    "if num % 2 == 1:\n",
    "    print('홀수')\n",
    "else:\n",
    "    print('짝수')"
   ]
  },
  {
   "cell_type": "markdown",
   "id": "09c0ed1e",
   "metadata": {},
   "source": [
    "### 6번 문제\n",
    "문자열 \"Python Programming\"에서 \"Python\"만 추출하여 출력하세요."
   ]
  },
  {
   "cell_type": "code",
   "execution_count": null,
   "id": "97ef8621",
   "metadata": {},
   "outputs": [
    {
     "name": "stdout",
     "output_type": "stream",
     "text": [
      "Python\n",
      "Python\n",
      "Python\n",
      "Python\n"
     ]
    }
   ],
   "source": [
    "text = \"Python Programming\"\n",
    "\n",
    "#처음부터 따라쓰기\n",
    "print(text[:6])\n",
    "\n",
    "#split()\n",
    "split_txt = text.split( )\n",
    "print(split_txt[0])\n",
    "\n",
    "print(text.split()[0])\n",
    "\n",
    "#find() ????????????????\n",
    "slice_txt = text.find(' ')\n",
    "Python = text[:slice_txt]\n",
    "print(Python)"
   ]
  },
  {
   "cell_type": "markdown",
   "id": "993cd02d",
   "metadata": {},
   "source": [
    "### 7번 문제\n",
    "세 개의 숫자 중 가장 큰 수를 찾는 프로그램을 작성하세요."
   ]
  },
  {
   "cell_type": "code",
   "execution_count": 42,
   "id": "ef281b68",
   "metadata": {},
   "outputs": [
    {
     "name": "stdout",
     "output_type": "stream",
     "text": [
      "4321\n"
     ]
    }
   ],
   "source": [
    "a = int(input(\"첫 번째 숫자: \"))\n",
    "b = int(input(\"두 번째 숫자: \"))\n",
    "c = int(input(\"세 번째 숫자: \"))\n",
    "print(max(a, b, c))"
   ]
  },
  {
   "cell_type": "code",
   "execution_count": null,
   "id": "cfda6479",
   "metadata": {},
   "outputs": [],
   "source": [
    "# max 안 쓰고 for문으로 ?????????????\n",
    "\n",
    "for num in [a, b, c]:\n",
    "    num > 0\n",
    "    \n",
    "\n",
    "\n",
    "# 1. 사용자로부터 3개의 숫자 입력받기\n",
    "numbers = []\n",
    "for i in range(3):\n",
    "    while True: # 유효한 숫자가 입력될 때까지 반복\n",
    "        try:\n",
    "            num = float(input(f\"{i+1}번째 숫자를 입력하세요: \"))\n",
    "            numbers.append(num)\n",
    "            break # 올바른 숫자 입력 시 반복문 종료\n",
    "        except ValueError:\n",
    "            print(\"잘못된 입력입니다. 숫자를 입력해주세요.\")\n",
    "\n",
    "# 첫 번째 숫자를 초기 최댓값으로 설정\n",
    "max_value = numbers[0]\n",
    "\n",
    "# 나머지 숫자들을 순회하며 최댓값 업데이트\n",
    "for i in range(1, len(numbers)):\n",
    "    if numbers[i] > max_value:\n",
    "        max_value = numbers[i]\n",
    "\n",
    "# 3. 결과 출력\n",
    "print(f\"입력된 숫자들: {numbers}\")\n",
    "print(f\"가장 큰 값: {max_value}\")\n",
    "\n"
   ]
  },
  {
   "cell_type": "markdown",
   "id": "92223519",
   "metadata": {},
   "source": [
    "### 8번 문제\n",
    "사용자의 나이를 입력받아 미성년자/성인을 판별하는 프로그램을 작성하세요."
   ]
  },
  {
   "cell_type": "code",
   "execution_count": 69,
   "id": "8f868b3a",
   "metadata": {},
   "outputs": [
    {
     "name": "stdout",
     "output_type": "stream",
     "text": [
      "성인\n"
     ]
    }
   ],
   "source": [
    "age = int(input(\"나이를 입력하세요: \"))\n",
    "if age < 20:\n",
    "    print('미자')\n",
    "else:\n",
    "    print('성인')"
   ]
  },
  {
   "cell_type": "markdown",
   "id": "be3bbbc0",
   "metadata": {},
   "source": [
    "### 9번 문제\n",
    "문자열을 입력받아 모든 문자를 대문자로 변환하여 출력하세요."
   ]
  },
  {
   "cell_type": "code",
   "execution_count": null,
   "id": "baee4c0e",
   "metadata": {},
   "outputs": [
    {
     "name": "stdout",
     "output_type": "stream",
     "text": [
      "DSFJDKL\n"
     ]
    }
   ],
   "source": [
    "text = input(\"문자열을 입력하세요: \")\n",
    "print(text.upper())"
   ]
  },
  {
   "cell_type": "code",
   "execution_count": null,
   "id": "d1585a9f",
   "metadata": {},
   "outputs": [
    {
     "name": "stdout",
     "output_type": "stream",
     "text": [
      "97\n",
      "65\n",
      "98\n",
      "66\n"
     ]
    }
   ],
   "source": [
    "print(ord('a'))\n",
    "print(ord('A'))\n",
    "print(ord('b'))\n",
    "print(ord('B'))\n",
    "# 32만큼의 차이\n",
    "\n",
    "# ord() 문자열 -> 아스키코드\n",
    "# chr() 아스키코드 -> 문자열\n",
    "# .upper() 구현해보기 ?????????????????????????"
   ]
  },
  {
   "cell_type": "markdown",
   "id": "1ca09f2e",
   "metadata": {},
   "source": [
    "### 10번 문제\n",
    "두 숫자의 차이의 절댓값을 구하는 프로그램을 작성하세요."
   ]
  },
  {
   "cell_type": "code",
   "execution_count": null,
   "id": "c38a658e",
   "metadata": {},
   "outputs": [
    {
     "name": "stdout",
     "output_type": "stream",
     "text": [
      "10\n"
     ]
    }
   ],
   "source": [
    "a = int(input(\"첫 번째 숫자: \"))\n",
    "b = int(input(\"두 번째 숫자: \"))\n",
    "x = a - b\n",
    "if x < 0:\n",
    "    print(-x)\n",
    "else:\n",
    "    print(x)\n",
    "\n",
    "\n",
    "# 이런 식으로 쓰기도 가능\n",
    "diff = a - b\n",
    "if diff > 0:\n",
    "    pass\n",
    "else:\n",
    "    diff = -diff"
   ]
  }
 ],
 "metadata": {
  "kernelspec": {
   "display_name": "Python 3",
   "language": "python",
   "name": "python3"
  },
  "language_info": {
   "codemirror_mode": {
    "name": "ipython",
    "version": 3
   },
   "file_extension": ".py",
   "mimetype": "text/x-python",
   "name": "python",
   "nbconvert_exporter": "python",
   "pygments_lexer": "ipython3",
   "version": "3.13.2"
  }
 },
 "nbformat": 4,
 "nbformat_minor": 5
}
