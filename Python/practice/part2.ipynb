{
 "cells": [
  {
   "cell_type": "markdown",
   "id": "61fa5f2f",
   "metadata": {},
   "source": [
    "### 11번. 1부터 100까지 숫자 중 5의 배수만 리스트에 저장하여 출력하세요.\n",
    "\n",
    "리스트 내포(List Comprehension)를 사용해도 좋습니다.\n",
    "\n",
    "📌 출력 예시:\n",
    "```\n",
    "[5, 10, 15, ..., 100]\n",
    "```"
   ]
  },
  {
   "cell_type": "code",
   "execution_count": null,
   "id": "c3411c0d",
   "metadata": {},
   "outputs": [
    {
     "name": "stdout",
     "output_type": "stream",
     "text": [
      "[5, 10, 15, 20, 25, 30, 35, 40, 45, 50, 55, 60, 65, 70, 75, 80, 85, 90, 95, 100]\n",
      "[5, 10, 15, 20, 25, 30, 35, 40, 45, 50]\n"
     ]
    }
   ],
   "source": [
    "#range 사용\n",
    "nums = range(5, 101, 5)\n",
    "print(list(nums))\n",
    "\n",
    "\n",
    "#반복문 사용!!!!!!!!!!!!!\n",
    "result = []\n",
    "num = 0\n",
    "# 반복을 합니다, 5를 더하는 것, 50이 되었을 때까지\n",
    "\n",
    "while True: # 이때까지 무한반복해\n",
    "    num += 5\n",
    "    #print(num)\n",
    "    result.append(num)\n",
    "\n",
    "    if num == 50:\n",
    "        break\n",
    "print(result)\n",
    "\n",
    "#만약 num = 5로 시작하고 싶으면, append가 위로 올라가면 됨"
   ]
  },
  {
   "cell_type": "code",
   "execution_count": 128,
   "id": "ccb54408",
   "metadata": {},
   "outputs": [
    {
     "name": "stdout",
     "output_type": "stream",
     "text": [
      "[5, 10, 15, 20, 25, 30, 35, 40, 45, 50]\n"
     ]
    }
   ],
   "source": [
    "# 5에 1 곱합\n",
    "# 5에 2 곱함\n",
    "# 곱한 결과가 50보다 작을 때까지\n",
    "\n",
    "result = []\n",
    "x = 1\n",
    "while True:\n",
    "    num = 5 * x\n",
    "    x += 1\n",
    "\n",
    "    result.append(num)\n",
    "    if num == 50:\n",
    "        break\n",
    "print(result)"
   ]
  },
  {
   "cell_type": "code",
   "execution_count": 129,
   "id": "4fad8676",
   "metadata": {},
   "outputs": [
    {
     "name": "stdout",
     "output_type": "stream",
     "text": [
      "[5, 10, 15, 20, 25, 30, 35, 40, 45, 50]\n"
     ]
    }
   ],
   "source": [
    "result = []\n",
    "for num in range(1, 51):\n",
    "    if num % 5 == 0:\n",
    "        result.append(num)\n",
    "print(result)"
   ]
  },
  {
   "cell_type": "markdown",
   "id": "91ab613e",
   "metadata": {},
   "source": [
    "\n",
    "\n",
    "\n",
    "### 12번. 짝수만 필터링하여 새로운 리스트 만들기\n",
    "\n",
    "다음 리스트에서 짝수만 골라 새로운 리스트로 만드세요:\n",
    "```python\n",
    "nums = [1,2,3,4,5,6,7,8,9,10]\n",
    "```\n",
    "📌 출력 예시:\n",
    "```\n",
    "[2, 4, 6, 8, 10]\n",
    "```"
   ]
  },
  {
   "cell_type": "code",
   "execution_count": 132,
   "id": "97dbac20",
   "metadata": {},
   "outputs": [
    {
     "name": "stdout",
     "output_type": "stream",
     "text": [
      "[2, 4, 6, 8, 10]\n"
     ]
    }
   ],
   "source": [
    "nums = [1,2,3,4,5,6,7,8,9,10]\n",
    "\n",
    "result = []\n",
    "\n",
    "for num in nums:\n",
    "    # 짝수인지\n",
    "    if num % 2 == 0:\n",
    "        #맞으면 넣음\n",
    "        result.append(num)\n",
    "\n",
    "\n",
    "#리스트 컴프리헨션\n",
    "even = [num for num in nums if num % 2 == 0]\n",
    "print(even)\n",
    "    "
   ]
  },
  {
   "cell_type": "markdown",
   "id": "f4750fde",
   "metadata": {},
   "source": [
    "### 13번. 딕셔너리에서 가장 비싼 과일 찾기\n",
    "\n",
    "다음 딕셔너리에서 가격이 가장 높은 과일과 그 가격을 출력하세요:\n",
    "```python\n",
    "fruits = {'apple': 1000, 'banana': 500, 'orange': 800}\n",
    "```"
   ]
  },
  {
   "cell_type": "code",
   "execution_count": 13,
   "id": "4440c679",
   "metadata": {},
   "outputs": [
    {
     "name": "stdout",
     "output_type": "stream",
     "text": [
      "1000\n",
      "apple 1000\n",
      "lemon 1000\n"
     ]
    }
   ],
   "source": [
    "fruits = {'apple': 1000, 'banana': 500, 'orange': 800, 'lemon' : 1000}\n",
    "\n",
    "price = fruits.values()\n",
    "print(max(price))\n",
    "\n",
    "for name, price_value in fruits.items():\n",
    "    if max(price) == price_value:\n",
    "        print(name, price_value)"
   ]
  },
  {
   "cell_type": "code",
   "execution_count": null,
   "id": "6ad1821f",
   "metadata": {},
   "outputs": [
    {
     "name": "stdout",
     "output_type": "stream",
     "text": [
      "1000 ['apple', 'lemon']\n"
     ]
    }
   ],
   "source": [
    "# 필요하면 변수는 만들면 돼! 무서워하지 말어라!!!!!\n",
    "max\n",
    "max_price = 0 # 가격은 0보다 늘 크니까\n",
    "max_price_fruit = []\n",
    "\n",
    "for fruit, price in fruits.items():\n",
    "    # 이 조건문을 통과하는 순간: 최고가가 경신 되었을때\n",
    "    if max_price < price:\n",
    "        max_price = price\n",
    "        # 그때의 과일을 구하기\n",
    "        max_price_fruit = [fruit]\n",
    "    # 최고가가 한번 더 나왔을 때: max_price_fruit에 이미 과일이 있을 때\n",
    "    elif max_price == price:\n",
    "        max_price_fruit.append(fruit)\n",
    "print(max_price, max_price_fruit)\n"
   ]
  },
  {
   "cell_type": "markdown",
   "id": "f63a58ef",
   "metadata": {},
   "source": [
    "### 14번. 구구단 3단 출력하기\n",
    "\n",
    "for문을 사용하여 구구단 3단을 출력하세요.\n",
    "\n",
    "📌 출력 예시:\n",
    "```\n",
    "3 x 1 = 3\n",
    "3 x 2 = 6\n",
    "...\n",
    "3 x 9 = 27\n",
    "```"
   ]
  },
  {
   "cell_type": "code",
   "execution_count": 68,
   "id": "82376bb6",
   "metadata": {},
   "outputs": [
    {
     "name": "stdout",
     "output_type": "stream",
     "text": [
      "3 x 1 = 3\n",
      "3 x 2 = 6\n",
      "3 x 3 = 9\n",
      "3 x 4 = 12\n",
      "3 x 5 = 15\n",
      "3 x 6 = 18\n",
      "3 x 7 = 21\n",
      "3 x 8 = 24\n",
      "3 x 9 = 27\n"
     ]
    }
   ],
   "source": [
    "n = 3\n",
    "nums = range(1, 10)\n",
    "for num in nums:\n",
    "    n * num\n",
    "    print(f'{n} x {num} = {n * num}')\n",
    "    # num += 1 이건 range라서 불필요\n",
    "\n"
   ]
  },
  {
   "cell_type": "markdown",
   "id": "1a498a46",
   "metadata": {},
   "source": [
    "### 15번. 문자열에서 각 문자 개수 세기\n",
    "\n",
    "사용자로부터 문자열을 입력받아, 각 문자가 몇 번 나오는지 딕셔너리 형태로 출력하세요.\n",
    "\n",
    "📌 예시 입력: `hello`\n",
    "📌 예시 출력: `{'h':1, 'e':1, 'l':2, 'o':1}`"
   ]
  },
  {
   "cell_type": "code",
   "execution_count": null,
   "id": "1273350a",
   "metadata": {},
   "outputs": [
    {
     "name": "stdout",
     "output_type": "stream",
     "text": [
      "{'d': 7, 's': 2, 'g': 2}\n"
     ]
    }
   ],
   "source": [
    "# 이거 좀 어려웠음............................\n",
    "\n",
    "text = input()\n",
    "my_dic = {} #빈 딕셔너리를 하나 만들어\n",
    "\n",
    "for char in text:\n",
    "    if char in my_dic:\n",
    "        # 만약 현재 문자(char)가 딕셔너리(my_dic)의 키로 이미 존재한다면,\n",
    "        # 해당 문자의 카운트(값)를 1 증가시킵니다.\n",
    "        my_dic[char] += 1 \n",
    "    else:\n",
    "        my_dic[char] = 1\n",
    "\n",
    "print(my_dic)\n"
   ]
  },
  {
   "cell_type": "markdown",
   "id": "6a3f44e9",
   "metadata": {},
   "source": [
    "### 16번. 리스트 정렬과 최대/최소 값 찾기\n",
    "\n",
    "다음 리스트를 오름차순으로 정렬하고, 가장 큰 값과 가장 작은 값을 출력하세요:\n",
    "```python\n",
    "nums = [3, 1, 4, 1, 5, 9, 2, 6]\n",
    "```"
   ]
  },
  {
   "cell_type": "code",
   "execution_count": null,
   "id": "4820f903",
   "metadata": {},
   "outputs": [
    {
     "name": "stdout",
     "output_type": "stream",
     "text": [
      "9 1\n"
     ]
    }
   ],
   "source": [
    "nums = [3, 1, 4, 1, 5, 9, 2, 6]\n",
    "\n",
    "sorted(nums) #원본은 변경 안 됨\n",
    "print(max(nums), min(nums))"
   ]
  },
  {
   "cell_type": "code",
   "execution_count": null,
   "id": "ecaa5fac",
   "metadata": {},
   "outputs": [
    {
     "name": "stdout",
     "output_type": "stream",
     "text": [
      "[1, 1, 2, 3, 4, 5, 6, 9]\n",
      "9 1\n"
     ]
    }
   ],
   "source": [
    "nums = [3, 1, 4, 1, 5, 9, 2, 6]\n",
    "nums.sort() #원본 변경\n",
    "print(nums)\n",
    "\n",
    "max_num = max(nums)\n",
    "min_num = min(nums)\n",
    "print(max_num, min_num)"
   ]
  },
  {
   "cell_type": "markdown",
   "id": "21f6f2d0",
   "metadata": {},
   "source": [
    "### 17번. 회문(Palindrome) 검사\n",
    "\n",
    "입력받은 단어가 앞에서 읽든 뒤에서 읽든 같은 단어인지 확인하는 프로그램을 작성하세요.\n",
    "\n",
    "📌 예시: `level` → 회문 / `hello` → 회문 아님"
   ]
  },
  {
   "cell_type": "code",
   "execution_count": 125,
   "id": "5e7b6989",
   "metadata": {},
   "outputs": [
    {
     "name": "stdout",
     "output_type": "stream",
     "text": [
      "회문 아님\n"
     ]
    }
   ],
   "source": [
    "word = input(\"단어를 입력하세요: \")\n",
    "if word == word[::-1]:\n",
    "    print('회문')\n",
    "else:\n",
    "    print('회문 아님')"
   ]
  },
  {
   "cell_type": "markdown",
   "id": "4e83b9ca",
   "metadata": {},
   "source": [
    "### 18번. 집합 연산: 합집합, 교집합, 차집합\n",
    "\n",
    "다음 두 집합의 합집합, 교집합, 차집합을 구하세요:\n",
    "```python\n",
    "A = {1, 2, 3, 4, 5}\n",
    "B = {4, 5, 6, 7, 8}\n",
    "```"
   ]
  },
  {
   "cell_type": "code",
   "execution_count": 108,
   "id": "6c1c77ae",
   "metadata": {},
   "outputs": [
    {
     "name": "stdout",
     "output_type": "stream",
     "text": [
      "{1, 2, 3} {1, 2, 3, 4, 5, 6, 7, 8} {4, 5}\n"
     ]
    }
   ],
   "source": [
    "A = {1, 2, 3, 4, 5}\n",
    "B = {4, 5, 6, 7, 8}\n",
    "print(A - B, A | B, A & B)"
   ]
  },
  {
   "cell_type": "markdown",
   "id": "e49db016",
   "metadata": {},
   "source": [
    "### 19번. 1부터 n까지의 합 구하기. 누적 합계.\n",
    "\n",
    "사용자로부터 정수 n을 입력받아 1부터 n까지의 합을 구하는 프로그램을 작성하세요."
   ]
  },
  {
   "cell_type": "code",
   "execution_count": null,
   "id": "b56548f1",
   "metadata": {},
   "outputs": [
    {
     "name": "stdout",
     "output_type": "stream",
     "text": [
      "6\n"
     ]
    }
   ],
   "source": [
    "total = 0\n",
    "n = int(input())\n",
    "\n",
    "for num in range(1, n+1):\n",
    "    if num > 0:\n",
    "        total = total + num\n",
    "        num -= 1\n",
    "print(total) #프린트가 위치에 따라 중간값들도 나오기도, 마지막값만 나오기도 함"
   ]
  },
  {
   "cell_type": "code",
   "execution_count": null,
   "id": "5e772a52",
   "metadata": {},
   "outputs": [
    {
     "name": "stdout",
     "output_type": "stream",
     "text": [
      "10\n"
     ]
    }
   ],
   "source": [
    "n = int(input(\"정수를 입력하세요: \")) #어려웠따\n",
    "total_sum = 0\n",
    "\n",
    "while range(n):\n",
    "    total_sum = total_sum + n\n",
    "    n -= 1\n",
    "print(total_sum)        \n",
    "    "
   ]
  },
  {
   "cell_type": "markdown",
   "id": "c8ae9f8e",
   "metadata": {},
   "source": [
    "### 20번. 리스트에서 중복 제거\n",
    "\n",
    "다음 리스트에서 중복된 값을 제거하고 유일한 값만 남긴 리스트를 출력하세요:\n",
    "```python\n",
    "nums = [1, 2, 2, 3, 4, 4, 5]\n",
    "```"
   ]
  },
  {
   "cell_type": "code",
   "execution_count": 91,
   "id": "0b9d2135",
   "metadata": {},
   "outputs": [
    {
     "data": {
      "text/plain": [
       "[1, 2, 3, 4, 5]"
      ]
     },
     "execution_count": 91,
     "metadata": {},
     "output_type": "execute_result"
    }
   ],
   "source": [
    "nums = [1, 2, 2, 3, 4, 4, 5]\n",
    "list(set(nums))"
   ]
  }
 ],
 "metadata": {
  "kernelspec": {
   "display_name": "Python 3",
   "language": "python",
   "name": "python3"
  },
  "language_info": {
   "codemirror_mode": {
    "name": "ipython",
    "version": 3
   },
   "file_extension": ".py",
   "mimetype": "text/x-python",
   "name": "python",
   "nbconvert_exporter": "python",
   "pygments_lexer": "ipython3",
   "version": "3.13.2"
  }
 },
 "nbformat": 4,
 "nbformat_minor": 5
}
