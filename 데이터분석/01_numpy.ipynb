{
 "cells": [
  {
   "cell_type": "markdown",
   "id": "32d8c3ce",
   "metadata": {},
   "source": [
    "# `01_numpy.ipynb`\n",
    "\n",
    "- 데이터 분석 vs 통계 vs 머신러닝\n",
    "    - 데이터 분석: **문제를 정의하고, 인사이트 도출** (고객 구매 패턴 분석 + 의사결정)\n",
    "    - 통계: 데이터를 **요약, 해석하는 수학** (평균, 분산)\n",
    "    - 머신러닝: 데이터를 학습하여 **예측** (스팸함 분류, 추천)\n",
    "\n",
    "- 데이터 분석: 데이터를 분석하여 의사결정에 도움을 준다.\n",
    "    - 의사결정 데이터 기반의 근거\n",
    "    - 패턴 발견, 예측 (머신 러닝)\n",
    "\n",
    "- DA Flow (데이터 분석 흐름)\n",
    "    1. 문제 정의\n",
    "    2. 데이터 수집\n",
    "    3. 데이터 정제 (결측치, 이상치 처리)\n",
    "    4. 탐색 - 시각화 (평균, 분포, 상관관계, 막대그래프, 히스토그램)\n",
    "    5. 통계 분석 및 해석 (수학 -> 가설 검정, 회귀분석)\n",
    "    6. 결론 도출\n",
    "\n",
    "- 시트 vs DB vs Python\n",
    "    - 시트는 편함\n",
    "    - DB는 대용량 처리 CRUD (억단위)\n",
    "    - 파이썬은 시각화, 분석, 머신러닝\n",
    "\n",
    "- 라이브러리\n",
    "    - `numpy`: 빠름(배열 연산)\n",
    "    - `pandas`: 표(DataFrame) -> `numpy` 기반으로 만들어짐\n",
    "    - `matplotlib`: 시각화 기본(그래프)\n",
    "    - `seaborn`: 시각화 심화\n",
    "    - `scipy`: 고급 통계, 수학 연산\n",
    "    - `scikit-learn`: 머신러닝"
   ]
  },
  {
   "cell_type": "code",
   "execution_count": 8,
   "id": "6edc284c",
   "metadata": {},
   "outputs": [
    {
     "name": "stdout",
     "output_type": "stream",
     "text": [
      "Collecting numpy\n",
      "  Downloading numpy-2.3.2-cp313-cp313-win_amd64.whl.metadata (60 kB)\n",
      "Downloading numpy-2.3.2-cp313-cp313-win_amd64.whl (12.8 MB)\n",
      "   ---------------------------------------- 0.0/12.8 MB ? eta -:--:--\n",
      "   ---------------------------- ----------- 9.2/12.8 MB 45.9 MB/s eta 0:00:01\n",
      "   ---------------------------------------- 12.8/12.8 MB 44.1 MB/s eta 0:00:00\n",
      "Installing collected packages: numpy\n",
      "Successfully installed numpy-2.3.2\n",
      "Note: you may need to restart the kernel to use updated packages.\n"
     ]
    },
    {
     "name": "stderr",
     "output_type": "stream",
     "text": [
      "\n",
      "[notice] A new release of pip is available: 24.3.1 -> 25.1.1\n",
      "[notice] To update, run: python.exe -m pip install --upgrade pip\n"
     ]
    }
   ],
   "source": [
    "%pip install numpy"
   ]
  },
  {
   "cell_type": "code",
   "execution_count": 12,
   "id": "90a05c90",
   "metadata": {},
   "outputs": [
    {
     "name": "stdout",
     "output_type": "stream",
     "text": [
      "[2, 4, 6, 8, 10]\n",
      "[2, 4, 6, 8, 10]\n"
     ]
    }
   ],
   "source": [
    "python_list = [1, 2, 3, 4, 5]\n",
    "result = [num*2 for num in python_list]\n",
    "print(result)\n",
    "\n",
    "result1 = []\n",
    "for num in python_list:\n",
    "    result1.append(num * 2)\n",
    "print(result1)"
   ]
  },
  {
   "cell_type": "code",
   "execution_count": 11,
   "id": "e3715f99",
   "metadata": {},
   "outputs": [
    {
     "name": "stdout",
     "output_type": "stream",
     "text": [
      "[ 2  4  6  8 10]\n"
     ]
    }
   ],
   "source": [
    "import numpy as np\n",
    "\n",
    "array = np.array([1, 2, 3, 4, 5])\n",
    "result = array * 2\n",
    "print(result)"
   ]
  },
  {
   "cell_type": "code",
   "execution_count": 18,
   "id": "9b1a1670",
   "metadata": {},
   "outputs": [
    {
     "name": "stdout",
     "output_type": "stream",
     "text": [
      "[1 2 3 4 5] <class 'numpy.ndarray'>\n",
      "차원 1\n",
      "형태 (5,)\n",
      "크기 5\n"
     ]
    }
   ],
   "source": [
    "arr = np.array([1, 2, 3, 4, 5])\n",
    "print(arr, type(arr))\n",
    "print('차원', arr.ndim)\n",
    "print('형태', arr.shape)\n",
    "print('크기', arr.size)"
   ]
  },
  {
   "cell_type": "code",
   "execution_count": null,
   "id": "daf3c461",
   "metadata": {},
   "outputs": [
    {
     "data": {
      "text/plain": [
       "array([1, 2, 3, 4, 5])"
      ]
     },
     "execution_count": 19,
     "metadata": {},
     "output_type": "execute_result"
    }
   ],
   "source": [
    "arr1d = np.array([1, 2, 3, 4, 5])\n",
    "arr1d"
   ]
  },
  {
   "cell_type": "code",
   "execution_count": 28,
   "id": "4c2766c3",
   "metadata": {},
   "outputs": [
    {
     "data": {
      "text/plain": [
       "(2, (2, 3), 6, dtype('int64'))"
      ]
     },
     "execution_count": 28,
     "metadata": {},
     "output_type": "execute_result"
    }
   ],
   "source": [
    "l2d = [\n",
    "    [1, 2, 3],\n",
    "    [4, 5, 6],\n",
    "]\n",
    "arr2d = np.array(l2d)\n",
    "\n",
    "arr2d.ndim, arr2d.shape, arr2d.size, arr2d.dtype\n"
   ]
  },
  {
   "cell_type": "code",
   "execution_count": null,
   "id": "cf312098",
   "metadata": {},
   "outputs": [
    {
     "data": {
      "text/plain": [
       "array([1., 2., 3.])"
      ]
     },
     "execution_count": 26,
     "metadata": {},
     "output_type": "execute_result"
    }
   ],
   "source": [
    "# 실수형 arr\n",
    "np.array([1, 2, 3], dtype=float)"
   ]
  },
  {
   "cell_type": "code",
   "execution_count": null,
   "id": "90a57620",
   "metadata": {},
   "outputs": [
    {
     "name": "stdout",
     "output_type": "stream",
     "text": [
      "[0. 0. 0. 0. 0.]\n",
      "[[0. 0. 0.]\n",
      " [0. 0. 0.]]\n",
      "[1. 1. 1. 1. 1.]\n",
      "[[1. 1. 1.]\n",
      " [1. 1. 1.]]\n",
      "[7 7 7 7 7]\n",
      "[[7 7 7]\n",
      " [7 7 7]]\n",
      "[1. 2. 3.]\n"
     ]
    }
   ],
   "source": [
    "# 0으로 채워짐\n",
    "z1d = np.zeros(5)\n",
    "z2d = np.zeros((2, 3)) #행, 열 순으로 써줌\n",
    "print(z1d)\n",
    "print(z2d)\n",
    "\n",
    "# 1로 채워짐\n",
    "o1d = np.ones(5)\n",
    "o2d = np.ones((2, 3))\n",
    "print(o1d)\n",
    "print(o2d)\n",
    "\n",
    "# n으로 채움\n",
    "n1d = np.full(5, 7) #7로 채워진 5개짜리\n",
    "n2d = np.full((2, 3), 7)\n",
    "print(n1d)\n",
    "print(n2d)\n",
    "\n",
    "# 빈칸이지만 먼저 만듦\n",
    "emtpy = np.empty(3) # 3칸짜리를 만들었다\n",
    "print(emtpy)\n"
   ]
  },
  {
   "cell_type": "code",
   "execution_count": null,
   "id": "3550c9bf",
   "metadata": {},
   "outputs": [
    {
     "name": "stdout",
     "output_type": "stream",
     "text": [
      "[0 2 4 6 8]\n",
      "[0.   0.25 0.5  0.75 1.  ]\n",
      "[  1.           3.16227766  10.          31.6227766  100.        ]\n"
     ]
    }
   ],
   "source": [
    "## 시퀀스 배열\n",
    "\n",
    "# range\n",
    "range_arr = np.arange(0, 10, 2)\n",
    "print(range_arr)\n",
    "\n",
    "# 등간격 실수 배열\n",
    "lin_space = np.linspace(0, 1, 5) # 0부터 1까지 5개로 나눠줘\n",
    "print(lin_space)\n",
    "\n",
    "# 로그 스케일\n",
    "log_space = np.logspace(0, 2, 5) #10^0~ 10^2까지 5개 요소\n",
    "print(log_space)"
   ]
  },
  {
   "cell_type": "code",
   "execution_count": 48,
   "id": "760085a5",
   "metadata": {},
   "outputs": [
    {
     "name": "stdout",
     "output_type": "stream",
     "text": [
      "[[0.98104835 0.01745231 0.92891493 0.45092037 0.51443763]\n",
      " [0.62424021 0.78891504 0.7072102  0.9282857  0.68780182]\n",
      " [0.31107116 0.18010178 0.82722248 0.13168676 0.80313719]]\n",
      "[[ 0.75929063  0.29592353 -0.86816529  0.15487395 -1.17132874]\n",
      " [ 0.47318939 -0.2649421  -0.63640968 -0.01331544  0.50740546]\n",
      " [-1.78182515  3.23227045  1.1669663  -0.82140429  0.4723228 ]]\n",
      "[[6 3 2]\n",
      " [7 0 5]\n",
      " [1 6 8]]\n"
     ]
    },
    {
     "data": {
      "text/plain": [
       "array([0.37454012, 0.95071431, 0.73199394])"
      ]
     },
     "execution_count": 48,
     "metadata": {},
     "output_type": "execute_result"
    }
   ],
   "source": [
    "## 난수 배열\n",
    "\n",
    "\n",
    "#균등 분포 난수 (0~1) 사이를 균등 확률 분포\n",
    "random = np.random.rand(3, 5) # 0 ~ 1 사이의 실수\n",
    "print(random)\n",
    "\n",
    "#정규 분포 난수\n",
    "normal = np.random.randn(3, 5)\n",
    "print(normal)\n",
    "\n",
    "# 정수 난수 (0~9까지 3*3)\n",
    "int_random = np.random.randint(0, 10, (3, 3))\n",
    "print(int_random)\n",
    "\n",
    "# 시드 설정(랜덤 재현 가능)\n",
    "np.random.seed(42) # 랜덤 상황 42 고정\n",
    "np.random.rand(3)"
   ]
  },
  {
   "cell_type": "code",
   "execution_count": null,
   "id": "a6d54f5b",
   "metadata": {},
   "outputs": [],
   "source": [
    "# 배열의 데이터 타입\n",
    "# 데이터 타입 확인\n",
    "arr = np.array([1, 2, 3])\n",
    "print(arr.dtype)\n",
    "\n",
    "# 데이터 타입 지정 생성\n",
    "f_arr = np.array([1, 2, 3], dtype=np.float64)\n",
    "print(f_arr.dtype)\n",
    "\n",
    "# 데이터 타입 변경 (int -> float)\n",
    "converted = arr.astype(np.float32)\n",
    "print(converted.dtype)\n",
    "\n",
    "# 문자열 -> 숫자\n",
    "str_arr = np.array(['1.2', '2.3', '3.4'])\n",
    "num_arr = str_arr.astype(float)  # np.floatXX 라고 지정 안하고 float 쓰면 -> float64\n",
    "print(num_arr, num_arr.dtype)"
   ]
  },
  {
   "cell_type": "code",
   "execution_count": null,
   "id": "09238fbb",
   "metadata": {},
   "outputs": [
    {
     "name": "stdout",
     "output_type": "stream",
     "text": [
      "8\n"
     ]
    }
   ],
   "source": [
    "# 1칸의 메모리 사용량\n",
    "print(arr.itemsize) # int64 -> 8byte\n",
    "print(converted.itemsize) # float32 -> 4byte\n",
    "\n",
    "# 총 메모리 사용량\n",
    "print(arr.nbytes) # 8byte * 3칸\n",
    "print(converted.nbytes)\n",
    "\n",
    "'''\n",
    "과학 연산에는 64 쓰는 게 맞음\n",
    "(소수점 정확할 수록 좋으니까용)\n",
    "'''"
   ]
  },
  {
   "cell_type": "code",
   "execution_count": 65,
   "id": "7979f4a3",
   "metadata": {},
   "outputs": [
    {
     "name": "stdout",
     "output_type": "stream",
     "text": [
      "[ 0  1  2  3  4  5  6  7  8  9 10 11]\n",
      "[[ 0  1  2  3]\n",
      " [ 4  5  6  7]\n",
      " [ 8  9 10 11]]\n",
      "[[[ 0  1  2]\n",
      "  [ 3  4  5]]\n",
      "\n",
      " [[ 6  7  8]\n",
      "  [ 9 10 11]]]\n",
      "[[ 0  1  2  3]\n",
      " [ 4  5  6  7]\n",
      " [ 8  9 10 11]]\n",
      "[[ 0  1  2  3  4  5]\n",
      " [ 6  7  8  9 10 11]]\n"
     ]
    }
   ],
   "source": [
    "## 배열 재구성\n",
    "\n",
    "# \n",
    "arr = np.arange(12)\n",
    "reshaped = arr.reshape(3, 4) # 3row * 4col\n",
    "print(arr)\n",
    "print(reshaped)\n",
    "\n",
    "reshaped3d = arr.reshape(2, 2, 3) # 2페이지, 2row*3col\n",
    "print(reshaped3d)\n",
    "\n",
    "# 자동 계산\n",
    "auto1 = arr.reshape(3, -1) # row 3개, col 알아서\n",
    "auto2 = arr.reshape(-1, 6) # row 알아서, col 6개\n",
    "print(auto1)\n",
    "print(auto2)"
   ]
  },
  {
   "cell_type": "code",
   "execution_count": null,
   "id": "4f521686",
   "metadata": {},
   "outputs": [
    {
     "name": "stdout",
     "output_type": "stream",
     "text": [
      "[ 0  1  2  3  4  5  6  7  8  9 10 11]\n",
      "[[ 0  1  2  3]\n",
      " [ 4  5  6  7]\n",
      " [ 8  9 10 11]]\n",
      "[[ 0  1  2  3]\n",
      " [ 4  5  6  7]\n",
      " [ 8  9 10 11]]\n"
     ]
    }
   ],
   "source": [
    "# reshape -> 원본 그대로, 새로운 배열 만드는 메서드\n",
    "# resize -> 원본을 바꿈\n",
    "\n",
    "arr = np.arange(12)\n",
    "reshaped = arr.reshape(3, 4) # 새로운 배열 리턴\n",
    "print(arr)\n",
    "print(reshaped)\n",
    "\n",
    "arr.resize(3, 4) # arr이 바뀜\n",
    "print(arr)"
   ]
  },
  {
   "cell_type": "code",
   "execution_count": null,
   "id": "92d08874",
   "metadata": {},
   "outputs": [
    {
     "name": "stdout",
     "output_type": "stream",
     "text": [
      "[ 1  2  3  4  5  6  7  8  9 10 11 12 13 14 15] [ 1  2  3  4  5  6  7  8  9 10 11 12 13 14 15]\n",
      "[1 3 5 7 9]\n",
      "[0.  0.6 1.2 1.8 2.4 3. ]\n"
     ]
    }
   ],
   "source": [
    "# 1~15 정수 배열\n",
    "print(np.arange(1, 16), np.array(range(1, 16)))\n",
    "\n",
    "# 0부터 9까지 홀수\n",
    "print(np.arange(1, 10, 2))\n",
    "\n",
    "# 0에서 3까지 균등 6등분(5구간) 배열\n",
    "print(np.linspace(0, 3, 6))\n"
   ]
  },
  {
   "cell_type": "code",
   "execution_count": 79,
   "id": "e839882a",
   "metadata": {},
   "outputs": [
    {
     "name": "stdout",
     "output_type": "stream",
     "text": [
      "[[1. 0. 0. 0.]\n",
      " [0. 1. 0. 0.]\n",
      " [0. 0. 1. 0.]\n",
      " [0. 0. 0. 1.]]\n"
     ]
    },
    {
     "data": {
      "text/plain": [
       "array([[[0.72900717, 0.77127035, 0.07404465, 0.35846573],\n",
       "        [0.11586906, 0.86310343, 0.62329813, 0.33089802],\n",
       "        [0.06355835, 0.31098232, 0.32518332, 0.72960618]],\n",
       "\n",
       "       [[0.63755747, 0.88721274, 0.47221493, 0.11959425],\n",
       "        [0.71324479, 0.76078505, 0.5612772 , 0.77096718],\n",
       "        [0.4937956 , 0.52273283, 0.42754102, 0.02541913]]])"
      ]
     },
     "execution_count": 79,
     "metadata": {},
     "output_type": "execute_result"
    }
   ],
   "source": [
    "# 4*4 단위 행렬 (identity matrix) -> 대각선 1, 나머지 0\n",
    "print(np.eye(4))\n",
    "\n",
    "# 3*4 사이즈의 1로 가득찬 int 배열\n",
    "np.ones((3, 4), dtype=int)\n",
    "\n",
    "# 2*3*4 사이즈 0~1 난수 배열\n",
    "np.random.rand(2, 3, 4) # 인자로 차원 지정 -> 오래된 버전에서 주로 씀\n",
    "np.random.random((2, 3, 4)) # 튜플로 차원 지정 -> 최신 버전에서 주로 씀"
   ]
  }
 ],
 "metadata": {
  "kernelspec": {
   "display_name": "Python 3",
   "language": "python",
   "name": "python3"
  },
  "language_info": {
   "codemirror_mode": {
    "name": "ipython",
    "version": 3
   },
   "file_extension": ".py",
   "mimetype": "text/x-python",
   "name": "python",
   "nbconvert_exporter": "python",
   "pygments_lexer": "ipython3",
   "version": "3.13.2"
  }
 },
 "nbformat": 4,
 "nbformat_minor": 5
}
