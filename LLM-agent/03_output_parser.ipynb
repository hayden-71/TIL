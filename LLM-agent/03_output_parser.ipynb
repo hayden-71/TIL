{
 "cells": [
  {
   "cell_type": "markdown",
   "id": "4b52bab7",
   "metadata": {},
   "source": [
    "# 출력 파서 (`OutputParser`)\n",
    "- LLM의 출력을 더 유용/구조화된 형태로 변환함\n",
    "- 장점\n",
    "    1. 구조화: LLM의 자유 형식 출력을 구조화된 데이터로 변환할 수 있음 (json, dict)\n",
    "    1. 일관성: 항상 일관된 출력 형식 -> 후속 처리에 용이하다\n",
    "    1. 유연성: 다양한 출력 형식(JSON, list, dict)으로 변환 가능"
   ]
  },
  {
   "cell_type": "markdown",
   "id": "cd15ba90",
   "metadata": {},
   "source": [
    "## `PydanticOutputParser`"
   ]
  },
  {
   "cell_type": "code",
   "execution_count": 2,
   "id": "1db65330",
   "metadata": {},
   "outputs": [],
   "source": [
    "from dotenv import load_dotenv\n",
    "from langchain_openai import ChatOpenAI\n",
    "from langchain_core.output_parsers import PydanticOutputParser\n",
    "from pydantic import BaseModel, Field\n",
    "\n",
    "load_dotenv()\n",
    "\n",
    "llm = ChatOpenAI(model='gpt-4.1-nano')"
   ]
  },
  {
   "cell_type": "code",
   "execution_count": 3,
   "id": "b8025283",
   "metadata": {},
   "outputs": [],
   "source": [
    "email_conversation = \"\"\"From: 김철수 (chulsoo.kim@bikecorporation.me)\n",
    "To: 이은채 (eunchae@teddyinternational.me)\n",
    "Subject: \"ZENESIS\" 자전거 유통 협력 및 미팅 일정 제안\n",
    "\n",
    "안녕하세요, 이은채 대리님,\n",
    "\n",
    "저는 바이크코퍼레이션의 김철수 상무입니다. 최근 보도자료를 통해 귀사의 신규 자전거 \"ZENESIS\"에 대해 알게 되었습니다. 바이크코퍼레이션은 자전거 제조 및 유통 분야에서 혁신과 품질을 선도하는 기업으로, 이 분야에서의 장기적인 경험과 전문성을 가지고 있습니다.\n",
    "\n",
    "ZENESIS 모델에 대한 상세한 브로슈어를 요청드립니다. 특히 기술 사양, 배터리 성능, 그리고 디자인 측면에 대한 정보가 필요합니다. 이를 통해 저희가 제안할 유통 전략과 마케팅 계획을 보다 구체화할 수 있을 것입니다.\n",
    "\n",
    "또한, 협력 가능성을 더 깊이 논의하기 위해 다음 주 화요일(1월 15일) 오전 10시에 미팅을 제안합니다. 귀사 사무실에서 만나 이야기를 나눌 수 있을까요?\n",
    "\n",
    "감사합니다.\n",
    "\n",
    "김철수\n",
    "상무이사\n",
    "바이크코퍼레이션\n",
    "\"\"\""
   ]
  },
  {
   "cell_type": "code",
   "execution_count": 8,
   "id": "7cbd8a18",
   "metadata": {},
   "outputs": [
    {
     "name": "stdout",
     "output_type": "stream",
     "text": [
      "아래 이메일 내용 중 중요한 것만 추출해.\n",
      "---\n",
      "From: 김철수 (chulsoo.kim@bikecorporation.me)\n",
      "To: 이은채 (eunchae@teddyinternational.me)\n",
      "Subject: \"ZENESIS\" 자전거 유통 협력 및 미팅 일정 제안\n",
      "\n",
      "안녕하세요, 이은채 대리님,\n",
      "\n",
      "저는 바이크코퍼레이션의 김철수 상무입니다. 최근 보도자료를 통해 귀사의 신규 자전거 \"ZENESIS\"에 대해 알게 되었습니다. 바이크코퍼레이션은 자전거 제조 및 유통 분야에서 혁신과 품질을 선도하는 기업으로, 이 분야에서의 장기적인 경험과 전문성을 가지고 있습니다.\n",
      "\n",
      "ZENESIS 모델에 대한 상세한 브로슈어를 요청드립니다. 특히 기술 사양, 배터리 성능, 그리고 디자인 측면에 대한 정보가 필요합니다. 이를 통해 저희가 제안할 유통 전략과 마케팅 계획을 보다 구체화할 수 있을 것입니다.\n",
      "\n",
      "또한, 협력 가능성을 더 깊이 논의하기 위해 다음 주 화요일(1월 15일) 오전 10시에 미팅을 제안합니다. 귀사 사무실에서 만나 이야기를 나눌 수 있을까요?\n",
      "\n",
      "감사합니다.\n",
      "\n",
      "김철수\n",
      "상무이사\n",
      "바이크코퍼레이션\n",
      "\n",
      "\n"
     ]
    },
    {
     "data": {
      "text/plain": [
       "'[중요 내용 요약]\\n\\n- 발신자: 김철수 상무, 바이크코퍼레이션\\n- 수신자: 이은채 대리님, 테디인터내셔널\\n- 목적:\\n  - \"ZENESIS\" 자전거 유통 협력 문의\\n  - 상세 브로슈어 요청 (기술 사양, 배터리 성능, 디자인)\\n  - 협력 가능성 논의를 위한 미팅 제안\\n- 미팅 일정: 1월 15일 화요일 오전 10시 (귀사 사무실에서)'"
      ]
     },
     "execution_count": 8,
     "metadata": {},
     "output_type": "execute_result"
    }
   ],
   "source": [
    "from langchain_core.prompts import PromptTemplate\n",
    "prompt = PromptTemplate.from_template(\n",
    "    \"\"\"아래 이메일 내용 중 중요한 것만 추출해.\n",
    "---\n",
    "{email_conversation}\n",
    "\"\"\"\n",
    ")\n",
    "\n",
    "print(prompt.format(email_conversation=email_conversation)) # 각각 빵꾸, 변수명\n",
    "\n",
    "chain = prompt | llm\n",
    "chain.invoke({'email_conversation': email_conversation}).content"
   ]
  },
  {
   "cell_type": "code",
   "execution_count": 9,
   "id": "77e509d5",
   "metadata": {},
   "outputs": [
    {
     "name": "stdout",
     "output_type": "stream",
     "text": [
      "[중요 내용 요약]\n",
      "\n",
      "- 발신자: 김철수 상무, 바이크코퍼레이션\n",
      "- 수신자: 이은채 대리님, 테디인터내셔널\n",
      "- 목적:\n",
      "  - \"ZENESIS\" 자전거 유통 협력 문의\n",
      "  - 상세 브로슈어 요청 (기술 사양, 배터리 성능, 디자인)\n",
      "  - 협력 가능성 논의를 위한 미팅 제안\n",
      "- 미팅 일정: 1월 15일 화요일 오전 10시 (귀사 사무실에서)\n"
     ]
    }
   ],
   "source": [
    "print('[중요 내용 요약]\\n\\n- 발신자: 김철수 상무, 바이크코퍼레이션\\n- 수신자: 이은채 대리님, 테디인터내셔널\\n- 목적:\\n  - \"ZENESIS\" 자전거 유통 협력 문의\\n  - 상세 브로슈어 요청 (기술 사양, 배터리 성능, 디자인)\\n  - 협력 가능성 논의를 위한 미팅 제안\\n- 미팅 일정: 1월 15일 화요일 오전 10시 (귀사 사무실에서)')"
   ]
  },
  {
   "cell_type": "code",
   "execution_count": 17,
   "id": "6e111588",
   "metadata": {},
   "outputs": [
    {
     "name": "stdout",
     "output_type": "stream",
     "text": [
      "The output should be formatted as a JSON instance that conforms to the JSON schema below.\n",
      "\n",
      "As an example, for the schema {\"properties\": {\"foo\": {\"title\": \"Foo\", \"description\": \"a list of strings\", \"type\": \"array\", \"items\": {\"type\": \"string\"}}}, \"required\": [\"foo\"]}\n",
      "the object {\"foo\": [\"bar\", \"baz\"]} is a well-formatted instance of the schema. The object {\"properties\": {\"foo\": [\"bar\", \"baz\"]}} is not well-formatted.\n",
      "\n",
      "Here is the output schema:\n",
      "```\n",
      "{\"properties\": {\"person\": {\"description\": \"메일 보낸 사람\", \"title\": \"Person\", \"type\": \"string\"}, \"email\": {\"description\": \"보낸 사람의 메일 주소\", \"title\": \"Email\", \"type\": \"string\"}, \"subject\": {\"description\": \"메일 제목\", \"title\": \"Subject\", \"type\": \"string\"}, \"summary\": {\"description\": \"메일 본문 요약\", \"title\": \"Summary\", \"type\": \"string\"}, \"date\": {\"description\": \"메일에 언급된 미팅 날짜와 시간\", \"title\": \"Date\", \"type\": \"string\"}}, \"required\": [\"person\", \"email\", \"subject\", \"summary\", \"date\"]}\n",
      "```\n"
     ]
    }
   ],
   "source": [
    "class EmailSummary(BaseModel):\n",
    "    person: str = Field(description='메일 보낸 사람')\n",
    "    email: str = Field(description='보낸 사람의 메일 주소')\n",
    "    subject: str = Field(description='메일 제목')\n",
    "    summary: str = Field(description='메일 본문 요약')\n",
    "    date: str = Field(description='메일에 언급된 미팅 날짜와 시간')\n",
    "\n",
    "parser = PydanticOutputParser(pydantic_object=EmailSummary)\n",
    "print(parser.get_format_instructions())"
   ]
  },
  {
   "cell_type": "code",
   "execution_count": 21,
   "id": "f94b0734",
   "metadata": {},
   "outputs": [
    {
     "name": "stdout",
     "output_type": "stream",
     "text": [
      "{'date': '1월 15일 오전 10시',\n",
      " 'email': 'chulsoo.kim@bikecorporation.me',\n",
      " 'person': '김철수',\n",
      " 'subject': '\"ZENESIS\" 자전거 유통 협력 및 미팅 일정 제안',\n",
      " 'summary': \"김철수 상무는 귀사의 'ZENESIS' 자전거에 대해 상세 브로슈어를 요청하며, 기술 사양, 배터리 성능, 디자인 \"\n",
      "            '등에 관한 정보를 원함. 또한, 1월 15일 오전 10시에 사무실에서 미팅을 제안하여 협력 가능성을 논의하고자 함.'}\n"
     ]
    }
   ],
   "source": [
    "prompt = PromptTemplate.from_template(\n",
    "    \"\"\"\n",
    "너는 요약의 신 어시스턴스야. 아래 질문에 맞게 답변을 한국어로 만들어줘\n",
    "\n",
    "질문: {question}\n",
    "이메일 내용: {email_conversation}\n",
    "형식 {format}\n",
    "\"\"\"\n",
    ")\n",
    "\n",
    "# 프롬프트 변수들 중 일부만 채우기\n",
    "prompt = prompt.partial(format = parser.get_format_instructions())\n",
    "\n",
    "chain = prompt | llm | parser\n",
    "\n",
    "res = chain.invoke(\n",
    "    {'question': '이메일 내용 중 중요한 내용 추출해줘',\n",
    "     'email_conversation': email_conversation}\n",
    ")\n",
    "\n",
    "\n",
    "from pprint import pprint\n",
    "\n",
    "pprint(res.model_dump())"
   ]
  },
  {
   "cell_type": "markdown",
   "id": "0be0f40a",
   "metadata": {},
   "source": [
    "## CSV Parser"
   ]
  },
  {
   "cell_type": "code",
   "execution_count": null,
   "id": "11d5d0c5",
   "metadata": {},
   "outputs": [
    {
     "name": "stdout",
     "output_type": "stream",
     "text": [
      "Your response should be a list of comma separated values, eg: `foo, bar, baz` or `foo,bar,baz`\n",
      "---\n",
      "List 5 중국집 대표메뉴\n",
      "Your response should be a list of comma separated values, eg: `foo, bar, baz` or `foo,bar,baz`\n",
      "Big Mac, Quarter Pounder, Chicken McNuggets, McToast, Fries\n",
      "['삼성전자', 'SK하이닉스', '현대차', 'LG화학', 'NCSOFT']\n"
     ]
    }
   ],
   "source": [
    "from langchain_core.output_parsers import CommaSeparatedListOutputParser\n",
    "\n",
    "output_parser = CommaSeparatedListOutputParser()\n",
    "\n",
    "# CSV 파서의 안내사항 확인\n",
    "print(output_parser.get_format_instructions())\n",
    "\n",
    "\n",
    "prompt = PromptTemplate(\n",
    "    template='List 5 {subject}\\n{format_instructions}',\n",
    "    input_variables=['subject'],\n",
    "    partial_variables={'format_instructions': output_parser.get_format_instructions()}\n",
    ")\n",
    "\n",
    "print('---')\n",
    "print(prompt.format(subject='중국집 대표메뉴'))\n",
    "\n",
    "chain1 = prompt | llm\n",
    "csv_res = chain1.invoke({'subject': '맥도날드 대표메뉴'}).content\n",
    "\n",
    "\n",
    "chain2 = prompt | llm | output_parser\n",
    "list_res = chain2.invoke({'subject': '국민주식'})\n"
   ]
  },
  {
   "cell_type": "code",
   "execution_count": null,
   "id": "d2e993af",
   "metadata": {},
   "outputs": [
    {
     "name": "stdout",
     "output_type": "stream",
     "text": [
      "Big Mac, Quarter Pounder, Chicken McNuggets, McToast, Fries\n",
      "['삼성전자', 'SK하이닉스', '현대차', 'LG화학', 'NCSOFT']\n"
     ]
    }
   ],
   "source": [
    "print(csv_res)\n",
    "print(list_res) # 리스트가 더 활용도 좋음"
   ]
  },
  {
   "cell_type": "markdown",
   "id": "43ffcc93",
   "metadata": {},
   "source": [
    "## Structured Output Parser\n",
    "- dict 형식 -> 멍청한 모델에도 적용 가능"
   ]
  },
  {
   "cell_type": "code",
   "execution_count": 31,
   "id": "27225fbe",
   "metadata": {},
   "outputs": [],
   "source": [
    "from langchain.output_parsers import ResponseSchema, StructuredOutputParser\n",
    "\n",
    "response_schema = [\n",
    "    ResponseSchema(name='answer', description='사용자 질문에 대한 답변'),\n",
    "    ResponseSchema(name='source', description='질문에 답하기 위해 사용된 출처')\n",
    "]\n",
    "\n",
    "output_parser = StructuredOutputParser.from_response_schemas(response_schema)"
   ]
  },
  {
   "cell_type": "code",
   "execution_count": 36,
   "id": "b78d0e9a",
   "metadata": {},
   "outputs": [
    {
     "name": "stdout",
     "output_type": "stream",
     "text": [
      "The output should be a markdown code snippet formatted in the following schema, including the leading and trailing \"```json\" and \"```\":\n",
      "\n",
      "```json\n",
      "{\n",
      "\t\"answer\": string  // 사용자 질문에 대한 답변\n",
      "\t\"source\": string  // 질문에 답하기 위해 사용된 출처\n",
      "}\n",
      "```\n",
      "사용자 질문에 최선을 다해 답변한다. \n",
      "The output should be a markdown code snippet formatted in the following schema, including the leading and trailing \"```json\" and \"```\":\n",
      "\n",
      "```json\n",
      "{\n",
      "\t\"answer\": string  // 사용자 질문에 대한 답변\n",
      "\t\"source\": string  // 질문에 답하기 위해 사용된 출처\n",
      "}\n",
      "```\n",
      "처서는 몇월 며칠인가?\n"
     ]
    }
   ],
   "source": [
    "print(output_parser.get_format_instructions())\n",
    "\n",
    "prompt = PromptTemplate(\n",
    "    template='사용자 질문에 최선을 다해 답변한다. \\n{format_instructions}\\n{question}',\n",
    "    input_variables=['question'],\n",
    "    partial_variables={'format_instructions': output_parser.get_format_instructions()}\n",
    ")\n",
    "\n",
    "print(prompt.format(question='처서는 몇월 며칠인가?'))"
   ]
  },
  {
   "cell_type": "code",
   "execution_count": 37,
   "id": "611bcdb1",
   "metadata": {},
   "outputs": [
    {
     "data": {
      "text/plain": [
       "{'answer': '처서(處暑)는 계절의 하나로, 보통 양력으로 8월 23일경에 해당하며, 더위가 한창 심한 시기가 끝나고 서서히 시원한 기운이 돌기 시작하는 시기입니다.',\n",
       " 'source': '한국의 24절기 개념 및 날짜 기준'}"
      ]
     },
     "execution_count": 37,
     "metadata": {},
     "output_type": "execute_result"
    }
   ],
   "source": [
    "chain = prompt|llm|output_parser\n",
    "chain.invoke({'question':'처서는 언제야?'})"
   ]
  }
 ],
 "metadata": {
  "kernelspec": {
   "display_name": "Python 3",
   "language": "python",
   "name": "python3"
  },
  "language_info": {
   "codemirror_mode": {
    "name": "ipython",
    "version": 3
   },
   "file_extension": ".py",
   "mimetype": "text/x-python",
   "name": "python",
   "nbconvert_exporter": "python",
   "pygments_lexer": "ipython3",
   "version": "3.13.2"
  }
 },
 "nbformat": 4,
 "nbformat_minor": 5
}
