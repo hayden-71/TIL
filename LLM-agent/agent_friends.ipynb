{
 "cells": [
  {
   "cell_type": "code",
   "execution_count": null,
   "id": "f2eb3f51",
   "metadata": {},
   "outputs": [],
   "source": [
    "# 1. 보험 약관 챗봇 에이전트 (RAG-약관)\n",
    "# 2. 학습 조교 에이전트 (RAG-수업자료)\n",
    "# 3. 스크립트에서 관련된 문장을 찾아와서 해석해주는 에이전트"
   ]
  },
  {
   "cell_type": "markdown",
   "id": "a71f408e",
   "metadata": {},
   "source": [
    "### 스크립트에서 관련 문장을 찾아와서 해석해주는 에이전트 (Friends)"
   ]
  },
  {
   "cell_type": "code",
   "execution_count": 13,
   "id": "46638200",
   "metadata": {},
   "outputs": [
    {
     "name": "stdout",
     "output_type": "stream",
     "text": [
      "pdf장수 1169\n"
     ]
    }
   ],
   "source": [
    "# 1. 문서 load\n",
    "\n",
    "from langchain_community.document_loaders import DirectoryLoader, PyMuPDFLoader\n",
    "\n",
    "loader = DirectoryLoader(\n",
    "    \"./data/\",\n",
    "    glob=\"Friends*.pdf\",   # friends_로 시작하는 pdf만 로딩\n",
    "    loader_cls=PyMuPDFLoader\n",
    ")\n",
    "docs = loader.load()\n",
    "print('pdf장수', len(docs))"
   ]
  },
  {
   "cell_type": "code",
   "execution_count": 95,
   "id": "284559ca",
   "metadata": {},
   "outputs": [
    {
     "name": "stdout",
     "output_type": "stream",
     "text": [
      "7480 chunks created\n",
      "Season 1 \n",
      " \n",
      "1\n",
      "101. The One Where Monica Gets a New Roommate \n",
      "(The Pilot-The Uncut Version) \n",
      " \n",
      "Written by: Marta Kauffman & David Crane \n",
      "Transcribed by: guineapig \n",
      "Additional transcribing by: Eric Aase\n"
     ]
    }
   ],
   "source": [
    "# 2. Split\n",
    "\n",
    "from langchain.text_splitter import RecursiveCharacterTextSplitter\n",
    "\n",
    "text_splitter = RecursiveCharacterTextSplitter(\n",
    "    chunk_size=400,      # 청크 길이\n",
    "    chunk_overlap=0,   # 겹치기 (앞뒤 맥락 조금씩 포함)\n",
    ")\n",
    "\n",
    "splits = text_splitter.split_documents(docs)\n",
    "print(len(splits), \"chunks created\")\n",
    "print(splits[0].page_content[:200])  # 첫 chunk 미리보기"
   ]
  },
  {
   "cell_type": "code",
   "execution_count": 92,
   "id": "37aeb734",
   "metadata": {},
   "outputs": [
    {
     "name": "stdout",
     "output_type": "stream",
     "text": [
      "ROSS: Good morning. \n",
      "OLD WOMAN: Well, somebody got some last night. \n",
      "ROSS: Twice. \n",
      "END\n"
     ]
    }
   ],
   "source": [
    "# 3. 벡터 임베딩  4. 벡터 스토어 저장\n",
    "from langchain_openai import OpenAIEmbeddings\n",
    "from langchain_community.vectorstores import FAISS\n",
    "\n",
    "embedding = OpenAIEmbeddings() # 각 청크 텍스트를 숫자 벡터로 바꿔\n",
    "\n",
    "vectorstore = FAISS.from_documents(documents=splits, embedding=embedding)\n",
    "\n",
    "\n",
    "# test\n",
    "results = vectorstore.similarity_search('ross marry', k=1)\n",
    "\n",
    "for doc in results:\n",
    "    print(doc.page_content)"
   ]
  },
  {
   "cell_type": "code",
   "execution_count": 98,
   "id": "811bfa6b",
   "metadata": {},
   "outputs": [],
   "source": [
    "from langchain.agents import create_openai_tools_agent, AgentExecutor # 에이전트 실행기\n",
    "from langchain_core.prompts import ChatPromptTemplate, MessagesPlaceholder\n",
    "from langchain.memory import ConversationBufferMemory # 기억\n",
    "\n",
    "from langchain_openai import ChatOpenAI\n",
    "from langchain.tools.retriever import create_retriever_tool\n",
    "\n",
    "\n",
    "llm = ChatOpenAI(model_name=\"gpt-4.1-mini\", temperature=0)\n",
    "\n",
    "retriever = vectorstore.as_retriever(k=1) # 리트리버=도서관 사서\n",
    "\n",
    "rag_tool = create_retriever_tool(\n",
    "    retriever,\n",
    "    name='pdf_search',\n",
    "    description='PDF 문서에서 질문과 관련된 내용을 검색합니다.' # Agent가 언제 이 tool을 쓸지 알게 됨\n",
    ")\n",
    "\n",
    "text = f'''\n",
    "- Do not print the entire text.\n",
    "- When a user asks a question in Korean, find the relevant content.\n",
    "- All sentences must be translated, and each sentence is printed one sentence in English-Korean form\n",
    "\n",
    "- Divide up the sentences one by one, and show them **including who said it.\n",
    "- Show the original English text and natural Korean interpretation for each sentence.\n",
    "- At this time, interpret it informally, and make it natural according to the context.\n",
    "- Please keep the dialogue, cultural context, and character characteristics alive.\n",
    "- It is translated to be read naturally in Korean rather than in direct translation.\n",
    "\n",
    "출력 예시:\n",
    "[MONICA: She is unbelievable, our mother is...]\n",
    "[모니카: 우리 엄마는 정말 믿을 수가 없어...]\n",
    "[RACHEL: Uh, no she doesn't but I can, I can get a message to her.]\n",
    "[레이첼: 음, 아니요, 그녀는 아니지만, 나는 그녀에게 메시지를 전달할 수 있어요.]\n",
    "\n",
    "'''\n",
    "\n",
    "prompt = ChatPromptTemplate.from_messages([\n",
    "    ('system', text),\n",
    "    MessagesPlaceholder(variable_name='chat_history'), # 사용자가 여태까지 했던 얘기들이 들어옴\n",
    "    ('human', '{input}'),\n",
    "    MessagesPlaceholder(variable_name='agent_scratchpad') #  임시저장 변수.... 검색 도구 호출 때 필요함\n",
    "])\n",
    "\n",
    "memory = ConversationBufferMemory(\n",
    "    return_messages=True,\n",
    "    memory_key='chat_history'\n",
    ")\n",
    "\n",
    "agent = create_openai_tools_agent(\n",
    "    llm=llm,\n",
    "    tools=[rag_tool],\n",
    "    prompt=prompt,\n",
    ")\n",
    "\n",
    "agent_executor = AgentExecutor(agent=agent, \n",
    "                               memory=memory, \n",
    "                               tools=[rag_tool], \n",
    "                               verbose=True) # verbose 수다스러운.. 출력을 더 많이 한다는 뜻!\n"
   ]
  },
  {
   "cell_type": "code",
   "execution_count": 104,
   "id": "15d794b5",
   "metadata": {},
   "outputs": [
    {
     "name": "stdout",
     "output_type": "stream",
     "text": [
      "\n",
      "\n",
      "\u001b[1m> Entering new AgentExecutor chain...\u001b[0m\n",
      "\u001b[32;1m\u001b[1;3m\n",
      "Invoking: `pdf_search` with `{'query': 'Chandler trapped'}`\n",
      "\n",
      "\n",
      "\u001b[0m\u001b[36;1m\u001b[1;3mChandler: Oh God!\n",
      "\n",
      "Chandler: It did enter my mind! But then something happened that made it, shoot right out. \n",
      "Rachel: Y'know what Chandler, you got yourself into those cuffs, you get yourself out of them. \n",
      "Chandler: No- no- no- no- no- no- no!! I can’t get myself right out of them! You must have me confused\n",
      "\n",
      "Chandler: (trapped) Uh, uh. \n",
      "Monica: Well? \n",
      "Chandler: Dear God! This parachute is a knapsack! (throws himself over the back of the chair he was \n",
      "sitting in) \n",
      "(Rachel enters, in a formal dress.) \n",
      "Rachel: Hey. \n",
      "Phoebe: Hey. Ooh, look at you, dressy- dress.\n",
      "\n",
      "Rachel: Thanks Chandler.\u001b[0m\u001b[32;1m\u001b[1;3m[Chandler: Oh God!]\n",
      "[챈들러: 아, 세상에!]\n",
      "\n",
      "[Chandler: It did enter my mind! But then something happened that made it, shoot right out.]\n",
      "[챈들러: 그런 생각이 들긴 했어! 근데 뭔가가 있어서 바로 잊어버렸지.]\n",
      "\n",
      "[Rachel: Y'know what Chandler, you got yourself into those cuffs, you get yourself out of them.]\n",
      "[레이첼: 있잖아 챈들러, 네가 수갑 찼으면 네가 풀어야지.]\n",
      "\n",
      "[Chandler: No- no- no- no- no- no- no!! I can’t get myself right out of them! You must have me confused.]\n",
      "[챈들러: 아니- 아니- 아니- 아니- 아니- 아니- 아니!! 나 혼자서는 못 풀어! 너 나랑 헷갈리는 거야.]\n",
      "\n",
      "[Chandler: (trapped) Uh, uh.]\n",
      "[챈들러: (갇혀서) 어, 어.]\n",
      "\n",
      "[Monica: Well?]\n",
      "[모니카: 어때?]\n",
      "\n",
      "[Chandler: Dear God! This parachute is a knapsack! (throws himself over the back of the chair he was sitting in)]\n",
      "[챈들러: 세상에! 이 낙하산이 배낭이야! (앉아있던 의자 뒤로 몸을 던진다)]\n",
      "\n",
      "[Rachel: Hey.]\n",
      "[레이첼: 안녕.]\n",
      "\n",
      "[Phoebe: Hey. Ooh, look at you, dressy- dress.]\n",
      "[피비: 안녕. 우와, 너 멋지게 차려입었네.]\n",
      "\n",
      "[Rachel: Thanks Chandler.]\n",
      "[레이첼: 고마워 챈들러.]\u001b[0m\n",
      "\n",
      "\u001b[1m> Finished chain.\u001b[0m\n"
     ]
    },
    {
     "data": {
      "text/plain": [
       "{'input': '챈들러가 갇혔다',\n",
       " 'chat_history': [HumanMessage(content='모니카의 엄마', additional_kwargs={}, response_metadata={}),\n",
       "  AIMessage(content=\"[Monica: She is unbelievable, our mother is...]\\n[모니카: 우리 엄마는 정말 믿을 수가 없어...]\\n\\n[Ross: Okay, relax, relax. We are gonna be here for a while, it looks like, and we still have boyfriends and your career to cover.]\\n[로스: 좋아, 진정해, 진정해. 우리 여기 좀 오래 있을 것 같아, 그리고 아직 남자친구랑 네 커리어 얘기도 해야 하고.]\\n\\n[Monica: Oh God!]\\n[모니카: 아, 세상에!]\\n\\n[Monica: We just want you to think it through.]\\n[모니카: 그냥 네가 잘 생각해보길 바라는 거야.]\\n\\n[Rachel: Yeah, honey, maybe you can talk to somebody who’s had a baby. Like your mom?]\\n[레이첼: 응, 자기야, 아기를 낳아본 사람한테 얘기해보는 게 어때? 네 엄마처럼?]\\n\\n[Monica: That is a wonder. So tell me something, Mom. If you had to do it all over again, I mean, if she was here right now, would you tell her?]\\n[모니카: 그건 정말 대단한 일이야. 엄마, 그러니까 다시 할 수 있다면, 지금 여기 있다면, 엄마가 그녀한테 말해줄 거야?]\\n\\n[Mrs. Geller: Tell her what?]\\n[젤러 부인: 뭐라고 말하라는 거야?]\\n\\n[Monica: How she drove you crazy, picking on every little detail, like your hair... for example.]\\n[모니카: 어떻게 엄마를 미치게 했는지, 머리카락 같은 사소한 것까지 다 트집 잡으면서...]\\n\\n[Monica: That sounds like Nana.]\\n[모니카: 그거 완전 나나 같아.]\\n\\n[Mrs. Geller: Do you know what it's like to grow up with someone who is critical of every single thing you say?]\\n[젤러 부인: 네가 하는 말 하나하나를 다 비판하는 사람과 자란다는 게 어떤 건지 알아?]\\n\\n[Monica: ...I can imagine.]\\n[모니카: ...상상은 가.]\\n\\n[Mrs. Geller: I'm telling you, it's a wonder your mother turned out to be the positive, life-affirming person.]\\n[젤러 부인: 네 엄마가 긍정적이고 삶을 긍정하는 사람이 된 게 정말 기적이야.]\", additional_kwargs={}, response_metadata={}),\n",
       "  HumanMessage(content='로스의 아기', additional_kwargs={}, response_metadata={}),\n",
       "  AIMessage(content=\"[Ross: What? (his beeper goes off) Great, now I'm having a baby.]\\n[로스: 뭐? (삐삐가 울린다) 좋아, 이제 아기를 낳게 됐어.]\\n\\n[Rachel: What?]\\n[레이첼: 뭐라고?]\\n\\n[Ross: Ooh, Ooh.]\\n[로스: 우, 우.]\\n\\n[Rachel: What?]\\n[레이첼: 뭐?]\\n\\n[Ross: I'm having... I'm having a baby. (jumps back onto the table again) I'm having a... Where's the phone? The phone?]\\n[로스: 나 아기를... 아기를 낳게 됐어. (다시 테이블 위로 뛰어오르며) 아기를... 전화기 어디 있지? 전화기?]\\n\\n[Rachel: I don't know where the phone is.]\\n[레이첼: 전화기 어디 있는지 몰라.]\\n\\n[Ross: I’m gonna be a father.]\\n[로스: 나 아빠가 된대.]\\n\\n[Rachel: This is just occurring to you?]\\n[레이첼: 지금에서야 알았어?]\\n\\n[Ross: I always knew I was havin’ a baby, I just never realised the baby was having me.]\\n[로스: 난 항상 아기를 가질 거란 걸 알았어, 근데 아기가 나를 갖고 있다는 건 몰랐지.]\\n\\n[Rachel: (She comforts him too) Oh, you’re gonna be great!]\\n[레이첼: (그를 위로하며) 오, 넌 정말 잘할 거야!]\\n\\n[Ross: It's alright, it's no big deal.]\\n[로스: 괜찮아, 별일 아니야.]\\n\\n[Rachel: Really?]\\n[레이첼: 진짜?]\\n\\n[Ross: Yeah, definitely, I'm sure you'll feel totally different when it's our baby.]\\n[로스: 응, 확실해, 우리 아기가 생기면 완전히 다르게 느낄 거야.]\\n\\n[Rachel: What?]\\n[레이첼: 뭐?]\\n\\n[Ross: What?]\\n[로스: 뭐?]\\n\\n[Rachel: You think about stuff like that?]\\n[레이첼: 그런 생각도 해?]\\n\\n[Joey: (entering) Ross! Get a shot of this. (He's carrying an issue of the USA Today and hands Ross the camera.) Hey babies! These are the headlines on the day you were born!]\\n[조이: (들어오며) 로스! 이거 사진 찍어봐. (USA 투데이 신문을 들고 카메라를 로스에게 건네며) 얘들아! 너희가 태어난 날 신문 헤드라인이야!]\\n\\n[Joey: Okay, now girl baby turn away.]\\n[조이: 좋아, 이제 여자 아기는 고개 돌려.]\", additional_kwargs={}, response_metadata={}),\n",
       "  HumanMessage(content='챈들러가 갇혔다', additional_kwargs={}, response_metadata={}),\n",
       "  AIMessage(content=\"[Chandler: Oh God!]\\n[챈들러: 아, 세상에!]\\n\\n[Chandler: It did enter my mind! But then something happened that made it, shoot right out.]\\n[챈들러: 그런 생각이 들긴 했어! 근데 뭔가가 있어서 바로 잊어버렸지.]\\n\\n[Rachel: Y'know what Chandler, you got yourself into those cuffs, you get yourself out of them.]\\n[레이첼: 있잖아 챈들러, 네가 수갑 찼으면 네가 풀어야지.]\\n\\n[Chandler: No- no- no- no- no- no- no!! I can’t get myself right out of them! You must have me confused.]\\n[챈들러: 아니- 아니- 아니- 아니- 아니- 아니- 아니!! 나 혼자서는 못 풀어! 너 나랑 헷갈리는 거야.]\\n\\n[Chandler: (trapped) Uh, uh.]\\n[챈들러: (갇혀서) 어, 어.]\\n\\n[Monica: Well?]\\n[모니카: 어때?]\\n\\n[Chandler: Dear God! This parachute is a knapsack! (throws himself over the back of the chair he was sitting in)]\\n[챈들러: 세상에! 이 낙하산이 배낭이야! (앉아있던 의자 뒤로 몸을 던진다)]\\n\\n[Rachel: Hey.]\\n[레이첼: 안녕.]\\n\\n[Phoebe: Hey. Ooh, look at you, dressy- dress.]\\n[피비: 안녕. 우와, 너 멋지게 차려입었네.]\\n\\n[Rachel: Thanks Chandler.]\\n[레이첼: 고마워 챈들러.]\", additional_kwargs={}, response_metadata={})],\n",
       " 'output': \"[Chandler: Oh God!]\\n[챈들러: 아, 세상에!]\\n\\n[Chandler: It did enter my mind! But then something happened that made it, shoot right out.]\\n[챈들러: 그런 생각이 들긴 했어! 근데 뭔가가 있어서 바로 잊어버렸지.]\\n\\n[Rachel: Y'know what Chandler, you got yourself into those cuffs, you get yourself out of them.]\\n[레이첼: 있잖아 챈들러, 네가 수갑 찼으면 네가 풀어야지.]\\n\\n[Chandler: No- no- no- no- no- no- no!! I can’t get myself right out of them! You must have me confused.]\\n[챈들러: 아니- 아니- 아니- 아니- 아니- 아니- 아니!! 나 혼자서는 못 풀어! 너 나랑 헷갈리는 거야.]\\n\\n[Chandler: (trapped) Uh, uh.]\\n[챈들러: (갇혀서) 어, 어.]\\n\\n[Monica: Well?]\\n[모니카: 어때?]\\n\\n[Chandler: Dear God! This parachute is a knapsack! (throws himself over the back of the chair he was sitting in)]\\n[챈들러: 세상에! 이 낙하산이 배낭이야! (앉아있던 의자 뒤로 몸을 던진다)]\\n\\n[Rachel: Hey.]\\n[레이첼: 안녕.]\\n\\n[Phoebe: Hey. Ooh, look at you, dressy- dress.]\\n[피비: 안녕. 우와, 너 멋지게 차려입었네.]\\n\\n[Rachel: Thanks Chandler.]\\n[레이첼: 고마워 챈들러.]\"}"
      ]
     },
     "execution_count": 104,
     "metadata": {},
     "output_type": "execute_result"
    }
   ],
   "source": [
    "agent_executor.invoke({'input':'챈들러가 갇혔다'})"
   ]
  }
 ],
 "metadata": {
  "kernelspec": {
   "display_name": "Python 3",
   "language": "python",
   "name": "python3"
  },
  "language_info": {
   "codemirror_mode": {
    "name": "ipython",
    "version": 3
   },
   "file_extension": ".py",
   "mimetype": "text/x-python",
   "name": "python",
   "nbconvert_exporter": "python",
   "pygments_lexer": "ipython3",
   "version": "3.13.2"
  }
 },
 "nbformat": 4,
 "nbformat_minor": 5
}
