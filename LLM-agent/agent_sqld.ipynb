{
 "cells": [
  {
   "cell_type": "markdown",
   "id": "226cef9c",
   "metadata": {},
   "source": [
    "# 학습 조교 에이전트 (RAG-수업자료)"
   ]
  },
  {
   "cell_type": "code",
   "execution_count": 8,
   "id": "cc82b7eb",
   "metadata": {},
   "outputs": [
    {
     "name": "stdout",
     "output_type": "stream",
     "text": [
      "103\n",
      "split한 pdf 장수: 62\n"
     ]
    }
   ],
   "source": [
    "# 1. 문서 load\n",
    "\n",
    "from langchain_community.document_loaders import DirectoryLoader, PyMuPDFLoader\n",
    "\n",
    "loader = PyMuPDFLoader(\"./data/sqld.pdf\")\n",
    "\n",
    "docs = loader.load()\n",
    "print(len(docs))\n",
    "\n",
    "\n",
    "# 2. split\n",
    "from langchain_text_splitters import RecursiveCharacterTextSplitter\n",
    "text_spliter = RecursiveCharacterTextSplitter(chunk_size=500, chunk_overlap=100)\n",
    "split_docs = text_spliter.split_documents(docs)\n",
    "\n",
    "print('split한 pdf 장수:', len(split_docs))"
   ]
  }
 ],
 "metadata": {
  "kernelspec": {
   "display_name": "Python 3",
   "language": "python",
   "name": "python3"
  },
  "language_info": {
   "codemirror_mode": {
    "name": "ipython",
    "version": 3
   },
   "file_extension": ".py",
   "mimetype": "text/x-python",
   "name": "python",
   "nbconvert_exporter": "python",
   "pygments_lexer": "ipython3",
   "version": "3.13.2"
  }
 },
 "nbformat": 4,
 "nbformat_minor": 5
}
