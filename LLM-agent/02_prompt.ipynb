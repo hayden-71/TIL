{
 "cells": [
  {
   "cell_type": "markdown",
   "id": "20538871",
   "metadata": {},
   "source": [
    "# 프롬프트 (Prompt)\n",
    "- LLM한테 주는 입력 (지시, 맥락, 기억)\n",
    "    - 지시: '~~ 해줘'\n",
    "    - 맥락(context): 현재 지시를 위해 제공하는 추가 정보\n",
    "    - 기억(memory): 지금까지 했던 대화 내용"
   ]
  },
  {
   "cell_type": "code",
   "execution_count": null,
   "id": "0d4877e3",
   "metadata": {},
   "outputs": [
    {
     "data": {
      "text/plain": [
       "True"
      ]
     },
     "execution_count": 1,
     "metadata": {},
     "output_type": "execute_result"
    }
   ],
   "source": [
    "from dotenv import load_dotenv\n",
    "\n",
    "load_dotenv()"
   ]
  },
  {
   "cell_type": "markdown",
   "id": "12e83994",
   "metadata": {},
   "source": [
    "## `promptTemplate`\n",
    "- 단순히 1회성 명령 내릴 때 사용"
   ]
  },
  {
   "cell_type": "code",
   "execution_count": 9,
   "id": "54a336ff",
   "metadata": {},
   "outputs": [],
   "source": [
    "from langchain_openai import ChatOpenAI\n",
    "from langchain_core.prompts import PromptTemplate\n",
    "from langchain_core.output_parsers import StrOutputParser\n",
    "\n",
    "llm = ChatOpenAI(model='gpt-4.1-nano')"
   ]
  },
  {
   "cell_type": "code",
   "execution_count": null,
   "id": "9d1da528",
   "metadata": {},
   "outputs": [
    {
     "data": {
      "text/plain": [
       "'대한민국의 수도가 어디인가요?'"
      ]
     },
     "execution_count": 8,
     "metadata": {},
     "output_type": "execute_result"
    }
   ],
   "source": [
    "# 추후에 체인.invoke에서 {} 내부에 들어갈 말을 채워줘야 함\n",
    "template = '{country}의 수도가 어디인가요?'\n",
    "\n",
    "prompt = PromptTemplate.from_template(template)\n",
    "\n",
    "# {}를 채우는 방법 (우리는 결국 chain.invoke로 쓰게 됨)\n",
    "prompt.format(country='대한민국')"
   ]
  },
  {
   "cell_type": "code",
   "execution_count": 11,
   "id": "1db0e064",
   "metadata": {},
   "outputs": [
    {
     "data": {
      "text/plain": [
       "'대한민국의 수도는 서울입니다.'"
      ]
     },
     "execution_count": 11,
     "metadata": {},
     "output_type": "execute_result"
    }
   ],
   "source": [
    "chain = prompt | llm\n",
    "chain.invoke({'country': '대한미국'}).content"
   ]
  },
  {
   "cell_type": "markdown",
   "id": "869164a6",
   "metadata": {},
   "source": [
    "### Partial Variable (부분 변수)\n",
    "- 프롬프트에서 매개변수 기본값 사용하기"
   ]
  },
  {
   "cell_type": "code",
   "execution_count": 16,
   "id": "f5f6b96e",
   "metadata": {},
   "outputs": [
    {
     "data": {
      "text/plain": [
       "'한국과 미국의 수도는 각각 어디인가요?'"
      ]
     },
     "execution_count": 16,
     "metadata": {},
     "output_type": "execute_result"
    }
   ],
   "source": [
    "template = '{c1}과 {c2}의 수도는 각각 어디인가요?'\n",
    "\n",
    "prompt = PromptTemplate(\n",
    "    template=template,\n",
    "    input_variables=['c1'],\n",
    "    partial_variables={\n",
    "        'c2': '미국'\n",
    "    }\n",
    ")\n",
    "\n",
    "prompt.format(c1='한국')\n",
    "# prompt.format(c2='캐나다') <- 이건 에러 남"
   ]
  },
  {
   "cell_type": "code",
   "execution_count": 17,
   "id": "3247653f",
   "metadata": {},
   "outputs": [
    {
     "data": {
      "text/plain": [
       "'한국(코리아)의 수도는 서울입니다.  \\n미국(United States)의 수도는 워싱턴 D.C.입니다.'"
      ]
     },
     "execution_count": 17,
     "metadata": {},
     "output_type": "execute_result"
    }
   ],
   "source": [
    "chain = prompt | llm\n",
    "chain.invoke({'c1':'kor', 'c2':'us'}).content"
   ]
  },
  {
   "cell_type": "code",
   "execution_count": 20,
   "id": "016419a7",
   "metadata": {},
   "outputs": [
    {
     "name": "stdout",
     "output_type": "stream",
     "text": [
      "2025-09-01 15:16:31.270536\n"
     ]
    },
    {
     "data": {
      "text/plain": [
       "'오늘 날짜는 Sep 01입니다. 오늘 생일인 유명인 3명을 생년월일과 함께 나열해 주세요'"
      ]
     },
     "execution_count": 20,
     "metadata": {},
     "output_type": "execute_result"
    }
   ],
   "source": [
    "from datetime import datetime\n",
    "print(datetime.now())\n",
    "\n",
    "def get_today():\n",
    "    return datetime.now().strftime('%b %d')\n",
    "\n",
    "prompt = PromptTemplate(\n",
    "    template='오늘 날짜는 {today}입니다. 오늘 생일인 유명인 {n}명을 생년월일과 함께 나열해 주세요',\n",
    "    input_variables=['n'],\n",
    "    partial_variables={\n",
    "        'today': get_today\n",
    "    }\n",
    ")\n",
    "\n",
    "prompt.format(n=3)"
   ]
  },
  {
   "cell_type": "code",
   "execution_count": 24,
   "id": "066d6245",
   "metadata": {},
   "outputs": [
    {
     "name": "stdout",
     "output_type": "stream",
     "text": [
      "오늘이 9월 1일인 만큼, 생일이 오늘인 유명인을 확인해 보겠습니다. 현재까지 확실히 알려진 인물은 다음과 같습니다.\n",
      "\n",
      "- Zendaya — 1996년 9월 1일\n",
      "\n",
      "나머지 두 명도 정확히 확인해 드리려면 인터넷 검색이 필요합니다. 계속 진행해도 될까요? 확인 후 세 명의 생년월일을 모두 정확히 적어 드리겠습니다.\n"
     ]
    },
    {
     "data": {
      "text/plain": [
       "'오늘이 1월 2일이 맞다면, 이 날 생일인 유명인 중 확실한 두 사람은 아래와 같습니다. (생년월일 포함)\\n\\n- 아이작 아시모프 (Isaac Asimov) — 1920년 1월 2일\\n  미국의 과학소설 작가이자 비평가. 대표작으로는 Foundation 시리즈가 있습니다.\\n\\n- 케이트 보스워스 (Kate Bosworth) — 1983년 1월 2일\\n  미국 배우로, 영화 \"슈퍼맨 리턴즈\" 등에 출연했습니다.\\n\\n세 번째 인물도 확실한 정보를 드리려면 웹 검색이 필요합니다. 원하시면 바로 찾아서 세 번째 인물까지 정확한 생년월일과 함께 다시 알려드리겠습니다. 특정 분야(영화/음악/스포츠 등) 선호가 있으면 더 맞춤으로 골라 드릴 수 있어요.'"
      ]
     },
     "execution_count": 24,
     "metadata": {},
     "output_type": "execute_result"
    }
   ],
   "source": [
    "llm = ChatOpenAI(model='gpt-5-nano')\n",
    "\n",
    "chain = prompt | llm\n",
    "# 오늘 날짜 기준\n",
    "print(chain.invoke({'n': 3}).content)\n",
    "chain.invoke({'n': 3, 'today': 'Jan 2'}).content"
   ]
  },
  {
   "cell_type": "markdown",
   "id": "57b6d43d",
   "metadata": {},
   "source": [
    "## `ChatPromptTemplate`\n",
    "- 채팅을 주고 받는 템플릿 생성용\n",
    "- 대화 목록을 LLM에게 주입할 수 있음\n",
    "- 하나의 Chat은 `role`과 `message`로 구성 된다"
   ]
  },
  {
   "cell_type": "code",
   "execution_count": 26,
   "id": "3a7b4549",
   "metadata": {},
   "outputs": [
    {
     "data": {
      "text/plain": [
       "'Human: 한국의 수도는 어디?'"
      ]
     },
     "execution_count": 26,
     "metadata": {},
     "output_type": "execute_result"
    }
   ],
   "source": [
    "from langchain_core.prompts import ChatPromptTemplate\n",
    "\n",
    "chat_prompt = ChatPromptTemplate.from_template('{country}의 수도는 어디?')\n",
    "chat_prompt.format(country='한국')"
   ]
  },
  {
   "cell_type": "code",
   "execution_count": 34,
   "id": "b68c364e",
   "metadata": {},
   "outputs": [
    {
     "name": "stdout",
     "output_type": "stream",
     "text": [
      "System: 당신은 친절한 AI어시스트. 이름은 gaida 야.\n",
      "Human: 반가워!\n",
      "AI: 무엇을 도와드릴까요?\n",
      "Human: 이름이 뭐니?\n",
      "[SystemMessage(content='당신은 친절한 AI어시스트. 이름은 gaida 야.', additional_kwargs={}, response_metadata={}), HumanMessage(content='반가워!', additional_kwargs={}, response_metadata={}), AIMessage(content='무엇을 도와드릴까요?', additional_kwargs={}, response_metadata={}), HumanMessage(content='이름이 뭐니?', additional_kwargs={}, response_metadata={})]\n"
     ]
    }
   ],
   "source": [
    "chat_template = ChatPromptTemplate.from_messages(\n",
    "    [\n",
    "        # role - message\n",
    "        ('system', '당신은 친절한 AI어시스트. 이름은 {name} 야.'),\n",
    "        ('human', '반가워!'),\n",
    "        ('ai', '무엇을 도와드릴까요?'),\n",
    "        ('human', '{user_input}')\n",
    "    ]\n",
    ")\n",
    "\n",
    "# format vs format_messages\n",
    "messages_str = chat_template.format(name='gaida', user_input='이름이 뭐니?')\n",
    "messages_cls = chat_template.format_messages(name='gaida', user_input='이름이 뭐니?')\n",
    "print(messages_str)\n",
    "print(messages_cls)"
   ]
  },
  {
   "cell_type": "code",
   "execution_count": 31,
   "id": "128354a9",
   "metadata": {},
   "outputs": [
    {
     "data": {
      "text/plain": [
       "'제 이름은 gaida예요. 반가워요! 무엇을 도와드릴까요?'"
      ]
     },
     "execution_count": 31,
     "metadata": {},
     "output_type": "execute_result"
    }
   ],
   "source": [
    "# 한덩어리 텍스트로 인식\n",
    "llm.invoke(messages_str).content\n",
    "\n",
    "# 실제 대화 내역으로 인지 (Langsmith가서 확인)\n",
    "llm.invoke(messages_cls).content"
   ]
  },
  {
   "cell_type": "code",
   "execution_count": null,
   "id": "f3dfa843",
   "metadata": {},
   "outputs": [
    {
     "data": {
      "text/plain": [
       "'김민정님, 반가워요! 제 이름은 가이다이고, 님의 이름은 김민정이네요. 둘의 이름으로 재미있는 이름점(이름 궁합)을 한 번 보겠습니다. 이건 과학적 예언이 아니라 놀이로 보는 간단한 해석이에요.\\n\\n결과 요약\\n- 총점: 78/100\\n- 방법: 발음 흐름과 음운의 조화, 이름 길이의 균형 등을 간단히 비교해 산출한 점수예요.\\n\\n세부 해설\\n- 발음 흐름: 8/10\\n  가이다(가-이-다)와 김민정(김-민-정)을 잇는 흐름이 부드럽고, 두 이름 모두 모음이 비교적 편안하게 흘러듭니다. 서로 말할 때 리듬이 잘 맞는 편이에요.\\n\\n- 음운의 조화: 9/10\\n  둘 다 공통으로 ㅣ 소리를 자주 쓰고, 첫 글자에서 ㄱ 소리가 연결됩니다. 또한 부드러운 모음들(ㅏ, ㅣ 등)이 조화를 이루죠. 다만 정의 ㅓ가 다소 차이를 만들어 주는 포인트가 있어 완벽한 일치보다는 따뜻한 차이가 있어요.\\n\\n- 균형성과 긍정성: 7/10\\n  양쪽 모두 3음절 이름이라 길이의 균형이 잘 맞습니다. 다만 서로의 이름에 다양한 자음이 섞여 있어 활발한 상호작용이 기대됩니다.\\n\\n해석 요점\\n- 두 이름은 서로의 분위기에 긍정적이고 친근한 에너지를 주고받는 조합으로 읽히는 편이에요.\\n- 가이다의 창의적이고 다정한 느낌과 김민정님의 친근하고 정직한 느낌이 서로를 보완하는 경향이 있습니다.\\n- 대화나 협업에서 서로의 차이를 존중하면 좋은 시너지를 낼 가능성이 큽니다.\\n\\n다른 방식으로도 더 자세히 알아보고 싶으신가요?\\n- 더 정교한 방법으로: 자모 수, 초성/중성/종성의 수학적 매칭, 음양오행 배치 등으로 심화해 보기\\n- 한자 의미 기반으로 읽기: 두 이름의 한자 구성과 뜻 비교\\n- 또 다른 놀이: 이름의 음성 패턴(리듬, 악센트) 분석\\n\\n원하시는 방법이 있으면 알려 주세요. 원하시는 방식으로 좀 더 자세히 계산해 드리겠습니다.'"
      ]
     },
     "execution_count": 35,
     "metadata": {},
     "output_type": "execute_result"
    }
   ],
   "source": [
    "chain = chat_template | llm | StrOutputParser()\n",
    "\n",
    "chain.invoke({'name': '가이다', 'user_input': '내 이름은 민정. 너와 나의 이름점을 봐줘'})"
   ]
  },
  {
   "cell_type": "markdown",
   "id": "ca696ffd",
   "metadata": {},
   "source": [
    "## 프롬프팅 방법\n",
    "내가 원하는 답변을 구구절절 설명 X -> 예시를 주고 답변 형태를 유도\n",
    "- Zero-shot prompting: 예시 없이 질문만 -> 바로 답변\n",
    "- One-shot prompting: 예시 1개 + 질문 -> 모델이 예시를 모방해서 답변\n",
    "- **Few-shot prompting**: 예시 여러개 + 질문 -> 예시들의 패턴을 일반화 해서 답변"
   ]
  },
  {
   "cell_type": "code",
   "execution_count": 40,
   "id": "51c7d52b",
   "metadata": {},
   "outputs": [
    {
     "name": "stdout",
     "output_type": "stream",
     "text": [
      "이 질문에 추가 질문이 필요한가요: 예.  \n",
      "추가 질문: Google이 언제 창립되었나요?  \n",
      "중간 답변: Google은 1998년에 창립되었습니다.  \n",
      "추가 질문: Bill Gates는 언제 태어났나요?  \n",
      "중간 답변: Bill Gates는 1955년 10월 28일에 태어났습니다.  \n",
      "최종 답변은: 42세입니다.\n"
     ]
    }
   ],
   "source": [
    "from langchain_core.prompts.few_shot import FewShotPromptTemplate\n",
    "from langchain_core.output_parsers import StrOutputParser\n",
    "\n",
    "llm = ChatOpenAI(model='gpt-4.1-nano')\n",
    "\n",
    "examples = [\n",
    "    {\n",
    "        \"question\": \"스티브 잡스와 아인슈타인 중 누가 더 오래 살았나요?\",\n",
    "        \"answer\": \"\"\"이 질문에 추가 질문이 필요한가요: 예.\n",
    "추가 질문: 스티브 잡스는 몇 살에 사망했나요?\n",
    "중간 답변: 스티브 잡스는 56세에 사망했습니다.\n",
    "추가 질문: 아인슈타인은 몇 살에 사망했나요?\n",
    "중간 답변: 아인슈타인은 76세에 사망했습니다.\n",
    "최종 답변은: 아인슈타인\n",
    "\"\"\",\n",
    "    },\n",
    "    {\n",
    "        \"question\": \"네이버의 창립자는 언제 태어났나요?\",\n",
    "        \"answer\": \"\"\"이 질문에 추가 질문이 필요한가요: 예.\n",
    "추가 질문: 네이버의 창립자는 누구인가요?\n",
    "중간 답변: 네이버는 이해진에 의해 창립되었습니다.\n",
    "추가 질문: 이해진은 언제 태어났나요?\n",
    "중간 답변: 이해진은 1967년 6월 22일에 태어났습니다.\n",
    "최종 답변은: 1967년 6월 22일\n",
    "\"\"\",\n",
    "    },\n",
    "    {\n",
    "        \"question\": \"율곡 이이의 어머니가 태어난 해의 통치하던 왕은 누구인가요?\",\n",
    "        \"answer\": \"\"\"이 질문에 추가 질문이 필요한가요: 예.\n",
    "추가 질문: 율곡 이이의 어머니는 누구인가요?\n",
    "중간 답변: 율곡 이이의 어머니는 신사임당입니다.\n",
    "추가 질문: 신사임당은 언제 태어났나요?\n",
    "중간 답변: 신사임당은 1504년에 태어났습니다.\n",
    "추가 질문: 1504년에 조선을 통치한 왕은 누구인가요?\n",
    "중간 답변: 1504년에 조선을 통치한 왕은 연산군입니다.\n",
    "최종 답변은: 연산군\n",
    "\"\"\",\n",
    "    },\n",
    "    {\n",
    "        \"question\": \"올드보이와 기생충의 감독이 같은 나라 출신인가요?\",\n",
    "        \"answer\": \"\"\"이 질문에 추가 질문이 필요한가요: 예.\n",
    "추가 질문: 올드보이의 감독은 누구인가요?\n",
    "중간 답변: 올드보이의 감독은 박찬욱입니다.\n",
    "추가 질문: 박찬욱은 어느 나라 출신인가요?\n",
    "중간 답변: 박찬욱은 대한민국 출신입니다.\n",
    "추가 질문: 기생충의 감독은 누구인가요?\n",
    "중간 답변: 기생충의 감독은 봉준호입니다.\n",
    "추가 질문: 봉준호는 어느 나라 출신인가요?\n",
    "중간 답변: 봉준호는 대한민국 출신입니다.\n",
    "최종 답변은: 예\n",
    "\"\"\",\n",
    "    },\n",
    "]\n",
    "\n",
    "example_prompt = PromptTemplate.from_template(\n",
    "    \"Question:\\n{question}\\nAnswer:\\n{answer}\"\n",
    ")\n",
    "\n",
    "prompt = FewShotPromptTemplate(\n",
    "    examples=examples,\n",
    "    example_prompt=example_prompt,\n",
    "    suffix=\"Question:\\n{question}\\nAnswer:\",\n",
    "    input_variables=[\"question\"],\n",
    ")\n",
    "\n",
    "question = \"Google이 창립된 연도에 Bill Gates의 나이는 몇 살인가요?\"\n",
    "\n",
    "chain = prompt | llm | StrOutputParser()\n",
    "\n",
    "res = chain.invoke({'question': question})\n",
    "\n",
    "print(res)"
   ]
  },
  {
   "cell_type": "markdown",
   "id": "6569599d",
   "metadata": {},
   "source": [
    "## `langchain-hub`\n",
    "다양한 사용자들이 업로드한 프롬프트를 받아서 활용"
   ]
  },
  {
   "cell_type": "code",
   "execution_count": 39,
   "id": "dcfaf315",
   "metadata": {},
   "outputs": [
    {
     "name": "stdout",
     "output_type": "stream",
     "text": [
      "Answer the following questions as best you can. You have access to the following tools:\n",
      "\n",
      "{tools}\n",
      "\n",
      "Use the following format:\n",
      "\n",
      "Question: the input question you must answer\n",
      "Thought: you should always think about what to do\n",
      "Action: the action to take, should be one of [{tool_names}]\n",
      "Action Input: the input to the action\n",
      "Observation: the result of the action\n",
      "... (this Thought/Action/Action Input/Observation can repeat N times)\n",
      "Thought: I now know the final answer\n",
      "Final Answer: the final answer to the original input question\n",
      "\n",
      "Begin!\n",
      "\n",
      "Question: {input}\n",
      "Thought:{agent_scratchpad}\n"
     ]
    }
   ],
   "source": [
    "from langchain import hub\n",
    "\n",
    "prompt = hub.pull('hwchase17/react')\n",
    "print(prompt.template)"
   ]
  }
 ],
 "metadata": {
  "kernelspec": {
   "display_name": "Python 3",
   "language": "python",
   "name": "python3"
  },
  "language_info": {
   "codemirror_mode": {
    "name": "ipython",
    "version": 3
   },
   "file_extension": ".py",
   "mimetype": "text/x-python",
   "name": "python",
   "nbconvert_exporter": "python",
   "pygments_lexer": "ipython3",
   "version": "3.13.2"
  }
 },
 "nbformat": 4,
 "nbformat_minor": 5
}
