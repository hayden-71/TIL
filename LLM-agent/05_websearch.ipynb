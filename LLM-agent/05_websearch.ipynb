{
 "cells": [
  {
   "cell_type": "markdown",
   "id": "6dd62815",
   "metadata": {},
   "source": [
    "# Web Search\n",
    "- LLM에게 웹 검색을 쥐어주자\n",
    "- tavily 사용 (1000건까지 free)"
   ]
  },
  {
   "cell_type": "code",
   "execution_count": 1,
   "id": "85b5f490",
   "metadata": {},
   "outputs": [
    {
     "name": "stdout",
     "output_type": "stream",
     "text": [
      "Note: you may need to restart the kernel to use updated packages.\n"
     ]
    },
    {
     "name": "stderr",
     "output_type": "stream",
     "text": [
      "\n",
      "[notice] A new release of pip is available: 24.3.1 -> 25.2\n",
      "[notice] To update, run: python.exe -m pip install --upgrade pip\n"
     ]
    }
   ],
   "source": [
    "%pip install -qU langchain-tavily"
   ]
  },
  {
   "cell_type": "code",
   "execution_count": 7,
   "id": "5a4ecb59",
   "metadata": {},
   "outputs": [
    {
     "data": {
      "text/plain": [
       "True"
      ]
     },
     "execution_count": 7,
     "metadata": {},
     "output_type": "execute_result"
    }
   ],
   "source": [
    "from dotenv import load_dotenv\n",
    "from pprint import pprint\n",
    "load_dotenv()"
   ]
  },
  {
   "cell_type": "code",
   "execution_count": 3,
   "id": "592dc727",
   "metadata": {},
   "outputs": [],
   "source": [
    "from langchain_tavily import TavilySearch\n",
    "\n",
    "search_tool = TavilySearch(\n",
    "    max_results=5, # 몇 개 찾아올건지\n",
    "    topic=\"general\", # news, finance이라고 설정 가능\n",
    "    search_depth=\"basic\", # advanced는 deep search\n",
    "    \n",
    "    # include_answer=False, # 내 질문 포함 할말\n",
    "    # include_raw_content=False, # html 포함?\n",
    "    # include_images=False,\n",
    "    # include_image_descriptions=False,\n",
    "    # time_range=\"day\", # 검색 데이터의 최신성\n",
    "    # include_domains=None, \n",
    "    # exclude_domains=None\n",
    ")"
   ]
  },
  {
   "cell_type": "code",
   "execution_count": null,
   "id": "de686e1a",
   "metadata": {},
   "outputs": [
    {
     "data": {
      "text/plain": [
       "{'query': '랭체인 tavily 어떻게 쓰는거야?',\n",
       " 'follow_up_questions': None,\n",
       " 'answer': None,\n",
       " 'images': [],\n",
       " 'results': [{'url': 'https://wikidocs.net/261568',\n",
       "   'title': '4-2-1. 웹 검색 도구 활용 - 랭체인(LangChain) 입문부터 응용까지',\n",
       "   'content': \"기본 LLM 체인 (Prompt + LLM)) LangChain 모델 유형) 유사도 기반 검색 (Similarity search)) 유사도 기반 검색 (Similarity search) (Copy)) 올라마(Ollama) 모델에 랭체인(LangChain) 적용) Groq API 모델을 랭체인(LangChain) 적용) 웹 검색 도구 활용) 웹 검색 도구 활용 웹 검색 도구 활용 # LangChain의 웹 검색 도구 사용 LangChain의 웹 검색 도구인 Tavily API를 사용하여 실시간 금융 정보를 검색하고 분석에 활용하는 예제를 살펴보겠습니다. Tavily API를 사용하여 LangChain의 웹 검색 기능을 활용하기 위해서는 API 인증키가 필요합니다. 이 예제에서는 2025년 애플의 주가 전망에 대한 분석을 요청합니다. 검색 도구 초기화 검색 결과는 `search_results` 변수에 저장됩니다. {'url': 'https://therapycenter.kr/contents/애플-주식-분석-2025년-8월-전망과-투자-전략/', 'content': '특히 2025년 8월을 기준으로 애플 주식의 향후 전망은 기술 혁신, 제품 출시, 그리고 글로벌 경제 동향에 따라 중요한 변화를 맞이할 수 있습니다. 이 정보를 바탕으로 애플의 2025년 주가 전망에 대한 분석을 수행할 수 있습니다.\",\n",
       "   'score': 0.71377134,\n",
       "   'raw_content': None},\n",
       "  {'url': 'https://steemit.com/krdev/@anpigon/20240714t025613948z',\n",
       "   'title': '[랭체인] Agentic Search: 더 스마트한 웹 검색 방법 - Steemit',\n",
       "   'content': '먼저, 필요한 라이브러리를 설치하고 환경을 설정해야 합니다. 이 예제에서는 Tavily API를 사용할 것입니다. from dotenv import load_dotenv import os',\n",
       "   'score': 0.66464967,\n",
       "   'raw_content': None},\n",
       "  {'url': 'https://docs.tavily.com/integrations/langchain',\n",
       "   'title': 'LangChain - Tavily Docs',\n",
       "   'content': \"> **Warning**: The `langchain_community.tools.tavily_search.tool` is deprecated. Here we show how to instantiate an instance of the Tavily search tool. include only wikipedia sources” the agent will dynamically set the argments and invoke Tavily search tool : Invoking `tavily_search` with `{'query': 'most popular sport in the world', 'include_domains': ['wikipedia.org'], 'search_depth': 'basic'}` # Initialize Tavily Search Tool tavily_search_tool = TavilySearch( After instantiation we invoke the tool with a list of URLs. This tool allows you to extract content from URLs using Tavily’s Extract API endpoint. This example demonstrates how to build a powerful web research agent using Tavily’s search and extract Langchain tools. # Initialize Tavily Search Tool tavily_search_tool = TavilySearch( tools = [tavily_search_tool, tavily_extract_tool]\",\n",
       "   'score': 0.6100127,\n",
       "   'raw_content': None},\n",
       "  {'url': 'https://www.gpters.org/dev/post/QqAupEmj3Hq43hP',\n",
       "   'title': 'TavilySearchAPI를 이용한 Retriever(v.1) - 지피터스',\n",
       "   'content': 'â\\x8f° AIì\\x8a¤í\\x84°ë\\x94\\x94 16ê¸° ëª¨ì§\\x91 ë§\\x88ê°\\x90 (17ê¸° 7ì\\x9b\\x94 ì\\x98\\x88ì\\xa0\\x95) | AIì\\x8a¤í\\x84°ë\\x94\\x94 ë\\x91\\x98ë\\x9f¬ë³´ê¸° ð\\x9f\\x91\\x80 langchainì\\x97\\x90ì\\x84\\x9c ì\\x82¬ì\\x9a©ë\\x90\\x98ë\\x8a\\x94 ë\\x8b¤ì\\x96\\x91í\\x95\\x9c Tool ì¤\\x91ì\\x97\\x90 LLMì\\x9d\\x98 AI agentë¥¼ ì\\x9c\\x84í\\x95´ í\\x8a¹ë³\\x84í\\x9e\\x88 ì\\xa0\\x9cì\\x9e\\x91ë\\x90\\x9c ê²\\x80ì\\x83\\x89 ì\\x97\\x94ì§\\x84ì\\x9c¼ë¡\\x9c, ì\\xa0\\x95í\\x99\\x95í\\x95\\x98ê³\\xa0 ì\\x82¬ì\\x8b¤ì\\x97\\x90 ì\\x9e\\x85ê°\\x81í\\x95\\x9c ì\\x8b¤ì\\x8b\\x9cê°\\x84 ê²\\x80ì\\x83\\x89 ê²°ê³¼ë¥¼ ë¹\\xa0ë¥´ê²\\x8c ì\\xa0\\x9cê³µí\\x95\\x9cë\\x8b¤ê³\\xa0 ì\\x95\\x8cë\\xa0¤ì\\xa0¸ ì\\x9e\\x88ë\\x8a\\x94 â\\x80\\x9cTavilyâ\\x80\\x99s Search APIâ\\x80\\x9dë¥¼ retrieverë¡\\x9c í\\x99\\x9cì\\x9a©í\\x95\\x98ë\\x8a\\x94 ì\\x98\\x88ì\\xa0\\x9cë¥¼ ì\\x97°ì\\x8aµí\\x95´ ë´¤ì\\x8aµë\\x8b\\x88ë\\x8b¤. Tavilyâ\\x80\\x99s Search APIë¥¼ ì\\x82¬ì\\x9a©í\\x95\\x98ê¸° ì\\xa0\\x84ì\\x97\\x90 2ê°\\x80ì§\\x80 ì¤\\x80ë¹\\x84 ê³¼ì\\xa0\\x95ì\\x9d´ í\\x95\\x84ì\\x9a\\x94í\\x95©ë\\x8b\\x88ë\\x8b¤. Tavily API Key ë°\\x9cê¸\\x89 tavily-python package ì\\x84¤ì¹\\x98 1. Tavily API Key Tavily API Keyë\\x8a\\x94 Tavily í\\x99\\x88í\\x8e\\x98ì\\x9d´ì§\\x80ì\\x97\\x90 ê°\\x80ì\\x9e\\x85í\\x95´ì\\x84\\x9c ë°\\x9cê¸\\x89 ë°\\x9bì\\x9c¼ë©´ ë\\x90©ë\\x8b\\x88ë\\x8b¤. ê°\\x80ì\\x9e\\x85í\\x95\\x98ë©´ â\\x80\\x9cResearcherâ\\x80\\x9d planì\\x9d´ ì\\xa0\\x81ì\\x9a©ë\\x90\\x98ë\\x8a\\x94ë\\x8d°, ì\\x9b\\x94 1,000ê±´ì\\x9d\\x98 API callsì\\x9d´ ì\\xa0\\x9cê³µë\\x90\\x9cë\\x8b¤ê³\\xa0 í\\x95\\x98ë\\x84¤ì\\x9a\\x94. â\\x80\\x9cExplain about Euro 2024â\\x80\\x9dì\\x9d´ë\\x9d¼ë\\x8a\\x94 ì§\\x88ë¬¸ì\\x97\\x90 ë\\x8c\\x80í\\x95´ Tavily Search APIë¡\\x9c ê´\\x80ë\\xa0¨ ì\\xa0\\x95ë³´ë¥¼ ê²\\x80ì\\x83\\x89(retrieve)í\\x95\\x98ê³\\xa0, ê·¸ ì\\xa0\\x95ë³´ë¥¼ í\\x99\\x9cì\\x9a©í\\x95\\x98ì\\x97¬ LLMì\\x9d´ ë\\x8bµë³\\x80ì\\x9d\\x84 ì\\x83\\x9dì\\x84±í\\x95\\x9cë\\x8b¤.',\n",
       "   'score': 0.598524,\n",
       "   'raw_content': None},\n",
       "  {'url': 'https://python.langchain.com/docs/integrations/tools/tavily_search/',\n",
       "   'title': 'Tavily Search - Python LangChain',\n",
       "   'content': '==================================[1m Ai Message [0m================================== ==================================[1m Ai Message [0m==================================Tool Calls:Tool Calls:  tavily_search (call_yxmR4K2uadsQ8LKoyi8JyoLD)  tavily_search (call_yxmR4K2uadsQ8LKoyi8JyoLD) Call ID: call_yxmR4K2uadsQ8LKoyi8JyoLD Call ID: call_yxmR4K2uadsQ8LKoyi8JyoLD  Args:  Args:    query: Euro 2024 host nation    query: Euro 2024 host nation    include_domains: [\\'wikipedia.org\\']    include_domains: [\\'wikipedia.org\\'] =================================[1m Tool Message [0m================================= =================================[1m Tool Message [0m=================================Name: tavily_searchName: tavily_search {\"query\": \"Euro 2024 host nation\", \"follow_up_questions\": null, \"answer\": null, \"images\": [], \"results\": [{\"title\": \"UEFA Euro 2024 - Wikipedia\", \"url\": \"https://en.wikipedia.org/wiki/UEFA_Euro_2024\", \"content\": \"Tournament details Host country Germany Dates 14 June – 14 July Teams 24 Venue(s) 10 (in 10 host cities) Final positions Champions Spain (4th title) Runners-up England Tournament statistics Matches played 51 Goals scored 117 (2.29 per match) Attendance 2,681,288 (52,574 per match) Top scorer(s) Harry Kane Georges Mikautadze Jamal Musiala Cody Gakpo Ivan Schranz Dani Olmo (3 goals each) Best player(s) Rodri Best young player Lamine Yamal ← 2020 2028 → The 2024 UEFA European Football Championship, commonly referred to as UEFA Euro 2024 (stylised as UEFA EURO 2024) or simply Euro 2024, was the 17th UEFA European Championship, the quadrennial international football championship organised by UEFA for the European men\\'s national teams of their member associations.',\n",
       "   'score': 0.5852203,\n",
       "   'raw_content': None}],\n",
       " 'response_time': 1.48,\n",
       " 'request_id': '656fdbf2-8429-4bd5-986d-1598378cf883'}"
      ]
     },
     "execution_count": 6,
     "metadata": {},
     "output_type": "execute_result"
    }
   ],
   "source": [
    "# invoke가 있다는 건 chain에 포함할 수 있다!!\n",
    "search_tool.invoke({'query': '랭체인 tavily 어떻게 쓰는거야?'})"
   ]
  },
  {
   "cell_type": "code",
   "execution_count": 20,
   "id": "c681d56d",
   "metadata": {},
   "outputs": [
    {
     "name": "stdout",
     "output_type": "stream",
     "text": [
      "강남 신세계백화점 내 디저트 추천으로는, 전통 한식 디저트와 프랑스식 디저트가 모두 있습니다. 추천하는 곳은 '스위트파크'로, 다양한 디저트와 빵, 마카롱, 마들렌 등 맛있는 디저트를 즐기실 수 있으며, 분위기도 좋아요. 또, 일본 오모테산도 출신의 디저트 브랜드 '가리게트'도 작은 규모지만 섬세한 디저트를 맛볼 수 있습니다.\n"
     ]
    }
   ],
   "source": [
    "from langchain.prompts import PromptTemplate # 프롬포트 담당\n",
    "from langchain_openai import ChatOpenAI # AI 담당\n",
    "from langchain_core.output_parsers import StrOutputParser # 파서 담당\n",
    "from langchain_core.runnables import RunnableLambda, RunnablePassthrough\n",
    "\n",
    "llm = ChatOpenAI(model='gpt-4.1-nano')\n",
    "\n",
    "prompt = PromptTemplate(\n",
    "    input_variables=['query', 'search_results'],\n",
    "\n",
    "    template='''넌 웹 검색결과를 요약해서 사용자 질문에 맞게 좋은 답을 해주는 챗봇이야.\n",
    "\n",
    "    질문: {query}\n",
    "    검색결과: {search_results}\n",
    "    질문에 맞는 답을 검색결과 바탕으로 간단하게 알려줘\n",
    "    '''\n",
    ")\n",
    "\n",
    "\n",
    "chain = (\n",
    "    {\n",
    "        'query': RunnablePassthrough(), # 사용자 입력 그대로 이 자리에 들어옴\n",
    "        'search_results': search_tool | RunnableLambda(\n",
    "            lambda x: '\\n'.join(\n",
    "                f'-{r['title']}: {r['content']}' for r in x['results'] # content말고 url이라고만 하면 내용 제대로 안나옴\n",
    "        )\n",
    "        )\n",
    "    }\n",
    "    | prompt | llm | StrOutputParser()\n",
    ")\n",
    "\n",
    "print(chain.invoke('강남 신세계 디저트 추천해줘'))"
   ]
  }
 ],
 "metadata": {
  "kernelspec": {
   "display_name": "Python 3",
   "language": "python",
   "name": "python3"
  },
  "language_info": {
   "codemirror_mode": {
    "name": "ipython",
    "version": 3
   },
   "file_extension": ".py",
   "mimetype": "text/x-python",
   "name": "python",
   "nbconvert_exporter": "python",
   "pygments_lexer": "ipython3",
   "version": "3.13.2"
  }
 },
 "nbformat": 4,
 "nbformat_minor": 5
}
