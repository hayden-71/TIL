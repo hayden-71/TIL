{
 "cells": [
  {
   "cell_type": "code",
   "execution_count": 1,
   "id": "cf70fb96",
   "metadata": {},
   "outputs": [
    {
     "name": "stdout",
     "output_type": "stream",
     "text": [
      "Mary's cosmetics\n",
      "신씨가 소리질렀다. \"도둑이야\".\n",
      "안녕하세요.\n",
      "만나서\t\t반갑습니다.\n",
      "naver;kakao;sk;samsung\n"
     ]
    }
   ],
   "source": [
    "print(\"Mary's cosmetics\")\n",
    "\n",
    "print(f'신씨가 소리질렀다. \"도둑이야\".')\n",
    "\n",
    "print(\"안녕하세요.\\n만나서\\t\\t반갑습니다.\")\n",
    "\n",
    "print('naver', 'kakao', 'sk', 'samsung', sep=\";\")"
   ]
  },
  {
   "cell_type": "code",
   "execution_count": 3,
   "id": "b7187700",
   "metadata": {},
   "outputs": [
    {
     "name": "stdout",
     "output_type": "stream",
     "text": [
      "1.6666666666666667\n",
      "5000000\n",
      "298000000000000 <class 'int'>\n",
      "50000 <class 'int'>\n",
      "15.79 <class 'float'>\n"
     ]
    }
   ],
   "source": [
    "print(5/3)\n",
    "\n",
    "삼성전자 = 500000\n",
    "print(삼성전자*10)\n",
    "\n",
    "시가총액 = 298000000000000\n",
    "현재가 = 50000\n",
    "PER = 15.79\n",
    "print(시가총액, type(시가총액))\n",
    "print(현재가, type(현재가))\n",
    "print(PER, type(PER))"
   ]
  },
  {
   "cell_type": "code",
   "execution_count": 20,
   "id": "eab8a127",
   "metadata": {},
   "outputs": [
    {
     "name": "stdout",
     "output_type": "stream",
     "text": [
      "hello! python\n"
     ]
    }
   ],
   "source": [
    "s = \"hello\"\n",
    "t = \"python\"\n",
    "print(s+'!', t)"
   ]
  },
  {
   "cell_type": "code",
   "execution_count": 24,
   "id": "f24232db",
   "metadata": {},
   "outputs": [
    {
     "data": {
      "text/plain": [
       "float"
      ]
     },
     "execution_count": 24,
     "metadata": {},
     "output_type": "execute_result"
    }
   ],
   "source": [
    "num_str = \"720\"\n",
    "num_int = int(num_str)\n",
    "type(num_int)\n",
    "\n",
    "\n",
    "num = 100\n",
    "num_str = str(num)\n",
    "num_str\n",
    "\n",
    "str = \"15.79\"\n",
    "type(float(str))"
   ]
  },
  {
   "cell_type": "code",
   "execution_count": null,
   "id": "d80a73f3",
   "metadata": {},
   "outputs": [
    {
     "name": "stdout",
     "output_type": "stream",
     "text": [
      "p t\n",
      "2210\n",
      "홀홀홀\n",
      "NOHTYP\n",
      "010 1111 2222\n",
      "01011112222\n",
      "kr\n",
      "abcdfe2a354a32a\n"
     ]
    }
   ],
   "source": [
    "# 문자열 ~30번\n",
    "\n",
    "letters = 'python'\n",
    "print(letters[0], letters[2])\n",
    "\n",
    "license_plate = \"24가 2210\"\n",
    "print(license_plate[-4:])\n",
    "\n",
    "string = \"홀짝홀짝홀짝\"\n",
    "print(string[::2]) # 시작인덱스:끝인덱스:오프셋\n",
    "\n",
    "# 문자열을 거꾸로 뒤집어 출력하세요\n",
    "string = \"PYTHON\"\n",
    "print(string[::-1])\n",
    "\n",
    "# - 없애서 출력\n",
    "phone_number = \"010-1111-2222\"\n",
    "print(phone_number.replace(\"-\", \" \"))\n",
    "print(phone_number.replace(\"-\", \"\"))\n",
    "\n",
    "# 도메인 출력\n",
    "url = \"http://sharebook.kr\"\n",
    "print(url.split('.')[-1])\n",
    "\n",
    "# 대문자로 바꾸깅 (문자열은 immutable이라 안 바뀐당!)\n",
    "string = 'abcdfe2a354a32a'\n",
    "string.replace('a', 'A')\n",
    "print(string)"
   ]
  },
  {
   "cell_type": "code",
   "execution_count": 21,
   "id": "810c4bb4",
   "metadata": {},
   "outputs": [
    {
     "name": "stdout",
     "output_type": "stream",
     "text": [
      "python java python java python java python java \n",
      "이름: 김민수 나이: 10\n",
      "이름: 김민수 나이: 10\n",
      "이름: 김민수 나이: 10\n",
      "5969782550\n",
      "2020/03\n"
     ]
    },
    {
     "data": {
      "text/plain": [
       "'삼성전자'"
      ]
     },
     "execution_count": 21,
     "metadata": {},
     "output_type": "execute_result"
    }
   ],
   "source": [
    "# 문자열 ~40번\n",
    "t1 = \"python\"\n",
    "t2 = \"java\"\n",
    "t3 = t1 + ' ' + t2 + ' '\n",
    "print(t3 * 4)\n",
    "\n",
    "# % formatting 형식지정 (\"문자열 % 형식지정자\" % 값)\n",
    "# %s → 문자열 (str)\n",
    "# %d → 정수 (int)\n",
    "# %f → 실수 (float)\n",
    "name1 = \"김민수\" \n",
    "age1 = 10\n",
    "print('이름: %s' %name1, '나이: %d' %age1)\n",
    "print('이름: %s 나이: %d' %(name1, age1))\n",
    "\n",
    "print(f'이름: {name1} 나이: {age1}')\n",
    "\n",
    "\n",
    "상장주식수 = \"5,969,782,550\"\n",
    "상장주식수 = 상장주식수.replace(\",\",'')\n",
    "print(int(상장주식수))\n",
    "\n",
    "분기 = \"2020/03(E) (IFRS연결)\"\n",
    "print(분기[:7])\n",
    "\n",
    "data = \"   삼성전자    \"\n",
    "data.strip()"
   ]
  },
  {
   "cell_type": "code",
   "execution_count": null,
   "id": "e6d02587",
   "metadata": {},
   "outputs": [
    {
     "name": "stdout",
     "output_type": "stream",
     "text": [
      "Hello\n",
      "True\n",
      "False\n"
     ]
    },
    {
     "data": {
      "text/plain": [
       "'2020-05-01 .'"
      ]
     },
     "execution_count": 37,
     "metadata": {},
     "output_type": "execute_result"
    }
   ],
   "source": [
    "# ~50\n",
    "ticker = \"btc_krw\"\n",
    "ticker.upper()\n",
    "\n",
    "x = 'hello'\n",
    "print(x.capitalize())\n",
    "\n",
    "file_name = \"보고서.xlsx\"\n",
    "print(file_name.endswith(('xlsx', 'xlss'))) # 튜플 중 하나라도 맞으면 True\n",
    "\n",
    "file_name = \"2020_보고서.xlsx\"\n",
    "print(file_name.startswith('1'))\n",
    "\n",
    "a = \"hello_world\"\n",
    "a.split('_')\n",
    "\n",
    "date = \"2020-05-01 .     \"\n",
    "date.rstrip()"
   ]
  },
  {
   "cell_type": "code",
   "execution_count": 57,
   "id": "fb5f054e",
   "metadata": {},
   "outputs": [
    {
     "name": "stdout",
     "output_type": "stream",
     "text": [
      "['닥터 스트레인지', '바보', '스플릿', '럭키', '배트맨']\n",
      "['닥터 스트레인지', '바보', '스플릿', '배트맨']\n",
      "['C', 'C++', 'JAVA', 'Python', 'Go', 'C#']\n",
      "15\n",
      "15\n"
     ]
    },
    {
     "data": {
      "text/plain": [
       "12"
      ]
     },
     "execution_count": 57,
     "metadata": {},
     "output_type": "execute_result"
    }
   ],
   "source": [
    "# ~60 리스트\n",
    "movie_rank = {\n",
    "    1: '닥스',\n",
    "    2: '스플릿',\n",
    "    3: '럭키'\n",
    "}\n",
    "movie_rank\n",
    "\n",
    "\n",
    "# 사이에 바보 넣어~~ insert(인덱스, 원소)\n",
    "movie_rank = ['닥터 스트레인지', '스플릿', '럭키', '배트맨']\n",
    "movie_rank.insert(1, '바보')\n",
    "print(movie_rank)\n",
    "\n",
    "del movie_rank[3]\n",
    "print(movie_rank)\n",
    "\n",
    "\n",
    "lang1 = [\"C\", \"C++\", \"JAVA\"]\n",
    "lang2 = [\"Python\", \"Go\", \"C#\"]\n",
    "print(lang1+lang2)\n",
    "\n",
    "nums = [1, 2, 3, 4, 5]\n",
    "min(nums)\n",
    "\n",
    "print(sum(nums))\n",
    "\n",
    "total = 0\n",
    "for num in nums:\n",
    "    total += num\n",
    "print(total)\n",
    "\n",
    "\n",
    "cook = [\"피자\", \"김밥\", \"만두\", \"양념치킨\", \"족발\", \"피자\", \"김치만두\", \"쫄면\", \"소시지\", \"라면\", \"팥빙수\", \"김치전\"]\n",
    "len(cook)"
   ]
  },
  {
   "cell_type": "code",
   "execution_count": 71,
   "id": "836b6097",
   "metadata": {},
   "outputs": [],
   "source": [
    "# 메서드 = “그 자료형만의 전용 버튼”\n",
    "# 👉 그래서 객체.메서드() 형태\n",
    "\n",
    "# \"hello\".upper()   # 문자열만 가능\n",
    "# [1,2,3].append(4) # 리스트만 가능\n",
    "\n",
    "\n",
    "# 함수 = “파이썬 공용 도구”\n",
    "# 👉 그래서 그냥 함수이름(데이터)\n",
    "\n",
    "# len(\"hello\")   # 문자열, 리스트, 튜플, 딕셔너리 다 됨\n",
    "# min([3,1,5])   # 자료형 가리지 않음"
   ]
  },
  {
   "cell_type": "markdown",
   "id": "f502fa2e",
   "metadata": {},
   "source": [
    "## `# ~70`"
   ]
  },
  {
   "cell_type": "code",
   "execution_count": null,
   "id": "710411d7",
   "metadata": {},
   "outputs": [
    {
     "name": "stdout",
     "output_type": "stream",
     "text": [
      "삼성전자 LG전자 Naver SK하이닉스 미래에셋대우\n",
      "삼성전자/LG전자/Naver/SK하이닉스/미래에셋대우\n",
      "삼성전자\n",
      "LG전자\n",
      "Naver\n",
      "SK하이닉스\n",
      "미래에셋대우\n",
      "[1, 2, 3, 4, 5, 9, 10]\n"
     ]
    }
   ],
   "source": [
    "\n",
    "price = ['20180728', 100, 130, 140, 150, 160, 170]\n",
    "price[1:]\n",
    "\n",
    "nums = [1, 2, 3, 4, 5, 6, 7, 8, 9, 10]\n",
    "nums[::2]\n",
    "nums[1::2]\n",
    "nums[::-1]\n",
    "\n",
    "interest = ['삼성전자', 'LG전자', 'Naver']\n",
    "del interest[1]\n",
    "interest\n",
    "\n",
    "# join\n",
    "interest = ['삼성전자', 'LG전자', 'Naver', 'SK하이닉스', '미래에셋대우']\n",
    "print(\" \".join(interest))\n",
    "\n",
    "print('/'.join(interest))\n",
    "\n",
    "print('\\n'.join(interest))\n",
    "\n",
    "\n",
    "# split\n",
    "string = \"삼성전자/LG전자/Naver\"\n",
    "string.split('/')\n",
    "\n",
    "# 정렬\n",
    "data = [2, 4, 3, 1, 5, 10, 9]\n",
    "data.sort()\n",
    "print(data)"
   ]
  },
  {
   "cell_type": "markdown",
   "id": "f98040cb",
   "metadata": {},
   "source": [
    "## `# ~80 튜플`"
   ]
  },
  {
   "cell_type": "code",
   "execution_count": null,
   "id": "45e4cf5e",
   "metadata": {},
   "outputs": [
    {
     "ename": "TypeError",
     "evalue": "'tuple' object does not support item assignment",
     "output_type": "error",
     "traceback": [
      "\u001b[31m---------------------------------------------------------------------------\u001b[39m",
      "\u001b[31mTypeError\u001b[39m                                 Traceback (most recent call last)",
      "\u001b[36mCell\u001b[39m\u001b[36m \u001b[39m\u001b[32mIn[80]\u001b[39m\u001b[32m, line 8\u001b[39m\n\u001b[32m      6\u001b[39m \u001b[38;5;66;03m# tuple은 원소(element)의 값을 변경할 수 없습니다.\u001b[39;00m\n\u001b[32m      7\u001b[39m t = (\u001b[32m1\u001b[39m, \u001b[32m2\u001b[39m, \u001b[32m3\u001b[39m)\n\u001b[32m----> \u001b[39m\u001b[32m8\u001b[39m \u001b[43mt\u001b[49m\u001b[43m[\u001b[49m\u001b[32;43m0\u001b[39;49m\u001b[43m]\u001b[49m = \u001b[33m'\u001b[39m\u001b[33ma\u001b[39m\u001b[33m'\u001b[39m\n",
      "\u001b[31mTypeError\u001b[39m: 'tuple' object does not support item assignment"
     ]
    }
   ],
   "source": [
    "\n",
    "# tuple은 원소(element)의 값을 변경할 수 없습니다.\n",
    "t = (1, 2, 3)\n",
    "t[0] = 'a'\n"
   ]
  },
  {
   "cell_type": "code",
   "execution_count": 90,
   "id": "2440d481",
   "metadata": {},
   "outputs": [
    {
     "name": "stdout",
     "output_type": "stream",
     "text": [
      "apple banana cake\n"
     ]
    },
    {
     "data": {
      "text/plain": [
       "(2, 4, 6, 8, 10, 12, 14, 16, 18, 20, 22, 24, 26, 28, 30)"
      ]
     },
     "execution_count": 90,
     "metadata": {},
     "output_type": "execute_result"
    }
   ],
   "source": [
    "# 괄호 안에 안 넣어도 튜플로 인식\n",
    "t = 1, 2, 3, 4\n",
    "type(t)\n",
    "\n",
    "# 리스트로 변환하기\n",
    "t = list(t)\n",
    "t\n",
    "\n",
    "# 튜플의 언패킹\n",
    "temp = ('apple', 'banana', 'cake')\n",
    "a, b, c = temp\n",
    "print(a, b, c)\n",
    "\n",
    "t = tuple(range(2, 31, 2))\n",
    "t"
   ]
  },
  {
   "cell_type": "markdown",
   "id": "79940cc1",
   "metadata": {},
   "source": [
    "## `~90 딕셔너리`"
   ]
  },
  {
   "cell_type": "code",
   "execution_count": 104,
   "id": "959c4231",
   "metadata": {},
   "outputs": [
    {
     "name": "stdout",
     "output_type": "stream",
     "text": [
      "[8.8, 8.9, 8.7, 9.2, 9.3, 9.7, 9.9, 9.5]\n",
      "[8.9, 8.7, 9.2, 9.3, 9.7, 9.9, 9.5, 7.8]\n",
      "{'메로나': 1000, '폴라포': 1200, '빵빠레': 1800}\n",
      "{'메로나': 1000, '폴라포': 1200, '빵빠레': 1800, '죠스바': 1200}\n",
      "메로나 가격: 1000\n",
      "5000\n"
     ]
    }
   ],
   "source": [
    "# 좌측 8개의 값을 valid_score 변수에 바인딩\n",
    "scores = [8.8, 8.9, 8.7, 9.2, 9.3, 9.7, 9.9, 9.5, 7.8, 9.4]\n",
    "*vaild_score,_,_ = scores\n",
    "print(vaild_score)\n",
    "\n",
    "_,*vaild_score,_ = scores\n",
    "print(vaild_score)\n",
    "\n",
    "ice = {\n",
    "    '메로나':1000,\n",
    "    '폴라포':1200,\n",
    "    '빵빠레':1800\n",
    "}\n",
    "print(ice)\n",
    "\n",
    "# 딕셔너리에 값 추가\n",
    "ice['죠스바'] = 1200\n",
    "print(ice)\n",
    "\n",
    "# 딕셔너리에 값 불러오기\n",
    "print('메로나 가격:', ice['메로나'])\n",
    "\n",
    "# 값 수정\n",
    "ice['메로나']=5000\n",
    "print(ice['메로나'])"
   ]
  },
  {
   "cell_type": "markdown",
   "id": "3224c78b",
   "metadata": {},
   "source": [
    "## `# ~100`"
   ]
  },
  {
   "cell_type": "code",
   "execution_count": 113,
   "id": "b773679d",
   "metadata": {},
   "outputs": [
    {
     "name": "stdout",
     "output_type": "stream",
     "text": [
      "3000\n",
      "30\n",
      "{'메로나': [3000, 30], '비비빅': [4000, 10], '월드콘': [5000, 15]}\n",
      "['탱크보이', '폴라포', '빵빠레', '월드콘', '메로나']\n",
      "[1200, 1200, 1800, 1500, 1000]\n"
     ]
    }
   ],
   "source": [
    "inventory = {'메로나':[3000, 30], '비비빅':[4000, 10]}\n",
    "print(inventory['메로나'][0])\n",
    "print(inventory['메로나'][-1])\n",
    "\n",
    "inventory['월드콘'] = [5000, 15]\n",
    "print(inventory)\n",
    "\n",
    "# 키값으로만 구성된 리스트 만들기\n",
    "icecream = {'탱크보이': 1200, '폴라포': 1200, '빵빠레': 1800, '월드콘': 1500, '메로나': 1000}\n",
    "print(list(icecream.keys()))\n",
    "print(list(icecream.values()))"
   ]
  },
  {
   "cell_type": "markdown",
   "id": "199b78fa",
   "metadata": {},
   "source": []
  },
  {
   "cell_type": "code",
   "execution_count": null,
   "id": "07d7023a",
   "metadata": {},
   "outputs": [],
   "source": []
  }
 ],
 "metadata": {
  "kernelspec": {
   "display_name": "Python 3",
   "language": "python",
   "name": "python3"
  },
  "language_info": {
   "codemirror_mode": {
    "name": "ipython",
    "version": 3
   },
   "file_extension": ".py",
   "mimetype": "text/x-python",
   "name": "python",
   "nbconvert_exporter": "python",
   "pygments_lexer": "ipython3",
   "version": "3.13.2"
  }
 },
 "nbformat": 4,
 "nbformat_minor": 5
}
