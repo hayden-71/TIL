{
 "cells": [
  {
   "cell_type": "code",
   "execution_count": 1,
   "id": "cf70fb96",
   "metadata": {},
   "outputs": [
    {
     "name": "stdout",
     "output_type": "stream",
     "text": [
      "Mary's cosmetics\n",
      "신씨가 소리질렀다. \"도둑이야\".\n",
      "안녕하세요.\n",
      "만나서\t\t반갑습니다.\n",
      "naver;kakao;sk;samsung\n"
     ]
    }
   ],
   "source": [
    "print(\"Mary's cosmetics\")\n",
    "\n",
    "print(f'신씨가 소리질렀다. \"도둑이야\".')\n",
    "\n",
    "print(\"안녕하세요.\\n만나서\\t\\t반갑습니다.\")\n",
    "\n",
    "print('naver', 'kakao', 'sk', 'samsung', sep=\";\")"
   ]
  },
  {
   "cell_type": "code",
   "execution_count": 2,
   "id": "b7187700",
   "metadata": {},
   "outputs": [
    {
     "name": "stdout",
     "output_type": "stream",
     "text": [
      "1.6666666666666667\n",
      "5000000\n",
      "298000000000000 <class 'int'>\n",
      "50000 <class 'int'>\n",
      "15.79 <class 'float'>\n"
     ]
    }
   ],
   "source": [
    "print(5/3)\n",
    "\n",
    "삼성전자 = 500000\n",
    "print(삼성전자*10)\n",
    "\n",
    "시가총액 = 298000000000000\n",
    "현재가 = 50000\n",
    "PER = 15.79\n",
    "print(시가총액, type(시가총액))\n",
    "print(현재가, type(현재가))\n",
    "print(PER, type(PER))"
   ]
  },
  {
   "cell_type": "code",
   "execution_count": 3,
   "id": "eab8a127",
   "metadata": {},
   "outputs": [
    {
     "name": "stdout",
     "output_type": "stream",
     "text": [
      "hello! python\n"
     ]
    }
   ],
   "source": [
    "s = \"hello\"\n",
    "t = \"python\"\n",
    "print(s+'!', t)"
   ]
  },
  {
   "cell_type": "code",
   "execution_count": 4,
   "id": "f24232db",
   "metadata": {},
   "outputs": [
    {
     "data": {
      "text/plain": [
       "float"
      ]
     },
     "execution_count": 4,
     "metadata": {},
     "output_type": "execute_result"
    }
   ],
   "source": [
    "num_str = \"720\"\n",
    "num_int = int(num_str)\n",
    "type(num_int)\n",
    "\n",
    "\n",
    "num = 100\n",
    "num_str = str(num)\n",
    "num_str\n",
    "\n",
    "str = \"15.79\"\n",
    "type(float(str))"
   ]
  },
  {
   "cell_type": "code",
   "execution_count": 5,
   "id": "d80a73f3",
   "metadata": {},
   "outputs": [
    {
     "name": "stdout",
     "output_type": "stream",
     "text": [
      "p t\n",
      "2210\n",
      "홀홀홀\n",
      "NOHTYP\n",
      "010 1111 2222\n",
      "01011112222\n",
      "kr\n",
      "abcdfe2a354a32a\n"
     ]
    }
   ],
   "source": [
    "# 문자열 ~30번\n",
    "\n",
    "letters = 'python'\n",
    "print(letters[0], letters[2])\n",
    "\n",
    "license_plate = \"24가 2210\"\n",
    "print(license_plate[-4:])\n",
    "\n",
    "string = \"홀짝홀짝홀짝\"\n",
    "print(string[::2]) # 시작인덱스:끝인덱스:오프셋\n",
    "\n",
    "# 문자열을 거꾸로 뒤집어 출력하세요\n",
    "string = \"PYTHON\"\n",
    "print(string[::-1])\n",
    "\n",
    "# - 없애서 출력\n",
    "phone_number = \"010-1111-2222\"\n",
    "print(phone_number.replace(\"-\", \" \"))\n",
    "print(phone_number.replace(\"-\", \"\"))\n",
    "\n",
    "# 도메인 출력\n",
    "url = \"http://sharebook.kr\"\n",
    "print(url.split('.')[-1])\n",
    "\n",
    "# 대문자로 바꾸깅 (문자열은 immutable이라 안 바뀐당!)\n",
    "string = 'abcdfe2a354a32a'\n",
    "string.replace('a', 'A')\n",
    "print(string)"
   ]
  },
  {
   "cell_type": "code",
   "execution_count": 6,
   "id": "810c4bb4",
   "metadata": {},
   "outputs": [
    {
     "name": "stdout",
     "output_type": "stream",
     "text": [
      "python java python java python java python java \n",
      "이름: 김민수 나이: 10\n",
      "이름: 김민수 나이: 10\n",
      "이름: 김민수 나이: 10\n",
      "5969782550\n",
      "2020/03\n"
     ]
    },
    {
     "data": {
      "text/plain": [
       "'삼성전자'"
      ]
     },
     "execution_count": 6,
     "metadata": {},
     "output_type": "execute_result"
    }
   ],
   "source": [
    "# 문자열 ~40번\n",
    "t1 = \"python\"\n",
    "t2 = \"java\"\n",
    "t3 = t1 + ' ' + t2 + ' '\n",
    "print(t3 * 4)\n",
    "\n",
    "# % formatting 형식지정 (\"문자열 % 형식지정자\" % 값)\n",
    "# %s → 문자열 (str)\n",
    "# %d → 정수 (int)\n",
    "# %f → 실수 (float)\n",
    "name1 = \"김민수\" \n",
    "age1 = 10\n",
    "print('이름: %s' %name1, '나이: %d' %age1)\n",
    "print('이름: %s 나이: %d' %(name1, age1))\n",
    "\n",
    "print(f'이름: {name1} 나이: {age1}')\n",
    "\n",
    "\n",
    "상장주식수 = \"5,969,782,550\"\n",
    "상장주식수 = 상장주식수.replace(\",\",'')\n",
    "print(int(상장주식수))\n",
    "\n",
    "분기 = \"2020/03(E) (IFRS연결)\"\n",
    "print(분기[:7])\n",
    "\n",
    "data = \"   삼성전자    \"\n",
    "data.strip()"
   ]
  },
  {
   "cell_type": "code",
   "execution_count": 7,
   "id": "e6d02587",
   "metadata": {},
   "outputs": [
    {
     "name": "stdout",
     "output_type": "stream",
     "text": [
      "Hello\n",
      "True\n",
      "False\n"
     ]
    },
    {
     "data": {
      "text/plain": [
       "'2020-05-01 .'"
      ]
     },
     "execution_count": 7,
     "metadata": {},
     "output_type": "execute_result"
    }
   ],
   "source": [
    "# ~50\n",
    "ticker = \"btc_krw\"\n",
    "ticker.upper()\n",
    "\n",
    "x = 'hello'\n",
    "print(x.capitalize())\n",
    "\n",
    "file_name = \"보고서.xlsx\"\n",
    "print(file_name.endswith(('xlsx', 'xlss'))) # 튜플 중 하나라도 맞으면 True\n",
    "\n",
    "file_name = \"2020_보고서.xlsx\"\n",
    "print(file_name.startswith('1'))\n",
    "\n",
    "a = \"hello_world\"\n",
    "a.split('_')\n",
    "\n",
    "date = \"2020-05-01 .     \"\n",
    "date.rstrip()"
   ]
  },
  {
   "cell_type": "code",
   "execution_count": 8,
   "id": "fb5f054e",
   "metadata": {},
   "outputs": [
    {
     "name": "stdout",
     "output_type": "stream",
     "text": [
      "['닥터 스트레인지', '바보', '스플릿', '럭키', '배트맨']\n",
      "['닥터 스트레인지', '바보', '스플릿', '배트맨']\n",
      "['C', 'C++', 'JAVA', 'Python', 'Go', 'C#']\n",
      "15\n",
      "15\n"
     ]
    },
    {
     "data": {
      "text/plain": [
       "12"
      ]
     },
     "execution_count": 8,
     "metadata": {},
     "output_type": "execute_result"
    }
   ],
   "source": [
    "# ~60 리스트\n",
    "movie_rank = {\n",
    "    1: '닥스',\n",
    "    2: '스플릿',\n",
    "    3: '럭키'\n",
    "}\n",
    "movie_rank\n",
    "\n",
    "\n",
    "# 사이에 바보 넣어~~ insert(인덱스, 원소)\n",
    "movie_rank = ['닥터 스트레인지', '스플릿', '럭키', '배트맨']\n",
    "movie_rank.insert(1, '바보')\n",
    "print(movie_rank)\n",
    "\n",
    "del movie_rank[3]\n",
    "print(movie_rank)\n",
    "\n",
    "\n",
    "lang1 = [\"C\", \"C++\", \"JAVA\"]\n",
    "lang2 = [\"Python\", \"Go\", \"C#\"]\n",
    "print(lang1+lang2)\n",
    "\n",
    "nums = [1, 2, 3, 4, 5]\n",
    "min(nums)\n",
    "\n",
    "print(sum(nums))\n",
    "\n",
    "total = 0\n",
    "for num in nums:\n",
    "    total += num\n",
    "print(total)\n",
    "\n",
    "\n",
    "cook = [\"피자\", \"김밥\", \"만두\", \"양념치킨\", \"족발\", \"피자\", \"김치만두\", \"쫄면\", \"소시지\", \"라면\", \"팥빙수\", \"김치전\"]\n",
    "len(cook)"
   ]
  },
  {
   "cell_type": "code",
   "execution_count": 9,
   "id": "836b6097",
   "metadata": {},
   "outputs": [],
   "source": [
    "# 메서드 = “그 자료형만의 전용 버튼”\n",
    "# 👉 그래서 객체.메서드() 형태\n",
    "\n",
    "# \"hello\".upper()   # 문자열만 가능\n",
    "# [1,2,3].append(4) # 리스트만 가능\n",
    "\n",
    "\n",
    "# 함수 = “파이썬 공용 도구”\n",
    "# 👉 그래서 그냥 함수이름(데이터)\n",
    "\n",
    "# len(\"hello\")   # 문자열, 리스트, 튜플, 딕셔너리 다 됨\n",
    "# min([3,1,5])   # 자료형 가리지 않음"
   ]
  },
  {
   "cell_type": "markdown",
   "id": "f502fa2e",
   "metadata": {},
   "source": [
    "## `# ~70`"
   ]
  },
  {
   "cell_type": "code",
   "execution_count": 10,
   "id": "710411d7",
   "metadata": {},
   "outputs": [
    {
     "name": "stdout",
     "output_type": "stream",
     "text": [
      "삼성전자 LG전자 Naver SK하이닉스 미래에셋대우\n",
      "삼성전자/LG전자/Naver/SK하이닉스/미래에셋대우\n",
      "삼성전자\n",
      "LG전자\n",
      "Naver\n",
      "SK하이닉스\n",
      "미래에셋대우\n",
      "[1, 2, 3, 4, 5, 9, 10]\n"
     ]
    }
   ],
   "source": [
    "\n",
    "price = ['20180728', 100, 130, 140, 150, 160, 170]\n",
    "price[1:]\n",
    "\n",
    "nums = [1, 2, 3, 4, 5, 6, 7, 8, 9, 10]\n",
    "nums[::2]\n",
    "nums[1::2]\n",
    "nums[::-1]\n",
    "\n",
    "interest = ['삼성전자', 'LG전자', 'Naver']\n",
    "del interest[1]\n",
    "interest\n",
    "\n",
    "# join\n",
    "interest = ['삼성전자', 'LG전자', 'Naver', 'SK하이닉스', '미래에셋대우']\n",
    "print(\" \".join(interest))\n",
    "\n",
    "print('/'.join(interest))\n",
    "\n",
    "print('\\n'.join(interest))\n",
    "\n",
    "\n",
    "# split\n",
    "string = \"삼성전자/LG전자/Naver\"\n",
    "string.split('/')\n",
    "\n",
    "# 정렬\n",
    "data = [2, 4, 3, 1, 5, 10, 9]\n",
    "data.sort()\n",
    "print(data)"
   ]
  },
  {
   "cell_type": "markdown",
   "id": "f98040cb",
   "metadata": {},
   "source": [
    "## `# ~80 튜플`"
   ]
  },
  {
   "cell_type": "code",
   "execution_count": 11,
   "id": "45e4cf5e",
   "metadata": {},
   "outputs": [
    {
     "ename": "TypeError",
     "evalue": "'tuple' object does not support item assignment",
     "output_type": "error",
     "traceback": [
      "\u001b[31m---------------------------------------------------------------------------\u001b[39m",
      "\u001b[31mTypeError\u001b[39m                                 Traceback (most recent call last)",
      "\u001b[36mCell\u001b[39m\u001b[36m \u001b[39m\u001b[32mIn[11]\u001b[39m\u001b[32m, line 3\u001b[39m\n\u001b[32m      1\u001b[39m \u001b[38;5;66;03m# tuple은 원소(element)의 값을 변경할 수 없습니다.\u001b[39;00m\n\u001b[32m      2\u001b[39m t = (\u001b[32m1\u001b[39m, \u001b[32m2\u001b[39m, \u001b[32m3\u001b[39m)\n\u001b[32m----> \u001b[39m\u001b[32m3\u001b[39m \u001b[43mt\u001b[49m\u001b[43m[\u001b[49m\u001b[32;43m0\u001b[39;49m\u001b[43m]\u001b[49m = \u001b[33m'\u001b[39m\u001b[33ma\u001b[39m\u001b[33m'\u001b[39m\n",
      "\u001b[31mTypeError\u001b[39m: 'tuple' object does not support item assignment"
     ]
    }
   ],
   "source": [
    "\n",
    "# tuple은 원소(element)의 값을 변경할 수 없습니다.\n",
    "t = (1, 2, 3)\n",
    "t[0] = 'a'\n"
   ]
  },
  {
   "cell_type": "code",
   "execution_count": null,
   "id": "2440d481",
   "metadata": {},
   "outputs": [
    {
     "name": "stdout",
     "output_type": "stream",
     "text": [
      "apple banana cake\n"
     ]
    },
    {
     "data": {
      "text/plain": [
       "(2, 4, 6, 8, 10, 12, 14, 16, 18, 20, 22, 24, 26, 28, 30)"
      ]
     },
     "execution_count": 90,
     "metadata": {},
     "output_type": "execute_result"
    }
   ],
   "source": [
    "# 괄호 안에 안 넣어도 튜플로 인식\n",
    "t = 1, 2, 3, 4\n",
    "type(t)\n",
    "\n",
    "# 리스트로 변환하기\n",
    "t = list(t)\n",
    "t\n",
    "\n",
    "# 튜플의 언패킹\n",
    "temp = ('apple', 'banana', 'cake')\n",
    "a, b, c = temp\n",
    "print(a, b, c)\n",
    "\n",
    "t = tuple(range(2, 31, 2))\n",
    "t"
   ]
  },
  {
   "cell_type": "markdown",
   "id": "79940cc1",
   "metadata": {},
   "source": [
    "## `~90 딕셔너리`"
   ]
  },
  {
   "cell_type": "code",
   "execution_count": null,
   "id": "959c4231",
   "metadata": {},
   "outputs": [
    {
     "name": "stdout",
     "output_type": "stream",
     "text": [
      "[8.8, 8.9, 8.7, 9.2, 9.3, 9.7, 9.9, 9.5]\n",
      "[8.9, 8.7, 9.2, 9.3, 9.7, 9.9, 9.5, 7.8]\n",
      "{'메로나': 1000, '폴라포': 1200, '빵빠레': 1800}\n",
      "{'메로나': 1000, '폴라포': 1200, '빵빠레': 1800, '죠스바': 1200}\n",
      "메로나 가격: 1000\n",
      "5000\n"
     ]
    }
   ],
   "source": [
    "# 좌측 8개의 값을 valid_score 변수에 바인딩\n",
    "scores = [8.8, 8.9, 8.7, 9.2, 9.3, 9.7, 9.9, 9.5, 7.8, 9.4]\n",
    "*vaild_score,_,_ = scores\n",
    "print(vaild_score)\n",
    "\n",
    "_,*vaild_score,_ = scores\n",
    "print(vaild_score)\n",
    "\n",
    "ice = {\n",
    "    '메로나':1000,\n",
    "    '폴라포':1200,\n",
    "    '빵빠레':1800\n",
    "}\n",
    "print(ice)\n",
    "\n",
    "# 딕셔너리에 값 추가\n",
    "ice['죠스바'] = 1200\n",
    "print(ice)\n",
    "\n",
    "# 딕셔너리에 값 불러오기\n",
    "print('메로나 가격:', ice['메로나'])\n",
    "\n",
    "# 값 수정\n",
    "ice['메로나']=5000\n",
    "print(ice['메로나'])"
   ]
  },
  {
   "cell_type": "markdown",
   "id": "3224c78b",
   "metadata": {},
   "source": [
    "## `# ~100`"
   ]
  },
  {
   "cell_type": "code",
   "execution_count": 29,
   "id": "b773679d",
   "metadata": {},
   "outputs": [
    {
     "name": "stdout",
     "output_type": "stream",
     "text": [
      "3000\n",
      "30\n",
      "{'메로나': [3000, 30], '비비빅': [4000, 10], '월드콘': [5000, 15]}\n",
      "['탱크보이', '폴라포', '빵빠레', '월드콘', '메로나']\n",
      "[1200, 1200, 1800, 1500, 1000]\n",
      "6700\n",
      "{'탱크보이': 1200, '폴라포': 1200, '빵빠레': 1800, '월드콘': 1500, '메로나': 1000, '팥빙수': 2700, '아맛나': 1000}\n",
      "{'apple': 300, 'pear': 250, 'peach': 400}\n",
      "{'09/05': 10500, '09/06': 10300, '09/07': 10100, '09/08': 10800, '09/09': 11000}\n"
     ]
    }
   ],
   "source": [
    "inventory = {'메로나':[3000, 30], '비비빅':[4000, 10]}\n",
    "print(inventory['메로나'][0])\n",
    "print(inventory['메로나'][-1])\n",
    "\n",
    "inventory['월드콘'] = [5000, 15]\n",
    "print(inventory)\n",
    "\n",
    "# 키값으로만 구성된 리스트 만들기\n",
    "icecream = {'탱크보이': 1200, '폴라포': 1200, '빵빠레': 1800, '월드콘': 1500, '메로나': 1000}\n",
    "print(list(icecream.keys()))\n",
    "print(list(icecream.values()))\n",
    "\n",
    "# 97. icecream 딕셔너리에서 아이스크림 판매 금액의 총합을 출력하라.\n",
    "print(sum(icecream.values()))\n",
    "\n",
    "# 딕셔너리에 딕셔너리 추가!!!!\n",
    "icecream = {'탱크보이': 1200, '폴라포': 1200, '빵빠레': 1800, '월드콘': 1500, '메로나': 1000}\n",
    "new_product = {'팥빙수':2700, '아맛나':1000}\n",
    "icecream.update(new_product)\n",
    "print(icecream)\n",
    "\n",
    "# 아래 두 개의 튜플을 하나의 딕셔너리로 변환하라. zip!!!\n",
    "keys = (\"apple\", \"pear\", \"peach\")\n",
    "vals = (300, 250, 400)\n",
    "result = dict(zip(keys, vals))\n",
    "print(result)\n",
    "\n",
    "\n",
    "date = ['09/05', '09/06', '09/07', '09/08', '09/09']\n",
    "close_price = [10500, 10300, 10100, 10800, 11000]\n",
    "close_table = dict(zip(date, close_price))\n",
    "print(close_table)"
   ]
  },
  {
   "cell_type": "markdown",
   "id": "dbb1c499",
   "metadata": {},
   "source": [
    "# `~120`"
   ]
  },
  {
   "cell_type": "code",
   "execution_count": 38,
   "id": "07d7023a",
   "metadata": {},
   "outputs": [
    {
     "name": "stdout",
     "output_type": "stream",
     "text": [
      "2020\n",
      "30\n"
     ]
    }
   ],
   "source": [
    "user = input()\n",
    "print(user*2)\n",
    "print(int(user)+10)"
   ]
  },
  {
   "cell_type": "code",
   "execution_count": 40,
   "id": "9bc05620",
   "metadata": {},
   "outputs": [
    {
     "name": "stdout",
     "output_type": "stream",
     "text": [
      "255\n"
     ]
    }
   ],
   "source": [
    "# 사용자로부터 값을 입력받은 후 해당 값에 20을 더한 값을 출력하라. \n",
    "# 단 사용자가 입력한 값과 20을 더한 계산 값이 255를 초과하는 경우 255를 출력해야 한다.\n",
    "user = input()\n",
    "num = int(user) +20\n",
    "if num > 255:\n",
    "    print(255)\n",
    "else:\n",
    "    print(num)"
   ]
  },
  {
   "cell_type": "code",
   "execution_count": null,
   "id": "1c93be28",
   "metadata": {},
   "outputs": [
    {
     "name": "stdout",
     "output_type": "stream",
     "text": [
      "255\n"
     ]
    }
   ],
   "source": [
    "# 20 뺀 값 출력. 결괏값이 0보다 작은 값이되는 경우 \n",
    "# 0을 출력하고 255보다 큰 값이 되는 경우 255를 출력해야 한다.\n",
    "user = input()\n",
    "num = int(user)-20\n",
    "if num < 0:\n",
    "    print(0)\n",
    "elif num > 255:\n",
    "    print(255)\n",
    "else:\n",
    "    print(num)"
   ]
  },
  {
   "cell_type": "code",
   "execution_count": null,
   "id": "2dabb457",
   "metadata": {},
   "outputs": [],
   "source": [
    "# 사용자로부터 입력 받은 시간이 정각인지 판별하라.\n",
    "time = input()\n",
    "if time[-2:] == 0:\n",
    "    print('정각')"
   ]
  },
  {
   "cell_type": "code",
   "execution_count": null,
   "id": "d2ccd856",
   "metadata": {},
   "outputs": [
    {
     "name": "stdout",
     "output_type": "stream",
     "text": [
      "오답\n"
     ]
    }
   ],
   "source": [
    "# 사용자로 입력받은 단어가 아래 fruit 리스트에 포함되어 있는지를 확인하라. \n",
    "# 포함되었다면 \"정답입니다\"를 아닐 경우 \"오답입니\n",
    "fruit = [\"사과\", \"포도\", \"홍시\"]\n",
    "user = input()\n",
    "if user in fruit:\n",
    "    print('정답')\n",
    "else:\n",
    "    print('오답')"
   ]
  },
  {
   "cell_type": "markdown",
   "id": "dc6c6924",
   "metadata": {},
   "source": [
    "# `~130`"
   ]
  },
  {
   "cell_type": "code",
   "execution_count": null,
   "id": "9a50b785",
   "metadata": {},
   "outputs": [
    {
     "name": "stdout",
     "output_type": "stream",
     "text": [
      "b\n"
     ]
    }
   ],
   "source": [
    "# 문자 한 개를 입력 받고, 소문자일 경우 대문자로, 대문자 일 경우, 소문자로 변경해서 출력\n",
    "user = input()\n",
    "if user.islower():\n",
    "    print(user.upper())\n",
    "else:\n",
    "    print(user.lower())"
   ]
  },
  {
   "cell_type": "code",
   "execution_count": null,
   "id": "bf1f0a83",
   "metadata": {},
   "outputs": [
    {
     "name": "stdout",
     "output_type": "stream",
     "text": [
      "B\n"
     ]
    }
   ],
   "source": [
    "# 점수 구간에 해당하는 학점이 아래와 같이 정의되어 있다. 사용자로부터 score를 입력받아 학점을 출력하라.\n",
    "score = input()\n",
    "score = int(score)\n",
    "if 81<= score <= 100:\n",
    "    print('A')\n",
    "elif 61<= score <= 80:\n",
    "    print('B')\n",
    "elif 41 <= score <= 60:\n",
    "    print(\"grade is C\")\n",
    "elif 21 <= score <= 40:\n",
    "    print(\"grade is D\")\n",
    "else:\n",
    "    print(\"grade is E\")"
   ]
  },
  {
   "cell_type": "code",
   "execution_count": 16,
   "id": "558fd883",
   "metadata": {},
   "outputs": [
    {
     "name": "stdout",
     "output_type": "stream",
     "text": [
      "3501.0\n"
     ]
    }
   ],
   "source": [
    "환율 = {'달러':1167, '엔':1.096, '유로':1268, '위안':171}\n",
    "\n",
    "money = input()\n",
    "num, currency = money.split()\n",
    "print(float(num) * 환율[currency])"
   ]
  },
  {
   "cell_type": "code",
   "execution_count": 4,
   "id": "bd8d9420",
   "metadata": {},
   "outputs": [
    {
     "name": "stdout",
     "output_type": "stream",
     "text": [
      "45\n"
     ]
    }
   ],
   "source": [
    "# 사용자로부터 세 개의 숫자를 입력 받은 후 가장 큰 숫자를 출력하라.\n",
    "num1 = input()\n",
    "num2 = input()\n",
    "num3 = input()\n",
    "num1 = int(num1)\n",
    "num2 = int(num2)\n",
    "num3 = int(num3)\n",
    "\n",
    "print(max(num1, num2, num3))"
   ]
  },
  {
   "cell_type": "code",
   "execution_count": null,
   "id": "8276fa70",
   "metadata": {},
   "outputs": [
    {
     "name": "stdout",
     "output_type": "stream",
     "text": [
      "SKT\n"
     ]
    }
   ],
   "source": [
    "# 125!!!!!!!!!!!!!\n",
    "# 휴대폰 번호 앞자리에 따라 통신사는 아래와 같이 구분된다. 사용자로부터 휴대전화 번호를 입력 받고, 통신사를 출력하는 프로그램을 작성하라.\n",
    "통신사 = {'SKT':'011',\n",
    "       'KT':'016', \n",
    "       'LGU':'019', \n",
    "       '알수없음':'010'}\n",
    "number = input()\n",
    "num = number.split('-')[0]\n",
    "\n",
    "for key, val in 통신사.items():\n",
    "    if val == num:\n",
    "        print(key)\n",
    "        break\n",
    "\n",
    "# 'builtin_function_or_method' object is not subscriptable\n",
    "# 내장함수나 매서드를 () 없이 사용할때 나오는 오류!"
   ]
  },
  {
   "cell_type": "code",
   "execution_count": null,
   "id": "6e4d4495",
   "metadata": {},
   "outputs": [
    {
     "name": "stdout",
     "output_type": "stream",
     "text": [
      "강북구\n"
     ]
    }
   ],
   "source": [
    "# 우편번호는 5자리로 구성되는데, 앞의 세자리는 구를 나타낸다. 예를들어, 강북구의 경우 010, 011, 012 세 자리로 시작한다.\n",
    "codes = input() # input은 기본이 str!!!!!\n",
    "code = codes[2]\n",
    "\n",
    "if int(code) in [0, 1, 2]: # int로 변환하거나, ['0', '1', '2'] 숫자를 str로 바꿔줘야함\n",
    "    print('강북구')\n",
    "elif int(code) in [3, 4, 5]:\n",
    "    print('도봉구')\n",
    "else:\n",
    "    print('노원구')"
   ]
  },
  {
   "cell_type": "code",
   "execution_count": 21,
   "id": "5ba11e07",
   "metadata": {},
   "outputs": [
    {
     "name": "stdout",
     "output_type": "stream",
     "text": [
      "남\n"
     ]
    }
   ],
   "source": [
    "# 주민번호로 성별 판독\n",
    "nums = input('주민번호:')\n",
    "nums = nums.split('-')[1]\n",
    "\n",
    "if nums[0] in ['1', '3']:\n",
    "    print('남')\n",
    "else:\n",
    "    print('여')"
   ]
  },
  {
   "cell_type": "code",
   "execution_count": 22,
   "id": "94fe867e",
   "metadata": {},
   "outputs": [
    {
     "name": "stdout",
     "output_type": "stream",
     "text": [
      "부산\n"
     ]
    }
   ],
   "source": [
    "#주민등록번호의 뒷 자리 7자리 중 두번째와 세번째는 지역코드를 의미한다. 출생지가 서울인지 아닌지 판단하는 코드를 작성하라\n",
    "# 지역코드\t출생지\n",
    "# 00 ~ 08\t서울\n",
    "# 09 ~ 12\t부산\n",
    "\n",
    "nums = input('주민번호: ')\n",
    "nums = nums.split('-')[1][1:2]\n",
    "\n",
    "if int(nums)>=8:\n",
    "    print('서울')\n",
    "else:\n",
    "    print('부산')"
   ]
  },
  {
   "cell_type": "code",
   "execution_count": null,
   "id": "ba8cd73d",
   "metadata": {},
   "outputs": [
    {
     "name": "stdout",
     "output_type": "stream",
     "text": [
      "땡!!\n"
     ]
    }
   ],
   "source": [
    "# 129 주민번호 유효한지 확인\n",
    "\n",
    "# 원래 있던 방식\n",
    "num = input(\"주민등록번호: \")\n",
    "계산1 = int(num[0]) * 2 + int(num[1]) * 3 + int(num[2]) * 4 + int(num[3]) * 5 + int(num[4]) * 6 + \\\n",
    "        int(num[5]) * 7 + int(num[7]) * 8 + int(num[8]) * 9 + int(num[9]) * 2 + int(num[10])* 3 + \\\n",
    "        int(num[11])* 4 + int(num[12]) * 5\n",
    "계산2 = 11 - (계산1 % 11)\n",
    "계산3 = str(계산2)\n",
    "\n",
    "if num[-1] == 계산3[-1]:\n",
    "    print(\"유효한 주민등록번호입니다.\")\n",
    "else:\n",
    "    print(\"유효하지 않은 주민등록번호입니다.\")\n",
    "\n",
    "\n",
    "# for문 활용\n",
    "user = input('주민번호: ').replace('-', '')\n",
    "\n",
    "weights = [2, 3, 4, 5, 6, 7, 8, 9, 2, 3, 4, 5]\n",
    "result = 0\n",
    "\n",
    "for i in range(12):\n",
    "    result += int(user[i]) * weights[i]\n",
    "\n",
    "계산 = 11 - (result % 11)\n",
    "계산2 = str(계산 % 10)\n",
    "\n",
    "if user[-1] == 계산2:\n",
    "    print('유효한 주민번호')\n",
    "else:\n",
    "    print('땡!!')"
   ]
  },
  {
   "cell_type": "code",
   "execution_count": 6,
   "id": "3d07ebe9",
   "metadata": {},
   "outputs": [
    {
     "name": "stdout",
     "output_type": "stream",
     "text": [
      "락장\n"
     ]
    }
   ],
   "source": [
    "import requests\n",
    "btc = requests.get(\"https://api.bithumb.com/public/ticker/\").json()['data']\n",
    "\n",
    "변동폭 = float(btc['max_price'])-float(btc['min_price'])\n",
    "if float(btc['opening_price']) - 변동폭 > float(btc['max_price']):\n",
    "    print('상승장')\n",
    "else:\n",
    "    print('락장')"
   ]
  },
  {
   "cell_type": "markdown",
   "id": "89571631",
   "metadata": {},
   "source": [
    "# `~140` for문 활용"
   ]
  },
  {
   "cell_type": "code",
   "execution_count": 7,
   "id": "7e2c63b2",
   "metadata": {},
   "outputs": [
    {
     "name": "stdout",
     "output_type": "stream",
     "text": [
      "10\n",
      "20\n",
      "30\n"
     ]
    }
   ],
   "source": [
    "변수 = [10, 20, 30]\n",
    "\n",
    "for num in 변수:\n",
    "    print(num)"
   ]
  },
  {
   "cell_type": "code",
   "execution_count": 9,
   "id": "03702765",
   "metadata": {},
   "outputs": [
    {
     "name": "stdout",
     "output_type": "stream",
     "text": [
      "10\n",
      "------\n",
      "20\n",
      "------\n",
      "30\n",
      "------\n"
     ]
    }
   ],
   "source": [
    "for 변수 in [10, 20, 30]:\n",
    "    print(변수)\n",
    "    print('------')"
   ]
  },
  {
   "cell_type": "markdown",
   "id": "914fb99b",
   "metadata": {},
   "source": [
    "# `~150` for문"
   ]
  },
  {
   "cell_type": "code",
   "execution_count": 10,
   "id": "2a424e9f",
   "metadata": {},
   "outputs": [
    {
     "name": "stdout",
     "output_type": "stream",
     "text": [
      "110\n",
      "210\n",
      "310\n"
     ]
    }
   ],
   "source": [
    "for 리스트 in [100, 200, 300]:\n",
    "    print(리스트+10)"
   ]
  },
  {
   "cell_type": "code",
   "execution_count": 15,
   "id": "7ccf0986",
   "metadata": {},
   "outputs": [
    {
     "name": "stdout",
     "output_type": "stream",
     "text": [
      "6\n",
      "4\n",
      "4\n",
      "dog 3\n",
      "cat 3\n",
      "parrot 6\n",
      "d\n",
      "c\n",
      "p\n"
     ]
    }
   ],
   "source": [
    "# 글자수\n",
    "for 리스트 in [\"SK하이닉스\", \"삼성전자\", \"LG전자\"]:\n",
    "    print(len(리스트))\n",
    "\n",
    "# 이름이랑 글자수\n",
    "리스트 = ['dog', 'cat', 'parrot']\n",
    "for 이름 in 리스트:\n",
    "  print(이름, len(이름))\n",
    "\n",
    "for 첫글자 in 리스트:\n",
    "   print(첫글자[0])"
   ]
  },
  {
   "cell_type": "code",
   "execution_count": 19,
   "id": "ddf4f0dc",
   "metadata": {},
   "outputs": [
    {
     "name": "stdout",
     "output_type": "stream",
     "text": [
      "3 x 1\n",
      "3 x 2\n",
      "3 x 3\n",
      "3 x 1 = 3\n",
      "3 x 2 = 6\n",
      "3 x 3 = 9\n"
     ]
    }
   ],
   "source": [
    "리스트 = [1, 2, 3]\n",
    "for num in 리스트:\n",
    "    print(f'3 x {num}')\n",
    "\n",
    "for num in 리스트:\n",
    "    print(f'3 x {num} = {3 * num}')"
   ]
  },
  {
   "cell_type": "code",
   "execution_count": 22,
   "id": "46ceceb8",
   "metadata": {},
   "outputs": [
    {
     "name": "stdout",
     "output_type": "stream",
     "text": [
      "나\n",
      "다\n",
      "라\n",
      "가\n",
      "다\n"
     ]
    }
   ],
   "source": [
    "# 148\n",
    "list = ['가', '나', '다', '라']\n",
    "for 한글 in list[1:]:\n",
    "    print(한글)\n",
    "\n",
    "for 한글 in list[::2]:\n",
    "    print(한글)"
   ]
  },
  {
   "cell_type": "markdown",
   "id": "b4b48967",
   "metadata": {},
   "source": [
    "#  `~160`"
   ]
  },
  {
   "cell_type": "code",
   "execution_count": 24,
   "id": "1292499a",
   "metadata": {},
   "outputs": [
    {
     "name": "stdout",
     "output_type": "stream",
     "text": [
      "-20\n",
      "-3\n"
     ]
    }
   ],
   "source": [
    "# 음수만 출력\n",
    "list = [3, -20, -3, 44]\n",
    "for num in list:\n",
    "    if num < 0:\n",
    "        print(num)"
   ]
  },
  {
   "cell_type": "code",
   "execution_count": 18,
   "id": "18f1e07b",
   "metadata": {},
   "outputs": [
    {
     "name": "stdout",
     "output_type": "stream",
     "text": [
      "3\n",
      "12\n",
      "18\n",
      "study\n",
      "python\n",
      "language\n",
      "A\n",
      "D\n",
      "b\n",
      "c\n",
      "Dog\n",
      "Cat\n",
      "Parrot\n"
     ]
    }
   ],
   "source": [
    "# for문을 사용해서 3의 배수만을 출력하라.\n",
    "\n",
    "list = [3, 100, 23, 44]\n",
    "\n",
    "for num in list:\n",
    "    if num % 3 == 0:\n",
    "        print(num)\n",
    "\n",
    "\n",
    "# 리스트에서 20 보다 작은 3의 배수를 출력하라\n",
    "\n",
    "리스트 = [13, 21, 12, 14, 30, 18]\n",
    "\n",
    "for num in 리스트:\n",
    "    if num % 3 == 0 and num<20:\n",
    "        print(num)\n",
    "\n",
    "# 리스트에서 세 글자 이상의 문자를 화면에 출력하라\n",
    "\n",
    "리스트 = [\"I\", \"study\", \"python\", \"language\", \"!\"]\n",
    "for 길이 in 리스트:\n",
    "    if len(길이) >= 3:\n",
    "        print(길이)\n",
    "\n",
    "# 리스트에서 대문자만 화면에 출력하라.\n",
    "\n",
    "리스트 = [\"A\", \"b\", \"c\", \"D\"]\n",
    "for alpha in 리스트:\n",
    "    if alpha.isupper():\n",
    "        print(alpha)\n",
    "\n",
    "for lower in 리스트:\n",
    "    if lower.islower():\n",
    "        print(lower)\n",
    "\n",
    "# 이름의 첫 글자를 대문자로 변경해서 출력하라.\n",
    "\n",
    "list = ['dog', 'cat', 'parrot']\n",
    "for l in list:\n",
    "    first = l[0].upper()\n",
    "    second = l[1:]\n",
    "    print(first+second)"
   ]
  },
  {
   "cell_type": "code",
   "execution_count": 21,
   "id": "6d31a19b",
   "metadata": {},
   "outputs": [
    {
     "name": "stdout",
     "output_type": "stream",
     "text": [
      "py\n",
      "py\n",
      "hwp\n"
     ]
    }
   ],
   "source": [
    "리스트 = ['hello.py', 'ex01.py', 'intro.hwp']\n",
    "for l in 리스트:\n",
    "    x = l.split('.')\n",
    "    print(x[1])"
   ]
  },
  {
   "cell_type": "markdown",
   "id": "6595b27f",
   "metadata": {},
   "source": [
    "# `~170`"
   ]
  },
  {
   "cell_type": "code",
   "execution_count": 45,
   "id": "c3477363",
   "metadata": {},
   "outputs": [
    {
     "name": "stdout",
     "output_type": "stream",
     "text": [
      "2022\n",
      "2026\n",
      "2030\n",
      "2034\n",
      "2038\n",
      "2042\n",
      "2046\n",
      "2050\n",
      "3\n",
      "6\n",
      "9\n",
      "12\n",
      "15\n",
      "4\n",
      "3\n",
      "2\n",
      "1\n"
     ]
    }
   ],
   "source": [
    "# range()를 사용하여 2002~2050년까지 중 월드컵이 개최되는 연도를 출력하라.\n",
    "for num in range(2022, 2051, 4):\n",
    "    print(num)\n",
    "\n",
    "# 3의 배수\n",
    "for n in range(3, 16, 3):\n",
    "    print(n)\n",
    "\n",
    "# 1씩 감소하는 숫자들을, 한 라인에 하나씩 출력하라.\n",
    "for n in range(4):\n",
    "    print(4 - n)\n"
   ]
  },
  {
   "cell_type": "code",
   "execution_count": 3,
   "id": "03a7f771",
   "metadata": {},
   "outputs": [
    {
     "name": "stdout",
     "output_type": "stream",
     "text": [
      "55\n",
      "25\n",
      "3628800\n"
     ]
    }
   ],
   "source": [
    "sum = 0\n",
    "# 10까지 다 더하기\n",
    "for n in range(11):\n",
    "    sum += n\n",
    "print(sum)\n",
    "\n",
    "# 1~10까지의 숫자 중 모든 홀수의 합을 출력하는 프로그램을 for 문을 사용하여 작성하라.\n",
    "sum2 = 0\n",
    "for n in range(11):\n",
    "    if n % 2 == 1:\n",
    "        sum2 += n\n",
    "print(sum2)\n",
    "\n",
    "# 1~10까지의 숫자를 모두 곱한 값을 출력하는 프로그램을 for 문을 사용하여 작성하라.\n",
    "sum3 = 1\n",
    "for n in range(1, 11):\n",
    "    sum3 *= n\n",
    "print(sum3)"
   ]
  },
  {
   "cell_type": "markdown",
   "id": "04439c46",
   "metadata": {},
   "source": [
    "# `~180`"
   ]
  },
  {
   "cell_type": "code",
   "execution_count": 17,
   "id": "77eb8993",
   "metadata": {},
   "outputs": [
    {
     "name": "stdout",
     "output_type": "stream",
     "text": [
      "0 3210\n",
      "1 3315\n",
      "2 3700\n",
      "3 3950\n",
      "------같은 방법---------\n",
      "0 3210\n",
      "1 3315\n",
      "2 3700\n",
      "3 3950\n",
      "-------------------\n",
      "3 3210\n",
      "2 3315\n",
      "1 3700\n",
      "0 3950\n",
      "-------------------\n",
      "100 3315\n",
      "110 3700\n",
      "120 3950\n"
     ]
    }
   ],
   "source": [
    "price_list = [3210, 3315, 3700, 3950]\n",
    "for i, v in enumerate(price_list):\n",
    "    print(i, v)\n",
    "\n",
    "print('------같은 방법---------')\n",
    "\n",
    "for i in range(4):\n",
    "    print(i, price_list[i])\n",
    "\n",
    "print('-------------------')\n",
    "\n",
    "for i in range(4):\n",
    "    print((len(price_list)-1) -i,  price_list[i])\n",
    "\n",
    "print('-------------------')\n",
    "\n",
    "for i in range(1, 4):\n",
    "    print(90+10 * i, price_list[i])"
   ]
  },
  {
   "cell_type": "code",
   "execution_count": null,
   "id": "5a6c2f13",
   "metadata": {},
   "outputs": [
    {
     "name": "stdout",
     "output_type": "stream",
     "text": [
      "가 나\n",
      "나 다\n",
      "다 라\n",
      "가 나 다\n",
      "나 다 라\n",
      "다 라 마\n",
      "라 다\n",
      "다 나\n",
      "나 가\n",
      "라 다\n",
      "다 나\n",
      "나 가\n"
     ]
    }
   ],
   "source": [
    "# 175\n",
    "my_list = [\"가\", \"나\", \"다\", \"라\"]\n",
    "for i in range(3):\n",
    "    print(my_list[i], my_list[i+1])\n",
    "\n",
    "# 176\n",
    "my_list = [\"가\", \"나\", \"다\", \"라\", \"마\"]\n",
    "for i in range(len(my_list)-2):\n",
    "    print(my_list[i], my_list[i+1], my_list[i+2])\n",
    "\n",
    "# 177\n",
    "my_list = [\"가\", \"나\", \"다\", \"라\"]\n",
    "for i in range(1, 4):\n",
    "    print(my_list[-i], my_list[-i-1])\n",
    "\n",
    "## 혹은 range를 거꾸로 돌리기\n",
    "for i in range(len(my_list)-1, 0, -1):  # 3,2,1\n",
    "    print(my_list[i], my_list[i-1])"
   ]
  },
  {
   "cell_type": "code",
   "execution_count": null,
   "id": "a0fa1479",
   "metadata": {},
   "outputs": [
    {
     "ename": "ValueError",
     "evalue": "too many values to unpack (expected 2)",
     "output_type": "error",
     "traceback": [
      "\u001b[31m---------------------------------------------------------------------------\u001b[39m",
      "\u001b[31mValueError\u001b[39m                                Traceback (most recent call last)",
      "\u001b[36mCell\u001b[39m\u001b[36m \u001b[39m\u001b[32mIn[33]\u001b[39m\u001b[32m, line 4\u001b[39m\n\u001b[32m      2\u001b[39m low_prices  = [\u001b[32m100\u001b[39m, \u001b[32m200\u001b[39m, \u001b[32m400\u001b[39m, \u001b[32m800\u001b[39m, \u001b[32m1000\u001b[39m]\n\u001b[32m      3\u001b[39m high_prices = [\u001b[32m150\u001b[39m, \u001b[32m300\u001b[39m, \u001b[32m430\u001b[39m, \u001b[32m880\u001b[39m, \u001b[32m1000\u001b[39m]\n\u001b[32m----> \u001b[39m\u001b[32m4\u001b[39m \u001b[38;5;28;01mfor\u001b[39;00m a, b \u001b[38;5;129;01min\u001b[39;00m low_prices, high_prices:\n\u001b[32m      5\u001b[39m     a-b\n",
      "\u001b[31mValueError\u001b[39m: too many values to unpack (expected 2)"
     ]
    }
   ],
   "source": [
    "# 180\n",
    "low_prices  = [100, 200, 400, 800, 1000]\n",
    "high_prices = [150, 300, 430, 880, 1000]\n"
   ]
  }
 ],
 "metadata": {
  "kernelspec": {
   "display_name": "Python 3",
   "language": "python",
   "name": "python3"
  },
  "language_info": {
   "codemirror_mode": {
    "name": "ipython",
    "version": 3
   },
   "file_extension": ".py",
   "mimetype": "text/x-python",
   "name": "python",
   "nbconvert_exporter": "python",
   "pygments_lexer": "ipython3",
   "version": "3.13.2"
  }
 },
 "nbformat": 4,
 "nbformat_minor": 5
}
